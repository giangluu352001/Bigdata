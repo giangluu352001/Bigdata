{
  "cells": [
    {
      "cell_type": "code",
      "execution_count": 1,
      "id": "0443d6f4",
      "metadata": {
        "execution": {
          "iopub.execute_input": "2022-03-28T20:30:49.477291Z",
          "iopub.status.busy": "2022-03-28T20:30:49.476591Z",
          "iopub.status.idle": "2022-03-28T20:30:51.303534Z",
          "shell.execute_reply": "2022-03-28T20:30:51.302921Z",
          "shell.execute_reply.started": "2022-03-28T20:24:48.533977Z"
        },
        "papermill": {
          "duration": 1.946147,
          "end_time": "2022-03-28T20:30:51.303691",
          "exception": false,
          "start_time": "2022-03-28T20:30:49.357544",
          "status": "completed"
        },
        "tags": [],
        "id": "0443d6f4"
      },
      "outputs": [],
      "source": [
        "import pandas as pd\n",
        "import numpy as np\n",
        "import seaborn as sns\n",
        "import matplotlib.pyplot as plt\n",
        "%matplotlib inline\n",
        "\n",
        "from sklearn.model_selection import train_test_split, KFold"
      ]
    },
    {
      "cell_type": "code",
      "execution_count": 2,
      "id": "0b0913f8",
      "metadata": {
        "execution": {
          "iopub.execute_input": "2022-03-28T20:30:51.381821Z",
          "iopub.status.busy": "2022-03-28T20:30:51.381310Z",
          "iopub.status.idle": "2022-03-28T20:30:54.983302Z",
          "shell.execute_reply": "2022-03-28T20:30:54.983712Z",
          "shell.execute_reply.started": "2022-03-28T20:24:49.588602Z"
        },
        "papermill": {
          "duration": 3.64168,
          "end_time": "2022-03-28T20:30:54.983883",
          "exception": false,
          "start_time": "2022-03-28T20:30:51.342203",
          "status": "completed"
        },
        "scrolled": true,
        "tags": [],
        "colab": {
          "base_uri": "https://localhost:8080/",
          "height": 299
        },
        "id": "0b0913f8",
        "outputId": "02d53083-2633-446e-a97f-b4cbca89dbf8"
      },
      "outputs": [
        {
          "output_type": "execute_result",
          "data": {
            "text/plain": [
              "   Time        V1        V2        V3        V4        V5        V6        V7  \\\n",
              "0   0.0 -1.359807 -0.072781  2.536347  1.378155 -0.338321  0.462388  0.239599   \n",
              "1   0.0  1.191857  0.266151  0.166480  0.448154  0.060018 -0.082361 -0.078803   \n",
              "2   1.0 -1.358354 -1.340163  1.773209  0.379780 -0.503198  1.800499  0.791461   \n",
              "3   1.0 -0.966272 -0.185226  1.792993 -0.863291 -0.010309  1.247203  0.237609   \n",
              "4   2.0 -1.158233  0.877737  1.548718  0.403034 -0.407193  0.095921  0.592941   \n",
              "\n",
              "         V8        V9  ...       V21       V22       V23       V24       V25  \\\n",
              "0  0.098698  0.363787  ... -0.018307  0.277838 -0.110474  0.066928  0.128539   \n",
              "1  0.085102 -0.255425  ... -0.225775 -0.638672  0.101288 -0.339846  0.167170   \n",
              "2  0.247676 -1.514654  ...  0.247998  0.771679  0.909412 -0.689281 -0.327642   \n",
              "3  0.377436 -1.387024  ... -0.108300  0.005274 -0.190321 -1.175575  0.647376   \n",
              "4 -0.270533  0.817739  ... -0.009431  0.798278 -0.137458  0.141267 -0.206010   \n",
              "\n",
              "        V26       V27       V28  Amount  Class  \n",
              "0 -0.189115  0.133558 -0.021053  149.62      0  \n",
              "1  0.125895 -0.008983  0.014724    2.69      0  \n",
              "2 -0.139097 -0.055353 -0.059752  378.66      0  \n",
              "3 -0.221929  0.062723  0.061458  123.50      0  \n",
              "4  0.502292  0.219422  0.215153   69.99      0  \n",
              "\n",
              "[5 rows x 31 columns]"
            ],
            "text/html": [
              "\n",
              "  <div id=\"df-e55a6460-f330-466e-a0af-ffaa8ff6ed8d\">\n",
              "    <div class=\"colab-df-container\">\n",
              "      <div>\n",
              "<style scoped>\n",
              "    .dataframe tbody tr th:only-of-type {\n",
              "        vertical-align: middle;\n",
              "    }\n",
              "\n",
              "    .dataframe tbody tr th {\n",
              "        vertical-align: top;\n",
              "    }\n",
              "\n",
              "    .dataframe thead th {\n",
              "        text-align: right;\n",
              "    }\n",
              "</style>\n",
              "<table border=\"1\" class=\"dataframe\">\n",
              "  <thead>\n",
              "    <tr style=\"text-align: right;\">\n",
              "      <th></th>\n",
              "      <th>Time</th>\n",
              "      <th>V1</th>\n",
              "      <th>V2</th>\n",
              "      <th>V3</th>\n",
              "      <th>V4</th>\n",
              "      <th>V5</th>\n",
              "      <th>V6</th>\n",
              "      <th>V7</th>\n",
              "      <th>V8</th>\n",
              "      <th>V9</th>\n",
              "      <th>...</th>\n",
              "      <th>V21</th>\n",
              "      <th>V22</th>\n",
              "      <th>V23</th>\n",
              "      <th>V24</th>\n",
              "      <th>V25</th>\n",
              "      <th>V26</th>\n",
              "      <th>V27</th>\n",
              "      <th>V28</th>\n",
              "      <th>Amount</th>\n",
              "      <th>Class</th>\n",
              "    </tr>\n",
              "  </thead>\n",
              "  <tbody>\n",
              "    <tr>\n",
              "      <th>0</th>\n",
              "      <td>0.0</td>\n",
              "      <td>-1.359807</td>\n",
              "      <td>-0.072781</td>\n",
              "      <td>2.536347</td>\n",
              "      <td>1.378155</td>\n",
              "      <td>-0.338321</td>\n",
              "      <td>0.462388</td>\n",
              "      <td>0.239599</td>\n",
              "      <td>0.098698</td>\n",
              "      <td>0.363787</td>\n",
              "      <td>...</td>\n",
              "      <td>-0.018307</td>\n",
              "      <td>0.277838</td>\n",
              "      <td>-0.110474</td>\n",
              "      <td>0.066928</td>\n",
              "      <td>0.128539</td>\n",
              "      <td>-0.189115</td>\n",
              "      <td>0.133558</td>\n",
              "      <td>-0.021053</td>\n",
              "      <td>149.62</td>\n",
              "      <td>0</td>\n",
              "    </tr>\n",
              "    <tr>\n",
              "      <th>1</th>\n",
              "      <td>0.0</td>\n",
              "      <td>1.191857</td>\n",
              "      <td>0.266151</td>\n",
              "      <td>0.166480</td>\n",
              "      <td>0.448154</td>\n",
              "      <td>0.060018</td>\n",
              "      <td>-0.082361</td>\n",
              "      <td>-0.078803</td>\n",
              "      <td>0.085102</td>\n",
              "      <td>-0.255425</td>\n",
              "      <td>...</td>\n",
              "      <td>-0.225775</td>\n",
              "      <td>-0.638672</td>\n",
              "      <td>0.101288</td>\n",
              "      <td>-0.339846</td>\n",
              "      <td>0.167170</td>\n",
              "      <td>0.125895</td>\n",
              "      <td>-0.008983</td>\n",
              "      <td>0.014724</td>\n",
              "      <td>2.69</td>\n",
              "      <td>0</td>\n",
              "    </tr>\n",
              "    <tr>\n",
              "      <th>2</th>\n",
              "      <td>1.0</td>\n",
              "      <td>-1.358354</td>\n",
              "      <td>-1.340163</td>\n",
              "      <td>1.773209</td>\n",
              "      <td>0.379780</td>\n",
              "      <td>-0.503198</td>\n",
              "      <td>1.800499</td>\n",
              "      <td>0.791461</td>\n",
              "      <td>0.247676</td>\n",
              "      <td>-1.514654</td>\n",
              "      <td>...</td>\n",
              "      <td>0.247998</td>\n",
              "      <td>0.771679</td>\n",
              "      <td>0.909412</td>\n",
              "      <td>-0.689281</td>\n",
              "      <td>-0.327642</td>\n",
              "      <td>-0.139097</td>\n",
              "      <td>-0.055353</td>\n",
              "      <td>-0.059752</td>\n",
              "      <td>378.66</td>\n",
              "      <td>0</td>\n",
              "    </tr>\n",
              "    <tr>\n",
              "      <th>3</th>\n",
              "      <td>1.0</td>\n",
              "      <td>-0.966272</td>\n",
              "      <td>-0.185226</td>\n",
              "      <td>1.792993</td>\n",
              "      <td>-0.863291</td>\n",
              "      <td>-0.010309</td>\n",
              "      <td>1.247203</td>\n",
              "      <td>0.237609</td>\n",
              "      <td>0.377436</td>\n",
              "      <td>-1.387024</td>\n",
              "      <td>...</td>\n",
              "      <td>-0.108300</td>\n",
              "      <td>0.005274</td>\n",
              "      <td>-0.190321</td>\n",
              "      <td>-1.175575</td>\n",
              "      <td>0.647376</td>\n",
              "      <td>-0.221929</td>\n",
              "      <td>0.062723</td>\n",
              "      <td>0.061458</td>\n",
              "      <td>123.50</td>\n",
              "      <td>0</td>\n",
              "    </tr>\n",
              "    <tr>\n",
              "      <th>4</th>\n",
              "      <td>2.0</td>\n",
              "      <td>-1.158233</td>\n",
              "      <td>0.877737</td>\n",
              "      <td>1.548718</td>\n",
              "      <td>0.403034</td>\n",
              "      <td>-0.407193</td>\n",
              "      <td>0.095921</td>\n",
              "      <td>0.592941</td>\n",
              "      <td>-0.270533</td>\n",
              "      <td>0.817739</td>\n",
              "      <td>...</td>\n",
              "      <td>-0.009431</td>\n",
              "      <td>0.798278</td>\n",
              "      <td>-0.137458</td>\n",
              "      <td>0.141267</td>\n",
              "      <td>-0.206010</td>\n",
              "      <td>0.502292</td>\n",
              "      <td>0.219422</td>\n",
              "      <td>0.215153</td>\n",
              "      <td>69.99</td>\n",
              "      <td>0</td>\n",
              "    </tr>\n",
              "  </tbody>\n",
              "</table>\n",
              "<p>5 rows × 31 columns</p>\n",
              "</div>\n",
              "      <button class=\"colab-df-convert\" onclick=\"convertToInteractive('df-e55a6460-f330-466e-a0af-ffaa8ff6ed8d')\"\n",
              "              title=\"Convert this dataframe to an interactive table.\"\n",
              "              style=\"display:none;\">\n",
              "        \n",
              "  <svg xmlns=\"http://www.w3.org/2000/svg\" height=\"24px\"viewBox=\"0 0 24 24\"\n",
              "       width=\"24px\">\n",
              "    <path d=\"M0 0h24v24H0V0z\" fill=\"none\"/>\n",
              "    <path d=\"M18.56 5.44l.94 2.06.94-2.06 2.06-.94-2.06-.94-.94-2.06-.94 2.06-2.06.94zm-11 1L8.5 8.5l.94-2.06 2.06-.94-2.06-.94L8.5 2.5l-.94 2.06-2.06.94zm10 10l.94 2.06.94-2.06 2.06-.94-2.06-.94-.94-2.06-.94 2.06-2.06.94z\"/><path d=\"M17.41 7.96l-1.37-1.37c-.4-.4-.92-.59-1.43-.59-.52 0-1.04.2-1.43.59L10.3 9.45l-7.72 7.72c-.78.78-.78 2.05 0 2.83L4 21.41c.39.39.9.59 1.41.59.51 0 1.02-.2 1.41-.59l7.78-7.78 2.81-2.81c.8-.78.8-2.07 0-2.86zM5.41 20L4 18.59l7.72-7.72 1.47 1.35L5.41 20z\"/>\n",
              "  </svg>\n",
              "      </button>\n",
              "      \n",
              "  <style>\n",
              "    .colab-df-container {\n",
              "      display:flex;\n",
              "      flex-wrap:wrap;\n",
              "      gap: 12px;\n",
              "    }\n",
              "\n",
              "    .colab-df-convert {\n",
              "      background-color: #E8F0FE;\n",
              "      border: none;\n",
              "      border-radius: 50%;\n",
              "      cursor: pointer;\n",
              "      display: none;\n",
              "      fill: #1967D2;\n",
              "      height: 32px;\n",
              "      padding: 0 0 0 0;\n",
              "      width: 32px;\n",
              "    }\n",
              "\n",
              "    .colab-df-convert:hover {\n",
              "      background-color: #E2EBFA;\n",
              "      box-shadow: 0px 1px 2px rgba(60, 64, 67, 0.3), 0px 1px 3px 1px rgba(60, 64, 67, 0.15);\n",
              "      fill: #174EA6;\n",
              "    }\n",
              "\n",
              "    [theme=dark] .colab-df-convert {\n",
              "      background-color: #3B4455;\n",
              "      fill: #D2E3FC;\n",
              "    }\n",
              "\n",
              "    [theme=dark] .colab-df-convert:hover {\n",
              "      background-color: #434B5C;\n",
              "      box-shadow: 0px 1px 3px 1px rgba(0, 0, 0, 0.15);\n",
              "      filter: drop-shadow(0px 1px 2px rgba(0, 0, 0, 0.3));\n",
              "      fill: #FFFFFF;\n",
              "    }\n",
              "  </style>\n",
              "\n",
              "      <script>\n",
              "        const buttonEl =\n",
              "          document.querySelector('#df-e55a6460-f330-466e-a0af-ffaa8ff6ed8d button.colab-df-convert');\n",
              "        buttonEl.style.display =\n",
              "          google.colab.kernel.accessAllowed ? 'block' : 'none';\n",
              "\n",
              "        async function convertToInteractive(key) {\n",
              "          const element = document.querySelector('#df-e55a6460-f330-466e-a0af-ffaa8ff6ed8d');\n",
              "          const dataTable =\n",
              "            await google.colab.kernel.invokeFunction('convertToInteractive',\n",
              "                                                     [key], {});\n",
              "          if (!dataTable) return;\n",
              "\n",
              "          const docLinkHtml = 'Like what you see? Visit the ' +\n",
              "            '<a target=\"_blank\" href=https://colab.research.google.com/notebooks/data_table.ipynb>data table notebook</a>'\n",
              "            + ' to learn more about interactive tables.';\n",
              "          element.innerHTML = '';\n",
              "          dataTable['output_type'] = 'display_data';\n",
              "          await google.colab.output.renderOutput(dataTable, element);\n",
              "          const docLink = document.createElement('div');\n",
              "          docLink.innerHTML = docLinkHtml;\n",
              "          element.appendChild(docLink);\n",
              "        }\n",
              "      </script>\n",
              "    </div>\n",
              "  </div>\n",
              "  "
            ]
          },
          "metadata": {},
          "execution_count": 2
        }
      ],
      "source": [
        "df = pd.read_csv(\"creditcard.csv\")\n",
        "df.head()"
      ]
    },
    {
      "cell_type": "code",
      "execution_count": 3,
      "id": "00d00d7e",
      "metadata": {
        "execution": {
          "iopub.execute_input": "2022-03-28T20:30:55.065374Z",
          "iopub.status.busy": "2022-03-28T20:30:55.064636Z",
          "iopub.status.idle": "2022-03-28T20:30:55.072453Z",
          "shell.execute_reply": "2022-03-28T20:30:55.072824Z",
          "shell.execute_reply.started": "2022-03-28T20:24:51.364755Z"
        },
        "papermill": {
          "duration": 0.050875,
          "end_time": "2022-03-28T20:30:55.072954",
          "exception": false,
          "start_time": "2022-03-28T20:30:55.022079",
          "status": "completed"
        },
        "tags": [],
        "id": "00d00d7e",
        "outputId": "d20ae428-e32f-475b-f1a9-ac2de40ff67f",
        "colab": {
          "base_uri": "https://localhost:8080/"
        }
      },
      "outputs": [
        {
          "output_type": "execute_result",
          "data": {
            "text/plain": [
              "0    284315\n",
              "1       492\n",
              "Name: Class, dtype: int64"
            ]
          },
          "metadata": {},
          "execution_count": 3
        }
      ],
      "source": [
        "df.Class.value_counts()"
      ]
    },
    {
      "cell_type": "code",
      "execution_count": 4,
      "id": "b46cdcef",
      "metadata": {
        "execution": {
          "iopub.execute_input": "2022-03-28T20:31:12.016878Z",
          "iopub.status.busy": "2022-03-28T20:31:12.016136Z",
          "iopub.status.idle": "2022-03-28T20:31:13.209331Z",
          "shell.execute_reply": "2022-03-28T20:31:13.208888Z",
          "shell.execute_reply.started": "2022-03-28T20:25:13.365305Z"
        },
        "papermill": {
          "duration": 1.23932,
          "end_time": "2022-03-28T20:31:13.209457",
          "exception": false,
          "start_time": "2022-03-28T20:31:11.970137",
          "status": "completed"
        },
        "tags": [],
        "id": "b46cdcef",
        "outputId": "21bc3115-c857-4aca-8991-bf51e00e022f",
        "colab": {
          "base_uri": "https://localhost:8080/",
          "height": 558
        }
      },
      "outputs": [
        {
          "output_type": "execute_result",
          "data": {
            "text/plain": [
              "<matplotlib.axes._subplots.AxesSubplot at 0x7ff7bc0c3110>"
            ]
          },
          "metadata": {},
          "execution_count": 4
        },
        {
          "output_type": "display_data",
          "data": {
            "text/plain": [
              "<Figure size 432x288 with 1 Axes>"
            ],
            "image/png": "[encoded data removed]"
          },
          "metadata": {
            "needs_background": "light"
          }
        },
        {
          "output_type": "display_data",
          "data": {
            "text/plain": [
              "<Figure size 432x288 with 1 Axes>"
            ],
            "image/png": "[encoded data removed]"
          },
          "metadata": {
            "needs_background": "light"
          }
        }
      ],
      "source": [
        "df[df.Class == 0].plot.scatter('Amount','Time')\n",
        "df[df.Class == 1].plot.scatter('Amount','Time')"
      ]
    },
    {
      "cell_type": "code",
      "source": [
        "# We can see non-fraudelent sample mainly in range 0 - 5000. For sample Ammount > 5000 only have 55 samples.\n",
        "# We can see it as outlier in non-fraudelent samples and it's no have significant for trainning dataset\n",
        "df[df.Amount > 5000].shape"
      ],
      "metadata": {
        "colab": {
          "base_uri": "https://localhost:8080/"
        },
        "id": "o141BBMaj8jK",
        "outputId": "503d717b-7e90-4059-a61c-ed3a7c6eb2f4"
      },
      "id": "o141BBMaj8jK",
      "execution_count": 5,
      "outputs": [
        {
          "output_type": "execute_result",
          "data": {
            "text/plain": [
              "(55, 31)"
            ]
          },
          "metadata": {},
          "execution_count": 5
        }
      ]
    },
    {
      "cell_type": "code",
      "execution_count": 6,
      "id": "73c2a519",
      "metadata": {
        "execution": {
          "iopub.execute_input": "2022-03-28T20:31:13.410304Z",
          "iopub.status.busy": "2022-03-28T20:31:13.409285Z",
          "iopub.status.idle": "2022-03-28T20:31:13.448182Z",
          "shell.execute_reply": "2022-03-28T20:31:13.447630Z",
          "shell.execute_reply.started": "2022-03-28T20:25:14.848485Z"
        },
        "papermill": {
          "duration": 0.09198,
          "end_time": "2022-03-28T20:31:13.448324",
          "exception": false,
          "start_time": "2022-03-28T20:31:13.356344",
          "status": "completed"
        },
        "tags": [],
        "id": "73c2a519",
        "colab": {
          "base_uri": "https://localhost:8080/",
          "height": 488
        },
        "outputId": "2534b759-d96a-4dcb-b051-868c140881a1"
      },
      "outputs": [
        {
          "output_type": "execute_result",
          "data": {
            "text/plain": [
              "            Time         V1         V2        V3        V4        V5  \\\n",
              "0            0.0  -1.359807  -0.072781  2.536347  1.378155 -0.338321   \n",
              "1            0.0   1.191857   0.266151  0.166480  0.448154  0.060018   \n",
              "2            1.0  -1.358354  -1.340163  1.773209  0.379780 -0.503198   \n",
              "3            1.0  -0.966272  -0.185226  1.792993 -0.863291 -0.010309   \n",
              "4            2.0  -1.158233   0.877737  1.548718  0.403034 -0.407193   \n",
              "...          ...        ...        ...       ...       ...       ...   \n",
              "284802  172786.0 -11.881118  10.071785 -9.834783 -2.066656 -5.364473   \n",
              "284803  172787.0  -0.732789  -0.055080  2.035030 -0.738589  0.868229   \n",
              "284804  172788.0   1.919565  -0.301254 -3.249640 -0.557828  2.630515   \n",
              "284805  172788.0  -0.240440   0.530483  0.702510  0.689799 -0.377961   \n",
              "284806  172792.0  -0.533413  -0.189733  0.703337 -0.506271 -0.012546   \n",
              "\n",
              "              V6        V7        V8        V9  ...       V21       V22  \\\n",
              "0       0.462388  0.239599  0.098698  0.363787  ... -0.018307  0.277838   \n",
              "1      -0.082361 -0.078803  0.085102 -0.255425  ... -0.225775 -0.638672   \n",
              "2       1.800499  0.791461  0.247676 -1.514654  ...  0.247998  0.771679   \n",
              "3       1.247203  0.237609  0.377436 -1.387024  ... -0.108300  0.005274   \n",
              "4       0.095921  0.592941 -0.270533  0.817739  ... -0.009431  0.798278   \n",
              "...          ...       ...       ...       ...  ...       ...       ...   \n",
              "284802 -2.606837 -4.918215  7.305334  1.914428  ...  0.213454  0.111864   \n",
              "284803  1.058415  0.024330  0.294869  0.584800  ...  0.214205  0.924384   \n",
              "284804  3.031260 -0.296827  0.708417  0.432454  ...  0.232045  0.578229   \n",
              "284805  0.623708 -0.686180  0.679145  0.392087  ...  0.265245  0.800049   \n",
              "284806 -0.649617  1.577006 -0.414650  0.486180  ...  0.261057  0.643078   \n",
              "\n",
              "             V23       V24       V25       V26       V27       V28  Amount  \\\n",
              "0      -0.110474  0.066928  0.128539 -0.189115  0.133558 -0.021053  149.62   \n",
              "1       0.101288 -0.339846  0.167170  0.125895 -0.008983  0.014724    2.69   \n",
              "2       0.909412 -0.689281 -0.327642 -0.139097 -0.055353 -0.059752  378.66   \n",
              "3      -0.190321 -1.175575  0.647376 -0.221929  0.062723  0.061458  123.50   \n",
              "4      -0.137458  0.141267 -0.206010  0.502292  0.219422  0.215153   69.99   \n",
              "...          ...       ...       ...       ...       ...       ...     ...   \n",
              "284802  1.014480 -0.509348  1.436807  0.250034  0.943651  0.823731    0.77   \n",
              "284803  0.012463 -1.016226 -0.606624 -0.395255  0.068472 -0.053527   24.79   \n",
              "284804 -0.037501  0.640134  0.265745 -0.087371  0.004455 -0.026561   67.88   \n",
              "284805 -0.163298  0.123205 -0.569159  0.546668  0.108821  0.104533   10.00   \n",
              "284806  0.376777  0.008797 -0.473649 -0.818267 -0.002415  0.013649  217.00   \n",
              "\n",
              "        Class  \n",
              "0           0  \n",
              "1           0  \n",
              "2           0  \n",
              "3           0  \n",
              "4           0  \n",
              "...       ...  \n",
              "284802      0  \n",
              "284803      0  \n",
              "284804      0  \n",
              "284805      0  \n",
              "284806      0  \n",
              "\n",
              "[283671 rows x 31 columns]"
            ],
            "text/html": [
              "\n",
              "  <div id=\"df-25340e5d-52ca-4df1-9f1e-fc13e72867f0\">\n",
              "    <div class=\"colab-df-container\">\n",
              "      <div>\n",
              "<style scoped>\n",
              "    .dataframe tbody tr th:only-of-type {\n",
              "        vertical-align: middle;\n",
              "    }\n",
              "\n",
              "    .dataframe tbody tr th {\n",
              "        vertical-align: top;\n",
              "    }\n",
              "\n",
              "    .dataframe thead th {\n",
              "        text-align: right;\n",
              "    }\n",
              "</style>\n",
              "<table border=\"1\" class=\"dataframe\">\n",
              "  <thead>\n",
              "    <tr style=\"text-align: right;\">\n",
              "      <th></th>\n",
              "      <th>Time</th>\n",
              "      <th>V1</th>\n",
              "      <th>V2</th>\n",
              "      <th>V3</th>\n",
              "      <th>V4</th>\n",
              "      <th>V5</th>\n",
              "      <th>V6</th>\n",
              "      <th>V7</th>\n",
              "      <th>V8</th>\n",
              "      <th>V9</th>\n",
              "      <th>...</th>\n",
              "      <th>V21</th>\n",
              "      <th>V22</th>\n",
              "      <th>V23</th>\n",
              "      <th>V24</th>\n",
              "      <th>V25</th>\n",
              "      <th>V26</th>\n",
              "      <th>V27</th>\n",
              "      <th>V28</th>\n",
              "      <th>Amount</th>\n",
              "      <th>Class</th>\n",
              "    </tr>\n",
              "  </thead>\n",
              "  <tbody>\n",
              "    <tr>\n",
              "      <th>0</th>\n",
              "      <td>0.0</td>\n",
              "      <td>-1.359807</td>\n",
              "      <td>-0.072781</td>\n",
              "      <td>2.536347</td>\n",
              "      <td>1.378155</td>\n",
              "      <td>-0.338321</td>\n",
              "      <td>0.462388</td>\n",
              "      <td>0.239599</td>\n",
              "      <td>0.098698</td>\n",
              "      <td>0.363787</td>\n",
              "      <td>...</td>\n",
              "      <td>-0.018307</td>\n",
              "      <td>0.277838</td>\n",
              "      <td>-0.110474</td>\n",
              "      <td>0.066928</td>\n",
              "      <td>0.128539</td>\n",
              "      <td>-0.189115</td>\n",
              "      <td>0.133558</td>\n",
              "      <td>-0.021053</td>\n",
              "      <td>149.62</td>\n",
              "      <td>0</td>\n",
              "    </tr>\n",
              "    <tr>\n",
              "      <th>1</th>\n",
              "      <td>0.0</td>\n",
              "      <td>1.191857</td>\n",
              "      <td>0.266151</td>\n",
              "      <td>0.166480</td>\n",
              "      <td>0.448154</td>\n",
              "      <td>0.060018</td>\n",
              "      <td>-0.082361</td>\n",
              "      <td>-0.078803</td>\n",
              "      <td>0.085102</td>\n",
              "      <td>-0.255425</td>\n",
              "      <td>...</td>\n",
              "      <td>-0.225775</td>\n",
              "      <td>-0.638672</td>\n",
              "      <td>0.101288</td>\n",
              "      <td>-0.339846</td>\n",
              "      <td>0.167170</td>\n",
              "      <td>0.125895</td>\n",
              "      <td>-0.008983</td>\n",
              "      <td>0.014724</td>\n",
              "      <td>2.69</td>\n",
              "      <td>0</td>\n",
              "    </tr>\n",
              "    <tr>\n",
              "      <th>2</th>\n",
              "      <td>1.0</td>\n",
              "      <td>-1.358354</td>\n",
              "      <td>-1.340163</td>\n",
              "      <td>1.773209</td>\n",
              "      <td>0.379780</td>\n",
              "      <td>-0.503198</td>\n",
              "      <td>1.800499</td>\n",
              "      <td>0.791461</td>\n",
              "      <td>0.247676</td>\n",
              "      <td>-1.514654</td>\n",
              "      <td>...</td>\n",
              "      <td>0.247998</td>\n",
              "      <td>0.771679</td>\n",
              "      <td>0.909412</td>\n",
              "      <td>-0.689281</td>\n",
              "      <td>-0.327642</td>\n",
              "      <td>-0.139097</td>\n",
              "      <td>-0.055353</td>\n",
              "      <td>-0.059752</td>\n",
              "      <td>378.66</td>\n",
              "      <td>0</td>\n",
              "    </tr>\n",
              "    <tr>\n",
              "      <th>3</th>\n",
              "      <td>1.0</td>\n",
              "      <td>-0.966272</td>\n",
              "      <td>-0.185226</td>\n",
              "      <td>1.792993</td>\n",
              "      <td>-0.863291</td>\n",
              "      <td>-0.010309</td>\n",
              "      <td>1.247203</td>\n",
              "      <td>0.237609</td>\n",
              "      <td>0.377436</td>\n",
              "      <td>-1.387024</td>\n",
              "      <td>...</td>\n",
              "      <td>-0.108300</td>\n",
              "      <td>0.005274</td>\n",
              "      <td>-0.190321</td>\n",
              "      <td>-1.175575</td>\n",
              "      <td>0.647376</td>\n",
              "      <td>-0.221929</td>\n",
              "      <td>0.062723</td>\n",
              "      <td>0.061458</td>\n",
              "      <td>123.50</td>\n",
              "      <td>0</td>\n",
              "    </tr>\n",
              "    <tr>\n",
              "      <th>4</th>\n",
              "      <td>2.0</td>\n",
              "      <td>-1.158233</td>\n",
              "      <td>0.877737</td>\n",
              "      <td>1.548718</td>\n",
              "      <td>0.403034</td>\n",
              "      <td>-0.407193</td>\n",
              "      <td>0.095921</td>\n",
              "      <td>0.592941</td>\n",
              "      <td>-0.270533</td>\n",
              "      <td>0.817739</td>\n",
              "      <td>...</td>\n",
              "      <td>-0.009431</td>\n",
              "      <td>0.798278</td>\n",
              "      <td>-0.137458</td>\n",
              "      <td>0.141267</td>\n",
              "      <td>-0.206010</td>\n",
              "      <td>0.502292</td>\n",
              "      <td>0.219422</td>\n",
              "      <td>0.215153</td>\n",
              "      <td>69.99</td>\n",
              "      <td>0</td>\n",
              "    </tr>\n",
              "    <tr>\n",
              "      <th>...</th>\n",
              "      <td>...</td>\n",
              "      <td>...</td>\n",
              "      <td>...</td>\n",
              "      <td>...</td>\n",
              "      <td>...</td>\n",
              "      <td>...</td>\n",
              "      <td>...</td>\n",
              "      <td>...</td>\n",
              "      <td>...</td>\n",
              "      <td>...</td>\n",
              "      <td>...</td>\n",
              "      <td>...</td>\n",
              "      <td>...</td>\n",
              "      <td>...</td>\n",
              "      <td>...</td>\n",
              "      <td>...</td>\n",
              "      <td>...</td>\n",
              "      <td>...</td>\n",
              "      <td>...</td>\n",
              "      <td>...</td>\n",
              "      <td>...</td>\n",
              "    </tr>\n",
              "    <tr>\n",
              "      <th>284802</th>\n",
              "      <td>172786.0</td>\n",
              "      <td>-11.881118</td>\n",
              "      <td>10.071785</td>\n",
              "      <td>-9.834783</td>\n",
              "      <td>-2.066656</td>\n",
              "      <td>-5.364473</td>\n",
              "      <td>-2.606837</td>\n",
              "      <td>-4.918215</td>\n",
              "      <td>7.305334</td>\n",
              "      <td>1.914428</td>\n",
              "      <td>...</td>\n",
              "      <td>0.213454</td>\n",
              "      <td>0.111864</td>\n",
              "      <td>1.014480</td>\n",
              "      <td>-0.509348</td>\n",
              "      <td>1.436807</td>\n",
              "      <td>0.250034</td>\n",
              "      <td>0.943651</td>\n",
              "      <td>0.823731</td>\n",
              "      <td>0.77</td>\n",
              "      <td>0</td>\n",
              "    </tr>\n",
              "    <tr>\n",
              "      <th>284803</th>\n",
              "      <td>172787.0</td>\n",
              "      <td>-0.732789</td>\n",
              "      <td>-0.055080</td>\n",
              "      <td>2.035030</td>\n",
              "      <td>-0.738589</td>\n",
              "      <td>0.868229</td>\n",
              "      <td>1.058415</td>\n",
              "      <td>0.024330</td>\n",
              "      <td>0.294869</td>\n",
              "      <td>0.584800</td>\n",
              "      <td>...</td>\n",
              "      <td>0.214205</td>\n",
              "      <td>0.924384</td>\n",
              "      <td>0.012463</td>\n",
              "      <td>-1.016226</td>\n",
              "      <td>-0.606624</td>\n",
              "      <td>-0.395255</td>\n",
              "      <td>0.068472</td>\n",
              "      <td>-0.053527</td>\n",
              "      <td>24.79</td>\n",
              "      <td>0</td>\n",
              "    </tr>\n",
              "    <tr>\n",
              "      <th>284804</th>\n",
              "      <td>172788.0</td>\n",
              "      <td>1.919565</td>\n",
              "      <td>-0.301254</td>\n",
              "      <td>-3.249640</td>\n",
              "      <td>-0.557828</td>\n",
              "      <td>2.630515</td>\n",
              "      <td>3.031260</td>\n",
              "      <td>-0.296827</td>\n",
              "      <td>0.708417</td>\n",
              "      <td>0.432454</td>\n",
              "      <td>...</td>\n",
              "      <td>0.232045</td>\n",
              "      <td>0.578229</td>\n",
              "      <td>-0.037501</td>\n",
              "      <td>0.640134</td>\n",
              "      <td>0.265745</td>\n",
              "      <td>-0.087371</td>\n",
              "      <td>0.004455</td>\n",
              "      <td>-0.026561</td>\n",
              "      <td>67.88</td>\n",
              "      <td>0</td>\n",
              "    </tr>\n",
              "    <tr>\n",
              "      <th>284805</th>\n",
              "      <td>172788.0</td>\n",
              "      <td>-0.240440</td>\n",
              "      <td>0.530483</td>\n",
              "      <td>0.702510</td>\n",
              "      <td>0.689799</td>\n",
              "      <td>-0.377961</td>\n",
              "      <td>0.623708</td>\n",
              "      <td>-0.686180</td>\n",
              "      <td>0.679145</td>\n",
              "      <td>0.392087</td>\n",
              "      <td>...</td>\n",
              "      <td>0.265245</td>\n",
              "      <td>0.800049</td>\n",
              "      <td>-0.163298</td>\n",
              "      <td>0.123205</td>\n",
              "      <td>-0.569159</td>\n",
              "      <td>0.546668</td>\n",
              "      <td>0.108821</td>\n",
              "      <td>0.104533</td>\n",
              "      <td>10.00</td>\n",
              "      <td>0</td>\n",
              "    </tr>\n",
              "    <tr>\n",
              "      <th>284806</th>\n",
              "      <td>172792.0</td>\n",
              "      <td>-0.533413</td>\n",
              "      <td>-0.189733</td>\n",
              "      <td>0.703337</td>\n",
              "      <td>-0.506271</td>\n",
              "      <td>-0.012546</td>\n",
              "      <td>-0.649617</td>\n",
              "      <td>1.577006</td>\n",
              "      <td>-0.414650</td>\n",
              "      <td>0.486180</td>\n",
              "      <td>...</td>\n",
              "      <td>0.261057</td>\n",
              "      <td>0.643078</td>\n",
              "      <td>0.376777</td>\n",
              "      <td>0.008797</td>\n",
              "      <td>-0.473649</td>\n",
              "      <td>-0.818267</td>\n",
              "      <td>-0.002415</td>\n",
              "      <td>0.013649</td>\n",
              "      <td>217.00</td>\n",
              "      <td>0</td>\n",
              "    </tr>\n",
              "  </tbody>\n",
              "</table>\n",
              "<p>283671 rows × 31 columns</p>\n",
              "</div>\n",
              "      <button class=\"colab-df-convert\" onclick=\"convertToInteractive('df-25340e5d-52ca-4df1-9f1e-fc13e72867f0')\"\n",
              "              title=\"Convert this dataframe to an interactive table.\"\n",
              "              style=\"display:none;\">\n",
              "        \n",
              "  <svg xmlns=\"http://www.w3.org/2000/svg\" height=\"24px\"viewBox=\"0 0 24 24\"\n",
              "       width=\"24px\">\n",
              "    <path d=\"M0 0h24v24H0V0z\" fill=\"none\"/>\n",
              "    <path d=\"M18.56 5.44l.94 2.06.94-2.06 2.06-.94-2.06-.94-.94-2.06-.94 2.06-2.06.94zm-11 1L8.5 8.5l.94-2.06 2.06-.94-2.06-.94L8.5 2.5l-.94 2.06-2.06.94zm10 10l.94 2.06.94-2.06 2.06-.94-2.06-.94-.94-2.06-.94 2.06-2.06.94z\"/><path d=\"M17.41 7.96l-1.37-1.37c-.4-.4-.92-.59-1.43-.59-.52 0-1.04.2-1.43.59L10.3 9.45l-7.72 7.72c-.78.78-.78 2.05 0 2.83L4 21.41c.39.39.9.59 1.41.59.51 0 1.02-.2 1.41-.59l7.78-7.78 2.81-2.81c.8-.78.8-2.07 0-2.86zM5.41 20L4 18.59l7.72-7.72 1.47 1.35L5.41 20z\"/>\n",
              "  </svg>\n",
              "      </button>\n",
              "      \n",
              "  <style>\n",
              "    .colab-df-container {\n",
              "      display:flex;\n",
              "      flex-wrap:wrap;\n",
              "      gap: 12px;\n",
              "    }\n",
              "\n",
              "    .colab-df-convert {\n",
              "      background-color: #E8F0FE;\n",
              "      border: none;\n",
              "      border-radius: 50%;\n",
              "      cursor: pointer;\n",
              "      display: none;\n",
              "      fill: #1967D2;\n",
              "      height: 32px;\n",
              "      padding: 0 0 0 0;\n",
              "      width: 32px;\n",
              "    }\n",
              "\n",
              "    .colab-df-convert:hover {\n",
              "      background-color: #E2EBFA;\n",
              "      box-shadow: 0px 1px 2px rgba(60, 64, 67, 0.3), 0px 1px 3px 1px rgba(60, 64, 67, 0.15);\n",
              "      fill: #174EA6;\n",
              "    }\n",
              "\n",
              "    [theme=dark] .colab-df-convert {\n",
              "      background-color: #3B4455;\n",
              "      fill: #D2E3FC;\n",
              "    }\n",
              "\n",
              "    [theme=dark] .colab-df-convert:hover {\n",
              "      background-color: #434B5C;\n",
              "      box-shadow: 0px 1px 3px 1px rgba(0, 0, 0, 0.15);\n",
              "      filter: drop-shadow(0px 1px 2px rgba(0, 0, 0, 0.3));\n",
              "      fill: #FFFFFF;\n",
              "    }\n",
              "  </style>\n",
              "\n",
              "      <script>\n",
              "        const buttonEl =\n",
              "          document.querySelector('#df-25340e5d-52ca-4df1-9f1e-fc13e72867f0 button.colab-df-convert');\n",
              "        buttonEl.style.display =\n",
              "          google.colab.kernel.accessAllowed ? 'block' : 'none';\n",
              "\n",
              "        async function convertToInteractive(key) {\n",
              "          const element = document.querySelector('#df-25340e5d-52ca-4df1-9f1e-fc13e72867f0');\n",
              "          const dataTable =\n",
              "            await google.colab.kernel.invokeFunction('convertToInteractive',\n",
              "                                                     [key], {});\n",
              "          if (!dataTable) return;\n",
              "\n",
              "          const docLinkHtml = 'Like what you see? Visit the ' +\n",
              "            '<a target=\"_blank\" href=https://colab.research.google.com/notebooks/data_table.ipynb>data table notebook</a>'\n",
              "            + ' to learn more about interactive tables.';\n",
              "          element.innerHTML = '';\n",
              "          dataTable['output_type'] = 'display_data';\n",
              "          await google.colab.output.renderOutput(dataTable, element);\n",
              "          const docLink = document.createElement('div');\n",
              "          docLink.innerHTML = docLinkHtml;\n",
              "          element.appendChild(docLink);\n",
              "        }\n",
              "      </script>\n",
              "    </div>\n",
              "  </div>\n",
              "  "
            ]
          },
          "metadata": {},
          "execution_count": 6
        }
      ],
      "source": [
        "# There are 55 record in dataset the Ammount is greater than 5000. \n",
        "# drop sample as outlier\n",
        "df = df.drop(df[df.Amount > 5000].index, axis=0)\n",
        "df.drop_duplicates()"
      ]
    },
    {
      "cell_type": "code",
      "execution_count": 88,
      "id": "4a41d8cc",
      "metadata": {
        "execution": {
          "iopub.execute_input": "2022-03-28T20:31:14.144442Z",
          "iopub.status.busy": "2022-03-28T20:31:14.142799Z",
          "iopub.status.idle": "2022-03-28T20:31:14.144994Z",
          "shell.execute_reply": "2022-03-28T20:31:14.145436Z",
          "shell.execute_reply.started": "2022-03-28T20:25:15.410943Z"
        },
        "papermill": {
          "duration": 0.075456,
          "end_time": "2022-03-28T20:31:14.145590",
          "exception": false,
          "start_time": "2022-03-28T20:31:14.070134",
          "status": "completed"
        },
        "tags": [],
        "id": "4a41d8cc"
      },
      "outputs": [],
      "source": [
        "X = df.drop('Class', axis=1)\n",
        "y = df.Class.values"
      ]
    },
    {
      "cell_type": "code",
      "execution_count": 89,
      "id": "949274a4",
      "metadata": {
        "execution": {
          "iopub.execute_input": "2022-03-28T20:31:19.326104Z",
          "iopub.status.busy": "2022-03-28T20:31:19.325359Z",
          "iopub.status.idle": "2022-03-28T20:31:19.331859Z",
          "shell.execute_reply": "2022-03-28T20:31:19.332292Z",
          "shell.execute_reply.started": "2022-03-28T20:25:21.706491Z"
        },
        "papermill": {
          "duration": 0.06838,
          "end_time": "2022-03-28T20:31:19.332442",
          "exception": false,
          "start_time": "2022-03-28T20:31:19.264062",
          "status": "completed"
        },
        "tags": [],
        "id": "949274a4",
        "outputId": "55351189-6026-4d3c-c8bf-b72b4d85b2f6",
        "colab": {
          "base_uri": "https://localhost:8080/"
        }
      },
      "outputs": [
        {
          "output_type": "stream",
          "name": "stdout",
          "text": [
            "0    284260\n",
            "1       492\n",
            "Name: Class, dtype: int64\n",
            "Normal 99.82721807046131% and Abnomaly 0.1727819295386863%\n"
          ]
        }
      ],
      "source": [
        "counts = df.Class.value_counts()\n",
        "print(counts)\n",
        "print(f'Normal {(counts[0] / sum(counts))*100}% and Abnomaly {(counts[1] / sum(counts))*100}%')"
      ]
    },
    {
      "cell_type": "markdown",
      "id": "45bd57f0",
      "metadata": {
        "papermill": {
          "duration": 0.054401,
          "end_time": "2022-03-28T20:31:19.442592",
          "exception": false,
          "start_time": "2022-03-28T20:31:19.388191",
          "status": "completed"
        },
        "tags": [],
        "id": "45bd57f0"
      },
      "source": [
        "#### Feature Importance"
      ]
    },
    {
      "cell_type": "markdown",
      "id": "78e96d77",
      "metadata": {
        "papermill": {
          "duration": 0.058142,
          "end_time": "2022-03-28T20:31:24.478134",
          "exception": false,
          "start_time": "2022-03-28T20:31:24.419992",
          "status": "completed"
        },
        "tags": [],
        "id": "78e96d77"
      },
      "source": [
        "There are no sifnificant with time with class as expected. lets remove those columns"
      ]
    },
    {
      "cell_type": "code",
      "execution_count": 90,
      "id": "1c4960ed",
      "metadata": {
        "execution": {
          "iopub.execute_input": "2022-03-28T20:31:24.616233Z",
          "iopub.status.busy": "2022-03-28T20:31:24.615341Z",
          "iopub.status.idle": "2022-03-28T20:31:24.617877Z",
          "shell.execute_reply": "2022-03-28T20:31:24.617457Z",
          "shell.execute_reply.started": "2022-03-28T20:25:27.449166Z"
        },
        "papermill": {
          "duration": 0.084223,
          "end_time": "2022-03-28T20:31:24.617991",
          "exception": false,
          "start_time": "2022-03-28T20:31:24.533768",
          "status": "completed"
        },
        "tags": [],
        "id": "1c4960ed"
      },
      "outputs": [],
      "source": [
        "# Wee can see every time abnomaly can ocurr => drop Time column\n",
        "X.drop(\"Time\", axis=1, inplace=True)"
      ]
    },
    {
      "cell_type": "markdown",
      "id": "cd9afb13",
      "metadata": {
        "papermill": {
          "duration": 0.055225,
          "end_time": "2022-03-28T20:31:24.840457",
          "exception": false,
          "start_time": "2022-03-28T20:31:24.785232",
          "status": "completed"
        },
        "tags": [],
        "id": "cd9afb13"
      },
      "source": [
        "#### Resampling stratergy\n",
        "\n",
        "Dataset is highly imbalanced. Abnomoly transactions are only 0.17% from entire dataset. Direct oversampling or under sampling will not work for the dataset. Lest do mix of oversampling and under sampling to cover more data points from normal than taking just 492 records out of 284308 samples.\n"
      ]
    },
    {
      "cell_type": "code",
      "execution_count": 14,
      "id": "e12b73dc",
      "metadata": {
        "execution": {
          "iopub.execute_input": "2022-03-28T20:31:24.958923Z",
          "iopub.status.busy": "2022-03-28T20:31:24.957968Z",
          "iopub.status.idle": "2022-03-28T20:31:25.209003Z",
          "shell.execute_reply": "2022-03-28T20:31:25.208486Z",
          "shell.execute_reply.started": "2022-03-28T20:25:27.484865Z"
        },
        "papermill": {
          "duration": 0.313445,
          "end_time": "2022-03-28T20:31:25.209159",
          "exception": false,
          "start_time": "2022-03-28T20:31:24.895714",
          "status": "completed"
        },
        "tags": [],
        "id": "e12b73dc"
      },
      "outputs": [],
      "source": [
        "from imblearn.over_sampling import SMOTE\n",
        "from imblearn.under_sampling import RandomUnderSampler\n",
        "undersample = RandomUnderSampler(sampling_strategy=0.05)\n",
        "X_un, y_un = undersample.fit_resample(X, y)\n",
        "smote = SMOTE(random_state=42)\n",
        "X_up, y_up = smote.fit_resample(X_un, y_un)"
      ]
    },
    {
      "cell_type": "code",
      "execution_count": 16,
      "id": "bff6e7c2",
      "metadata": {
        "execution": {
          "iopub.execute_input": "2022-03-28T20:31:25.325666Z",
          "iopub.status.busy": "2022-03-28T20:31:25.324866Z",
          "iopub.status.idle": "2022-03-28T20:31:25.329238Z",
          "shell.execute_reply": "2022-03-28T20:31:25.329615Z",
          "shell.execute_reply.started": "2022-03-28T20:25:27.629795Z"
        },
        "papermill": {
          "duration": 0.064515,
          "end_time": "2022-03-28T20:31:25.329742",
          "exception": false,
          "start_time": "2022-03-28T20:31:25.265227",
          "status": "completed"
        },
        "tags": [],
        "id": "bff6e7c2",
        "outputId": "6f3b8a27-be51-4473-ca32-7c6ea64fc945",
        "colab": {
          "base_uri": "https://localhost:8080/"
        }
      },
      "outputs": [
        {
          "output_type": "execute_result",
          "data": {
            "text/plain": [
              "Counter({0: 9840, 1: 9840})"
            ]
          },
          "metadata": {},
          "execution_count": 16
        }
      ],
      "source": [
        "from collections import Counter\n",
        "Counter(y_up)"
      ]
    },
    {
      "cell_type": "code",
      "execution_count": 17,
      "id": "fb15fdd7",
      "metadata": {
        "execution": {
          "iopub.execute_input": "2022-03-28T20:31:25.481187Z",
          "iopub.status.busy": "2022-03-28T20:31:25.480573Z",
          "iopub.status.idle": "2022-03-28T20:31:25.539436Z",
          "shell.execute_reply": "2022-03-28T20:31:25.540317Z",
          "shell.execute_reply.started": "2022-03-28T20:25:27.645465Z"
        },
        "papermill": {
          "duration": 0.155305,
          "end_time": "2022-03-28T20:31:25.540512",
          "exception": false,
          "start_time": "2022-03-28T20:31:25.385207",
          "status": "completed"
        },
        "tags": [],
        "id": "fb15fdd7"
      },
      "outputs": [],
      "source": [
        "from sklearn.preprocessing import StandardScaler\n",
        "scaller = StandardScaler()\n",
        "X_up[\"Amount\"] = scaller.fit_transform(X_up[\"Amount\"].values.reshape(-1, 1))"
      ]
    },
    {
      "cell_type": "markdown",
      "id": "0f5e6d12",
      "metadata": {
        "papermill": {
          "duration": 0.197033,
          "end_time": "2022-03-28T20:31:25.877701",
          "exception": false,
          "start_time": "2022-03-28T20:31:25.680668",
          "status": "completed"
        },
        "tags": [],
        "id": "0f5e6d12"
      },
      "source": [
        "#### Defining Evaluation criteria"
      ]
    },
    {
      "cell_type": "code",
      "execution_count": 18,
      "id": "83a211fd",
      "metadata": {
        "execution": {
          "iopub.execute_input": "2022-03-28T20:31:26.214896Z",
          "iopub.status.busy": "2022-03-28T20:31:26.214024Z",
          "iopub.status.idle": "2022-03-28T20:31:26.229038Z",
          "shell.execute_reply": "2022-03-28T20:31:26.230148Z",
          "shell.execute_reply.started": "2022-03-28T20:25:27.680699Z"
        },
        "papermill": {
          "duration": 0.227641,
          "end_time": "2022-03-28T20:31:26.230348",
          "exception": false,
          "start_time": "2022-03-28T20:31:26.002707",
          "status": "completed"
        },
        "tags": [],
        "id": "83a211fd",
        "outputId": "7475d855-8740-40a1-8697-a1b30e435960",
        "colab": {
          "base_uri": "https://localhost:8080/",
          "height": 49
        }
      },
      "outputs": [
        {
          "output_type": "execute_result",
          "data": {
            "text/plain": [
              "Empty DataFrame\n",
              "Columns: [Model, accuracy score,  Precision, Recall, f1_score]\n",
              "Index: []"
            ],
            "text/html": [
              "\n",
              "  <div id=\"df-ed56104a-b75b-4b35-b7b5-40338835fab9\">\n",
              "    <div class=\"colab-df-container\">\n",
              "      <div>\n",
              "<style scoped>\n",
              "    .dataframe tbody tr th:only-of-type {\n",
              "        vertical-align: middle;\n",
              "    }\n",
              "\n",
              "    .dataframe tbody tr th {\n",
              "        vertical-align: top;\n",
              "    }\n",
              "\n",
              "    .dataframe thead th {\n",
              "        text-align: right;\n",
              "    }\n",
              "</style>\n",
              "<table border=\"1\" class=\"dataframe\">\n",
              "  <thead>\n",
              "    <tr style=\"text-align: right;\">\n",
              "      <th></th>\n",
              "      <th>Model</th>\n",
              "      <th>accuracy score</th>\n",
              "      <th>Precision</th>\n",
              "      <th>Recall</th>\n",
              "      <th>f1_score</th>\n",
              "    </tr>\n",
              "  </thead>\n",
              "  <tbody>\n",
              "  </tbody>\n",
              "</table>\n",
              "</div>\n",
              "      <button class=\"colab-df-convert\" onclick=\"convertToInteractive('df-ed56104a-b75b-4b35-b7b5-40338835fab9')\"\n",
              "              title=\"Convert this dataframe to an interactive table.\"\n",
              "              style=\"display:none;\">\n",
              "        \n",
              "  <svg xmlns=\"http://www.w3.org/2000/svg\" height=\"24px\"viewBox=\"0 0 24 24\"\n",
              "       width=\"24px\">\n",
              "    <path d=\"M0 0h24v24H0V0z\" fill=\"none\"/>\n",
              "    <path d=\"M18.56 5.44l.94 2.06.94-2.06 2.06-.94-2.06-.94-.94-2.06-.94 2.06-2.06.94zm-11 1L8.5 8.5l.94-2.06 2.06-.94-2.06-.94L8.5 2.5l-.94 2.06-2.06.94zm10 10l.94 2.06.94-2.06 2.06-.94-2.06-.94-.94-2.06-.94 2.06-2.06.94z\"/><path d=\"M17.41 7.96l-1.37-1.37c-.4-.4-.92-.59-1.43-.59-.52 0-1.04.2-1.43.59L10.3 9.45l-7.72 7.72c-.78.78-.78 2.05 0 2.83L4 21.41c.39.39.9.59 1.41.59.51 0 1.02-.2 1.41-.59l7.78-7.78 2.81-2.81c.8-.78.8-2.07 0-2.86zM5.41 20L4 18.59l7.72-7.72 1.47 1.35L5.41 20z\"/>\n",
              "  </svg>\n",
              "      </button>\n",
              "      \n",
              "  <style>\n",
              "    .colab-df-container {\n",
              "      display:flex;\n",
              "      flex-wrap:wrap;\n",
              "      gap: 12px;\n",
              "    }\n",
              "\n",
              "    .colab-df-convert {\n",
              "      background-color: #E8F0FE;\n",
              "      border: none;\n",
              "      border-radius: 50%;\n",
              "      cursor: pointer;\n",
              "      display: none;\n",
              "      fill: #1967D2;\n",
              "      height: 32px;\n",
              "      padding: 0 0 0 0;\n",
              "      width: 32px;\n",
              "    }\n",
              "\n",
              "    .colab-df-convert:hover {\n",
              "      background-color: #E2EBFA;\n",
              "      box-shadow: 0px 1px 2px rgba(60, 64, 67, 0.3), 0px 1px 3px 1px rgba(60, 64, 67, 0.15);\n",
              "      fill: #174EA6;\n",
              "    }\n",
              "\n",
              "    [theme=dark] .colab-df-convert {\n",
              "      background-color: #3B4455;\n",
              "      fill: #D2E3FC;\n",
              "    }\n",
              "\n",
              "    [theme=dark] .colab-df-convert:hover {\n",
              "      background-color: #434B5C;\n",
              "      box-shadow: 0px 1px 3px 1px rgba(0, 0, 0, 0.15);\n",
              "      filter: drop-shadow(0px 1px 2px rgba(0, 0, 0, 0.3));\n",
              "      fill: #FFFFFF;\n",
              "    }\n",
              "  </style>\n",
              "\n",
              "      <script>\n",
              "        const buttonEl =\n",
              "          document.querySelector('#df-ed56104a-b75b-4b35-b7b5-40338835fab9 button.colab-df-convert');\n",
              "        buttonEl.style.display =\n",
              "          google.colab.kernel.accessAllowed ? 'block' : 'none';\n",
              "\n",
              "        async function convertToInteractive(key) {\n",
              "          const element = document.querySelector('#df-ed56104a-b75b-4b35-b7b5-40338835fab9');\n",
              "          const dataTable =\n",
              "            await google.colab.kernel.invokeFunction('convertToInteractive',\n",
              "                                                     [key], {});\n",
              "          if (!dataTable) return;\n",
              "\n",
              "          const docLinkHtml = 'Like what you see? Visit the ' +\n",
              "            '<a target=\"_blank\" href=https://colab.research.google.com/notebooks/data_table.ipynb>data table notebook</a>'\n",
              "            + ' to learn more about interactive tables.';\n",
              "          element.innerHTML = '';\n",
              "          dataTable['output_type'] = 'display_data';\n",
              "          await google.colab.output.renderOutput(dataTable, element);\n",
              "          const docLink = document.createElement('div');\n",
              "          docLink.innerHTML = docLinkHtml;\n",
              "          element.appendChild(docLink);\n",
              "        }\n",
              "      </script>\n",
              "    </div>\n",
              "  </div>\n",
              "  "
            ]
          },
          "metadata": {},
          "execution_count": 18
        }
      ],
      "source": [
        "columns = ['Model','accuracy score', ' Precision','Recall','f1_score']\n",
        "evaluation_df = pd.DataFrame(columns=columns)\n",
        "evaluation_df"
      ]
    },
    {
      "cell_type": "code",
      "execution_count": 19,
      "id": "62590bc8",
      "metadata": {
        "execution": {
          "iopub.execute_input": "2022-03-28T20:31:26.542866Z",
          "iopub.status.busy": "2022-03-28T20:31:26.540301Z",
          "iopub.status.idle": "2022-03-28T20:31:26.543759Z",
          "shell.execute_reply": "2022-03-28T20:31:26.544460Z",
          "shell.execute_reply.started": "2022-03-28T20:25:27.698650Z"
        },
        "papermill": {
          "duration": 0.126123,
          "end_time": "2022-03-28T20:31:26.544665",
          "exception": false,
          "start_time": "2022-03-28T20:31:26.418542",
          "status": "completed"
        },
        "tags": [],
        "id": "62590bc8"
      },
      "outputs": [],
      "source": [
        "import sklearn.metrics as metrics\n",
        "\n",
        "def print_results(model_name, y_test, y_pred, pred_prob=None):\n",
        "    print(model_name)\n",
        "    print('--------------------------------------------------------------------------')\n",
        " \n",
        "    precision_score = metrics.precision_score(y_test, y_pred)\n",
        "    recall_score = metrics.recall_score(y_test, y_pred)\n",
        "    \n",
        "    accuracy_score  = metrics.accuracy_score(y_test,y_pred)\n",
        "    print(f'accuracy score :{accuracy_score}') \n",
        "\n",
        "    f1_score = metrics.f1_score(y_test,y_pred)\n",
        "    \n",
        "    classification_report = metrics.classification_report(y_test,y_pred)\n",
        "    print(classification_report)\n",
        "    \n",
        "#   save scores into dataframe for comparison\n",
        "    evaluation_df.loc[len(evaluation_df.index)] = [model_name,accuracy_score,precision_score,recall_score, f1_score]\n",
        "    \n",
        "    Plot_confusion_matrix(y_test,y_pred,model_name)\n",
        "    \n",
        "    if pred_prob is not None:\n",
        "        Plot_roc_curve(y_test,pred_prob,model_name,accuracy_score)"
      ]
    },
    {
      "cell_type": "code",
      "execution_count": 20,
      "id": "11ad02f6",
      "metadata": {
        "execution": {
          "iopub.execute_input": "2022-03-28T20:31:26.752996Z",
          "iopub.status.busy": "2022-03-28T20:31:26.752181Z",
          "iopub.status.idle": "2022-03-28T20:31:26.755740Z",
          "shell.execute_reply": "2022-03-28T20:31:26.756889Z",
          "shell.execute_reply.started": "2022-03-28T20:25:27.711806Z"
        },
        "papermill": {
          "duration": 0.111719,
          "end_time": "2022-03-28T20:31:26.757077",
          "exception": false,
          "start_time": "2022-03-28T20:31:26.645358",
          "status": "completed"
        },
        "tags": [],
        "id": "11ad02f6"
      },
      "outputs": [],
      "source": [
        "# Created a common function to plot confusion matrix\n",
        "def Plot_confusion_matrix(y, pred, model_name):\n",
        "    cm = metrics.confusion_matrix(y, pred)\n",
        "    plt.clf()\n",
        "    plt.imshow(cm, cmap=plt.cm.Accent)\n",
        "    categoryNames = ['Normal','Anomaly']\n",
        "    plt.title(f'Confusion Matrix - {model_name}')\n",
        "    plt.ylabel('True labels')\n",
        "    plt.xlabel('Predicted labels')\n",
        "    ticks = np.arange(len(categoryNames))\n",
        "    plt.xticks(ticks, categoryNames, rotation=45)\n",
        "    plt.yticks(ticks, categoryNames)\n",
        "    s = [['TN','FP'], ['FN', 'TP']]\n",
        "\n",
        "    for i in range(2):\n",
        "        for j in range(2):\n",
        "            plt.text(j,i, str(s[i][j])+\" = \"+str(cm[i][j]),fontsize=12)\n",
        "    plt.show()"
      ]
    },
    {
      "cell_type": "code",
      "execution_count": 21,
      "id": "2c3c6703",
      "metadata": {
        "execution": {
          "iopub.execute_input": "2022-03-28T20:31:26.903618Z",
          "iopub.status.busy": "2022-03-28T20:31:26.902121Z",
          "iopub.status.idle": "2022-03-28T20:31:26.904258Z",
          "shell.execute_reply": "2022-03-28T20:31:26.904660Z",
          "shell.execute_reply.started": "2022-03-28T20:25:27.728184Z"
        },
        "papermill": {
          "duration": 0.063597,
          "end_time": "2022-03-28T20:31:26.904780",
          "exception": false,
          "start_time": "2022-03-28T20:31:26.841183",
          "status": "completed"
        },
        "tags": [],
        "id": "2c3c6703"
      },
      "outputs": [],
      "source": [
        "def Plot_roc_curve(y, y_prob, model_name, score):\n",
        "    plt.title(f'ROC Curve - {model_name}')\n",
        "    fpr, tpr, thresholds = metrics.roc_curve(y, y_prob)\n",
        "    plt.plot(fpr,tpr,label=\"Test, auc=\"+str(score))\n",
        "    plt.legend(loc=4)\n",
        "    plt.show()\n",
        "    "
      ]
    },
    {
      "cell_type": "code",
      "execution_count": 22,
      "id": "9e267f0f",
      "metadata": {
        "execution": {
          "iopub.execute_input": "2022-03-28T20:33:10.022505Z",
          "iopub.status.busy": "2022-03-28T20:33:10.021889Z",
          "iopub.status.idle": "2022-03-28T20:33:14.081128Z",
          "shell.execute_reply": "2022-03-28T20:33:14.080650Z",
          "shell.execute_reply.started": "2022-03-28T20:28:03.846109Z"
        },
        "papermill": {
          "duration": 4.135233,
          "end_time": "2022-03-28T20:33:14.081271",
          "exception": false,
          "start_time": "2022-03-28T20:33:09.946038",
          "status": "completed"
        },
        "tags": [],
        "id": "9e267f0f"
      },
      "outputs": [],
      "source": [
        "import tensorflow as tf\n",
        "from tensorflow.keras.models import Sequential\n",
        "from tensorflow.keras.layers import Dense, Dropout\n",
        "from tensorflow.keras.callbacks import EarlyStopping"
      ]
    },
    {
      "cell_type": "code",
      "execution_count": 79,
      "id": "96d338bd",
      "metadata": {
        "execution": {
          "iopub.execute_input": "2022-03-28T20:33:14.233386Z",
          "iopub.status.busy": "2022-03-28T20:33:14.228318Z",
          "iopub.status.idle": "2022-03-28T20:33:14.235783Z",
          "shell.execute_reply": "2022-03-28T20:33:14.235366Z",
          "shell.execute_reply.started": "2022-03-28T20:28:09.180518Z"
        },
        "papermill": {
          "duration": 0.082016,
          "end_time": "2022-03-28T20:33:14.235897",
          "exception": false,
          "start_time": "2022-03-28T20:33:14.153881",
          "status": "completed"
        },
        "tags": [],
        "id": "96d338bd"
      },
      "outputs": [],
      "source": [
        "def create_model():\n",
        "    model = Sequential()\n",
        "    model.add(Dense(64,activation='relu',input_shape=[29]))\n",
        "    model.add(Dropout(0.2))\n",
        "    model.add(Dense(32,activation='relu',input_shape=[29]))\n",
        "    model.add(Dropout(0.1))\n",
        "    model.add(Dense(16,activation='relu'))\n",
        "    model.add(Dropout(0.1))\n",
        "    model.add(Dense(8,activation='relu'))\n",
        "    model.add(Dropout(0.1))\n",
        "    model.add(Dense(1,activation='sigmoid'))\n",
        "\n",
        "    model.compile( optimizer='adam',loss='binary_crossentropy', metrics=['accuracy'])\n",
        "    return model"
      ]
    },
    {
      "cell_type": "code",
      "execution_count": 80,
      "id": "22c959f6",
      "metadata": {
        "execution": {
          "iopub.execute_input": "2022-03-28T20:33:14.383339Z",
          "iopub.status.busy": "2022-03-28T20:33:14.382634Z",
          "iopub.status.idle": "2022-03-28T20:33:16.459826Z",
          "shell.execute_reply": "2022-03-28T20:33:16.459238Z",
          "shell.execute_reply.started": "2022-03-28T20:28:09.198104Z"
        },
        "papermill": {
          "duration": 2.152255,
          "end_time": "2022-03-28T20:33:16.459956",
          "exception": false,
          "start_time": "2022-03-28T20:33:14.307701",
          "status": "completed"
        },
        "tags": [],
        "id": "22c959f6",
        "outputId": "6997cd46-d7b1-4880-a15e-7d50fad1d919",
        "colab": {
          "base_uri": "https://localhost:8080/"
        }
      },
      "outputs": [
        {
          "output_type": "stream",
          "name": "stdout",
          "text": [
            "Model: \"sequential_7\"\n",
            "_________________________________________________________________\n",
            " Layer (type)                Output Shape              Param #   \n",
            "=================================================================\n",
            " dense_33 (Dense)            (None, 64)                1920      \n",
            "                                                                 \n",
            " dropout_24 (Dropout)        (None, 64)                0         \n",
            "                                                                 \n",
            " dense_34 (Dense)            (None, 32)                2080      \n",
            "                                                                 \n",
            " dropout_25 (Dropout)        (None, 32)                0         \n",
            "                                                                 \n",
            " dense_35 (Dense)            (None, 16)                528       \n",
            "                                                                 \n",
            " dropout_26 (Dropout)        (None, 16)                0         \n",
            "                                                                 \n",
            " dense_36 (Dense)            (None, 8)                 136       \n",
            "                                                                 \n",
            " dropout_27 (Dropout)        (None, 8)                 0         \n",
            "                                                                 \n",
            " dense_37 (Dense)            (None, 1)                 9         \n",
            "                                                                 \n",
            "=================================================================\n",
            "Total params: 4,673\n",
            "Trainable params: 4,673\n",
            "Non-trainable params: 0\n",
            "_________________________________________________________________\n"
          ]
        }
      ],
      "source": [
        "classifier = create_model()\n",
        "classifier.summary()"
      ]
    },
    {
      "cell_type": "code",
      "execution_count": 81,
      "id": "c014bf3c",
      "metadata": {
        "execution": {
          "iopub.execute_input": "2022-03-28T20:33:16.622766Z",
          "iopub.status.busy": "2022-03-28T20:33:16.621231Z",
          "iopub.status.idle": "2022-03-28T20:33:16.623394Z",
          "shell.execute_reply": "2022-03-28T20:33:16.623798Z",
          "shell.execute_reply.started": "2022-03-28T20:28:11.731561Z"
        },
        "papermill": {
          "duration": 0.083378,
          "end_time": "2022-03-28T20:33:16.623920",
          "exception": false,
          "start_time": "2022-03-28T20:33:16.540542",
          "status": "completed"
        },
        "tags": [],
        "id": "c014bf3c"
      },
      "outputs": [],
      "source": [
        "early_stopping = EarlyStopping(patience = 10, min_delta = 0.001, restore_best_weights =True)"
      ]
    },
    {
      "cell_type": "code",
      "execution_count": 82,
      "id": "9096b8a0",
      "metadata": {
        "execution": {
          "iopub.execute_input": "2022-03-28T20:33:16.939536Z",
          "iopub.status.busy": "2022-03-28T20:33:16.938964Z",
          "iopub.status.idle": "2022-03-28T20:34:13.054396Z",
          "shell.execute_reply": "2022-03-28T20:34:13.054818Z",
          "shell.execute_reply.started": "2022-03-28T20:28:11.772954Z"
        },
        "papermill": {
          "duration": 56.194103,
          "end_time": "2022-03-28T20:34:13.054965",
          "exception": false,
          "start_time": "2022-03-28T20:33:16.860862",
          "status": "completed"
        },
        "tags": [],
        "id": "9096b8a0",
        "outputId": "1457c94d-51ca-4a06-ee13-fbd4d552df43",
        "colab": {
          "base_uri": "https://localhost:8080/"
        }
      },
      "outputs": [
        {
          "output_type": "stream",
          "name": "stdout",
          "text": [
            "Epoch 1/20\n",
            "492/492 [==============================] - 2s 3ms/step - loss: 0.1626 - accuracy: 0.9450 - val_loss: 0.1368 - val_accuracy: 0.9350\n",
            "Epoch 2/20\n",
            "492/492 [==============================] - 1s 3ms/step - loss: 0.0805 - accuracy: 0.9708 - val_loss: 0.1041 - val_accuracy: 0.9525\n",
            "Epoch 3/20\n",
            "492/492 [==============================] - 1s 3ms/step - loss: 0.0660 - accuracy: 0.9759 - val_loss: 0.0901 - val_accuracy: 0.9543\n",
            "Epoch 4/20\n",
            "492/492 [==============================] - 1s 3ms/step - loss: 0.0522 - accuracy: 0.9801 - val_loss: 0.0523 - val_accuracy: 0.9746\n",
            "Epoch 5/20\n",
            "492/492 [==============================] - 2s 3ms/step - loss: 0.0454 - accuracy: 0.9824 - val_loss: 0.0641 - val_accuracy: 0.9741\n",
            "Epoch 6/20\n",
            "492/492 [==============================] - 1s 3ms/step - loss: 0.0407 - accuracy: 0.9846 - val_loss: 0.0368 - val_accuracy: 0.9850\n",
            "Epoch 7/20\n",
            "492/492 [==============================] - 1s 3ms/step - loss: 0.0322 - accuracy: 0.9874 - val_loss: 0.0233 - val_accuracy: 0.9936\n",
            "Epoch 8/20\n",
            "492/492 [==============================] - 1s 3ms/step - loss: 0.0327 - accuracy: 0.9881 - val_loss: 0.0164 - val_accuracy: 0.9980\n",
            "Epoch 9/20\n",
            "492/492 [==============================] - 1s 3ms/step - loss: 0.0289 - accuracy: 0.9892 - val_loss: 0.0263 - val_accuracy: 0.9909\n",
            "Epoch 10/20\n",
            "492/492 [==============================] - 2s 3ms/step - loss: 0.0237 - accuracy: 0.9909 - val_loss: 0.0114 - val_accuracy: 0.9977\n",
            "Epoch 11/20\n",
            "492/492 [==============================] - 2s 3ms/step - loss: 0.0230 - accuracy: 0.9913 - val_loss: 0.0099 - val_accuracy: 0.9990\n",
            "Epoch 12/20\n",
            "492/492 [==============================] - 1s 3ms/step - loss: 0.0198 - accuracy: 0.9921 - val_loss: 0.0113 - val_accuracy: 0.9992\n",
            "Epoch 13/20\n",
            "492/492 [==============================] - 1s 3ms/step - loss: 0.0225 - accuracy: 0.9936 - val_loss: 0.0137 - val_accuracy: 0.9975\n",
            "Epoch 14/20\n",
            "492/492 [==============================] - 2s 3ms/step - loss: 0.0176 - accuracy: 0.9935 - val_loss: 0.0090 - val_accuracy: 0.9987\n",
            "Epoch 15/20\n",
            "492/492 [==============================] - 1s 3ms/step - loss: 0.0181 - accuracy: 0.9940 - val_loss: 0.0070 - val_accuracy: 0.9995\n",
            "Epoch 16/20\n",
            "492/492 [==============================] - 1s 3ms/step - loss: 0.0163 - accuracy: 0.9952 - val_loss: 0.0055 - val_accuracy: 1.0000\n",
            "Epoch 17/20\n",
            "492/492 [==============================] - 1s 3ms/step - loss: 0.0149 - accuracy: 0.9946 - val_loss: 0.0098 - val_accuracy: 0.9982\n",
            "Epoch 18/20\n",
            "492/492 [==============================] - 1s 3ms/step - loss: 0.0140 - accuracy: 0.9952 - val_loss: 0.0041 - val_accuracy: 1.0000\n",
            "Epoch 19/20\n",
            "492/492 [==============================] - 1s 3ms/step - loss: 0.0152 - accuracy: 0.9951 - val_loss: 0.0088 - val_accuracy: 0.9982\n",
            "Epoch 20/20\n",
            "492/492 [==============================] - 1s 3ms/step - loss: 0.0119 - accuracy: 0.9963 - val_loss: 0.0051 - val_accuracy: 0.9995\n"
          ]
        }
      ],
      "source": [
        "history  = classifier.fit(X_up,y_up,\n",
        "               epochs=20,\n",
        "               batch_size=32,\n",
        "               validation_split=0.2,\n",
        "               callbacks=[early_stopping],\n",
        "               shuffle=True,\n",
        "               verbose=1)"
      ]
    },
    {
      "cell_type": "code",
      "execution_count": 83,
      "id": "53adb0ae",
      "metadata": {
        "execution": {
          "iopub.execute_input": "2022-03-28T20:34:13.712146Z",
          "iopub.status.busy": "2022-03-28T20:34:13.711328Z",
          "iopub.status.idle": "2022-03-28T20:34:13.888311Z",
          "shell.execute_reply": "2022-03-28T20:34:13.887644Z",
          "shell.execute_reply.started": "2022-03-28T20:29:48.600376Z"
        },
        "papermill": {
          "duration": 0.524948,
          "end_time": "2022-03-28T20:34:13.888429",
          "exception": false,
          "start_time": "2022-03-28T20:34:13.363481",
          "status": "completed"
        },
        "tags": [],
        "id": "53adb0ae",
        "outputId": "5434b7d7-38bf-4273-bd4c-89158875fd03",
        "colab": {
          "base_uri": "https://localhost:8080/",
          "height": 295
        }
      },
      "outputs": [
        {
          "output_type": "display_data",
          "data": {
            "text/plain": [
              "<Figure size 432x288 with 2 Axes>"
            ],
            "image/png": "[encoded data removed]"
          },
          "metadata": {
            "needs_background": "light"
          }
        }
      ],
      "source": [
        "figure, axis = plt.subplots(1, 2)\n",
        "axis[0].plot(history.history['accuracy'], label='Train accuracy')\n",
        "axis[0].plot(history.history['val_accuracy'], label='Val accuracy')\n",
        "axis[0].set_title('Training and Validation Acurracy')\n",
        "axis[0].set_xlabel('Epochs')\n",
        "axis[0].set_ylabel('Acurracy')\n",
        "axis[0].legend()\n",
        "axis[1].plot(history.history['loss'], label='Train loss')\n",
        "axis[1].plot(history.history['val_loss'], label='Val loss')\n",
        "axis[1].set_title('Training and Validation Loss')\n",
        "axis[1].set_xlabel('Epochs')\n",
        "axis[1].set_ylabel('Loss')\n",
        "axis[1].legend()\n",
        "plt.subplots_adjust(right=2)\n",
        "plt.show()"
      ]
    },
    {
      "cell_type": "code",
      "source": [
        "X[\"Amount\"] = scaller.fit_transform(X[\"Amount\"].values.reshape(-1, 1))"
      ],
      "metadata": {
        "id": "wiQfNXN443AY"
      },
      "id": "wiQfNXN443AY",
      "execution_count": 113,
      "outputs": []
    },
    {
      "cell_type": "code",
      "source": [
        "y_predall = classifier.predict(X)"
      ],
      "metadata": {
        "id": "fBRigzEr5NtP"
      },
      "id": "fBRigzEr5NtP",
      "execution_count": 125,
      "outputs": []
    },
    {
      "cell_type": "code",
      "source": [
        "y_predall = np.where(y_predall < 0.65, 0, 1)"
      ],
      "metadata": {
        "id": "bX0G4Wrxpm2r"
      },
      "id": "bX0G4Wrxpm2r",
      "execution_count": 126,
      "outputs": []
    },
    {
      "cell_type": "code",
      "source": [
        "print_results(\"Neural network: \", y, y_predall)"
      ],
      "metadata": {
        "colab": {
          "base_uri": "https://localhost:8080/",
          "height": 531
        },
        "id": "ohFBJWHQ51jJ",
        "outputId": "2cb8cfd7-0afd-4cd4-9716-b192f0a9664e"
      },
      "id": "ohFBJWHQ51jJ",
      "execution_count": 127,
      "outputs": [
        {
          "output_type": "stream",
          "name": "stdout",
          "text": [
            "Neural network: \n",
            "--------------------------------------------------------------------------\n",
            "accuracy score :0.995915744226555\n",
            "              precision    recall  f1-score   support\n",
            "\n",
            "           0       1.00      1.00      1.00    284260\n",
            "           1       0.30      0.99      0.46       492\n",
            "\n",
            "    accuracy                           1.00    284752\n",
            "   macro avg       0.65      0.99      0.73    284752\n",
            "weighted avg       1.00      1.00      1.00    284752\n",
            "\n"
          ]
        },
        {
          "output_type": "display_data",
          "data": {
            "text/plain": [
              "<Figure size 432x288 with 1 Axes>"
            ],
            "image/png": "[encoded data removed]"
          },
          "metadata": {
            "needs_background": "light"
          }
        }
      ]
    },
    {
      "cell_type": "code",
      "source": [
        "evaluation_df"
      ],
      "metadata": {
        "id": "YfUJohe0QP_2"
      },
      "id": "YfUJohe0QP_2",
      "execution_count": null,
      "outputs": []
    }
  ],
  "metadata": {
    "kernelspec": {
      "display_name": "Python 3",
      "language": "python",
      "name": "python3"
    },
    "language_info": {
      "codemirror_mode": {
        "name": "ipython",
        "version": 3
      },
      "file_extension": ".py",
      "mimetype": "text/x-python",
      "name": "python",
      "nbconvert_exporter": "python",
      "pygments_lexer": "ipython3",
      "version": "3.10.2"
    },
    "papermill": {
      "default_parameters": {},
      "duration": 218.773491,
      "end_time": "2022-03-28T20:34:21.696296",
      "environment_variables": {},
      "exception": null,
      "input_path": "__notebook__.ipynb",
      "output_path": "__notebook__.ipynb",
      "parameters": {},
      "start_time": "2022-03-28T20:30:42.922805",
      "version": "2.3.3"
    },
    "colab": {
      "name": "classification.ipynb",
      "provenance": []
    }
  },
  "nbformat": 4,
  "nbformat_minor": 5
}