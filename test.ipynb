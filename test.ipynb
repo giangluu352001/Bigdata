{
 "cells": [
  {
   "cell_type": "code",
   "execution_count": 1,
   "metadata": {},
   "outputs": [
    {
     "name": "stderr",
     "output_type": "stream",
     "text": [
      "WARNING:root:'PYARROW_IGNORE_TIMEZONE' environment variable was not set. It is required to set this environment variable to '1' in both driver and executor sides if you use pyarrow>=2.0.0. pandas-on-Spark will set it for you but it does not work if there is a Spark context already launched.\n"
     ]
    }
   ],
   "source": [
    "from pyspark.sql import SparkSession\n",
    "from pyspark import pandas as ps\n",
    "from pyspark.sql.types import *\n",
    "from pyspark.sql.functions import *\n",
    "import pyspark.sql.functions as F"
   ]
  },
  {
   "cell_type": "code",
   "execution_count": 2,
   "metadata": {},
   "outputs": [],
   "source": [
    "import matplotlib.pyplot as plt\n",
    "import time\n",
    "plt.rc('figure', figsize=(18, 4))\n",
    "import seaborn as sns\n",
    "sns.set(context='notebook', style='whitegrid', rc={'figure.figsize': (18,4)})"
   ]
  },
  {
   "cell_type": "code",
   "execution_count": 3,
   "metadata": {},
   "outputs": [],
   "source": [
    "from pyspark.ml.clustering import KMeans\n",
    "from pyspark.ml.feature import VectorAssembler\n",
    "from pyspark.ml.regression import RandomForestRegressor\n",
    "from pyspark.ml import Pipeline\n",
    "from pyspark.ml.evaluation import RegressionEvaluator"
   ]
  },
  {
   "cell_type": "code",
   "execution_count": 4,
   "metadata": {},
   "outputs": [],
   "source": [
    "spark = (SparkSession\n",
    "         .builder\n",
    "         .master(\"local[*]\")\n",
    "         .appName(\"analysis-uber-trip-data\")\n",
    "         .getOrCreate())"
   ]
  },
  {
   "cell_type": "code",
   "execution_count": 5,
   "metadata": {},
   "outputs": [
    {
     "name": "stdout",
     "output_type": "stream",
     "text": [
      "(385663, 8)\n",
      "+--------------------+-------------------+-----+--------+--------+---------+--------------------+-------------+\n",
      "|                  id|           datetime|price|distance|latitude|longitude|              source|  destination|\n",
      "+--------------------+-------------------+-----+--------+--------+---------+--------------------+-------------+\n",
      "|4da07de9-4b22-40a...|2018-12-13 09:20:05|  8.5|    2.48| 42.3519| -71.0551|         Beacon Hill|South Station|\n",
      "|6dec3748-fd91-425...|2018-12-13 09:20:05| 14.0|    2.48| 42.3519| -71.0551|         Beacon Hill|South Station|\n",
      "|cee1694c-aceb-4f3...|2018-12-15 16:25:07| null|    2.48| 42.3647| -71.0542|         Beacon Hill|South Station|\n",
      "|27f7b6a6-3b7f-486...|2018-12-16 11:40:11| 15.0|    1.64| 42.3505| -71.1054|Northeastern Univ...|     Back Bay|\n",
      "|6eba3a53-6bde-431...|2018-12-16 11:40:11| 11.5|    1.64| 42.3505| -71.1054|Northeastern Univ...|     Back Bay|\n",
      "|8b251038-4be9-45f...|2018-12-16 11:40:11|  8.0|    1.64| 42.3505| -71.1054|Northeastern Univ...|     Back Bay|\n",
      "|ba991a12-54a8-4c3...|2018-12-01 04:02:59| null|    1.64| 42.3661| -71.0631|Northeastern Univ...|     Back Bay|\n",
      "|d2d7899b-aed6-48a...|2018-12-01 04:02:59| 25.0|    1.64| 42.3661| -71.0631|Northeastern Univ...|     Back Bay|\n",
      "|58b15443-1a18-44c...|2018-12-01 04:02:59| 11.5|    3.47| 42.3661| -71.0631|            Back Bay|    North End|\n",
      "|66ecb3b9-3aaf-4e3...|2018-12-01 04:02:59| 37.0|    3.47| 42.3661| -71.0631|            Back Bay|    North End|\n",
      "+--------------------+-------------------+-----+--------+--------+---------+--------------------+-------------+\n",
      "only showing top 10 rows\n",
      "\n"
     ]
    }
   ],
   "source": [
    "df = (spark.read\n",
    "  .format(\"jdbc\")\n",
    "  .option(\"url\", \"jdbc:postgresql://localhost/Uber\")\n",
    "  .option(\"driver\", \"org.postgresql.Driver\")\n",
    "  .option(\"dbtable\", \"UBER\")\n",
    "  .option(\"user\", \"postgres\")\n",
    "  .option(\"password\", \"12345\")\n",
    "  .load()\n",
    ")\n",
    "print((df.count(), len(df.columns)))\n",
    "df.show(10)"
   ]
  },
  {
   "cell_type": "markdown",
   "metadata": {},
   "source": [
    "1. Exploratory Data Analysis"
   ]
  },
  {
   "cell_type": "code",
   "execution_count": 32,
   "metadata": {},
   "outputs": [
    {
     "name": "stdout",
     "output_type": "stream",
     "text": [
      "+---+--------+-----+--------+--------+---------+------+-----------+\n",
      "| id|datetime|price|distance|latitude|longitude|source|destination|\n",
      "+---+--------+-----+--------+--------+---------+------+-----------+\n",
      "|  0|       0|55095|       0|       0|        0|     0|          0|\n",
      "+---+--------+-----+--------+--------+---------+------+-----------+\n",
      "\n"
     ]
    }
   ],
   "source": [
    "df.select([count(when(col(c).isNull(), c)).alias(c) for c in df.columns]).show()\n",
    "df = df.dropna()\n",
    "df = df.drop(col('id'))"
   ]
  },
  {
   "cell_type": "code",
   "execution_count": 33,
   "metadata": {},
   "outputs": [],
   "source": [
    "def createDataset(df: DataFrame):\n",
    "  df = (df.withColumn(\"month\", month(\"datetime\"))\n",
    "        .withColumn(\"hour\", hour(\"datetime\"))\n",
    "        .withColumn(\"day\", dayofmonth(\"datetime\"))\n",
    "        .withColumn(\"weekday\", date_format(\"datetime\", \"EEEE\")))\n",
    "  return df"
   ]
  },
  {
   "cell_type": "code",
   "execution_count": 34,
   "metadata": {},
   "outputs": [
    {
     "name": "stdout",
     "output_type": "stream",
     "text": [
      "+-------------------+-----+--------+--------+---------+--------------------+-------------+-----+----+---+--------+\n",
      "|           datetime|price|distance|latitude|longitude|              source|  destination|month|hour|day| weekday|\n",
      "+-------------------+-----+--------+--------+---------+--------------------+-------------+-----+----+---+--------+\n",
      "|2018-12-13 09:20:05|  8.5|    2.48| 42.3519| -71.0551|         Beacon Hill|South Station|   12|   9| 13|Thursday|\n",
      "|2018-12-13 09:20:05| 14.0|    2.48| 42.3519| -71.0551|         Beacon Hill|South Station|   12|   9| 13|Thursday|\n",
      "|2018-12-16 11:40:11| 15.0|    1.64| 42.3505| -71.1054|Northeastern Univ...|     Back Bay|   12|  11| 16|  Sunday|\n",
      "|2018-12-16 11:40:11| 11.5|    1.64| 42.3505| -71.1054|Northeastern Univ...|     Back Bay|   12|  11| 16|  Sunday|\n",
      "|2018-12-16 11:40:11|  8.0|    1.64| 42.3505| -71.1054|Northeastern Univ...|     Back Bay|   12|  11| 16|  Sunday|\n",
      "+-------------------+-----+--------+--------+---------+--------------------+-------------+-----+----+---+--------+\n",
      "only showing top 5 rows\n",
      "\n"
     ]
    }
   ],
   "source": [
    "dataset = createDataset(df)\n",
    "dataset.show(5)"
   ]
  },
  {
   "cell_type": "code",
   "execution_count": 8,
   "metadata": {},
   "outputs": [],
   "source": [
    "def getCounts(field):\n",
    "  return ps.DataFrame(dataset.groupBy(field)\n",
    "  .count().withColumnRenamed(\"count\", \"frequency\")\n",
    "  .orderBy('frequency'))"
   ]
  },
  {
   "cell_type": "code",
   "execution_count": 9,
   "metadata": {},
   "outputs": [
    {
     "data": {
      "application/vnd.plotly.v1+json": {
       "config": {
        "plotlyServerURL": "https://plot.ly"
       },
       "data": [
        {
         "alignmentgroup": "True",
         "hovertemplate": "hour=%{x}<br>frequency=%{y}<extra></extra>",
         "legendgroup": "",
         "marker": {
          "color": "#636efa",
          "pattern": {
           "shape": ""
          }
         },
         "name": "",
         "offsetgroup": "",
         "orientation": "v",
         "showlegend": false,
         "textposition": "auto",
         "type": "bar",
         "x": [
          8,
          5,
          7,
          20,
          19,
          21,
          6,
          3,
          4,
          1,
          2,
          9,
          22,
          17,
          12,
          13,
          18,
          15,
          11,
          16,
          10,
          14,
          0,
          23
         ],
         "xaxis": "x",
         "y": [
          13575,
          13853,
          13912,
          15067,
          15094,
          15252,
          15401,
          15591,
          15828,
          15879,
          16000,
          16023,
          16189,
          16531,
          16751,
          16881,
          16980,
          16989,
          17012,
          17035,
          17059,
          17078,
          17756,
          17927
         ],
         "yaxis": "y"
        }
       ],
       "layout": {
        "barmode": "relative",
        "legend": {
         "tracegroupgap": 0
        },
        "margin": {
         "t": 60
        },
        "template": {
         "data": {
          "bar": [
           {
            "error_x": {
             "color": "#2a3f5f"
            },
            "error_y": {
             "color": "#2a3f5f"
            },
            "marker": {
             "line": {
              "color": "#E5ECF6",
              "width": 0.5
             },
             "pattern": {
              "fillmode": "overlay",
              "size": 10,
              "solidity": 0.2
             }
            },
            "type": "bar"
           }
          ],
          "barpolar": [
           {
            "marker": {
             "line": {
              "color": "#E5ECF6",
              "width": 0.5
             },
             "pattern": {
              "fillmode": "overlay",
              "size": 10,
              "solidity": 0.2
             }
            },
            "type": "barpolar"
           }
          ],
          "carpet": [
           {
            "aaxis": {
             "endlinecolor": "#2a3f5f",
             "gridcolor": "white",
             "linecolor": "white",
             "minorgridcolor": "white",
             "startlinecolor": "#2a3f5f"
            },
            "baxis": {
             "endlinecolor": "#2a3f5f",
             "gridcolor": "white",
             "linecolor": "white",
             "minorgridcolor": "white",
             "startlinecolor": "#2a3f5f"
            },
            "type": "carpet"
           }
          ],
          "choropleth": [
           {
            "colorbar": {
             "outlinewidth": 0,
             "ticks": ""
            },
            "type": "choropleth"
           }
          ],
          "contour": [
           {
            "colorbar": {
             "outlinewidth": 0,
             "ticks": ""
            },
            "colorscale": [
             [
              0,
              "#0d0887"
             ],
             [
              0.1111111111111111,
              "#46039f"
             ],
             [
              0.2222222222222222,
              "#7201a8"
             ],
             [
              0.3333333333333333,
              "#9c179e"
             ],
             [
              0.4444444444444444,
              "#bd3786"
             ],
             [
              0.5555555555555556,
              "#d8576b"
             ],
             [
              0.6666666666666666,
              "#ed7953"
             ],
             [
              0.7777777777777778,
              "#fb9f3a"
             ],
             [
              0.8888888888888888,
              "#fdca26"
             ],
             [
              1,
              "#f0f921"
             ]
            ],
            "type": "contour"
           }
          ],
          "contourcarpet": [
           {
            "colorbar": {
             "outlinewidth": 0,
             "ticks": ""
            },
            "type": "contourcarpet"
           }
          ],
          "heatmap": [
           {
            "colorbar": {
             "outlinewidth": 0,
             "ticks": ""
            },
            "colorscale": [
             [
              0,
              "#0d0887"
             ],
             [
              0.1111111111111111,
              "#46039f"
             ],
             [
              0.2222222222222222,
              "#7201a8"
             ],
             [
              0.3333333333333333,
              "#9c179e"
             ],
             [
              0.4444444444444444,
              "#bd3786"
             ],
             [
              0.5555555555555556,
              "#d8576b"
             ],
             [
              0.6666666666666666,
              "#ed7953"
             ],
             [
              0.7777777777777778,
              "#fb9f3a"
             ],
             [
              0.8888888888888888,
              "#fdca26"
             ],
             [
              1,
              "#f0f921"
             ]
            ],
            "type": "heatmap"
           }
          ],
          "heatmapgl": [
           {
            "colorbar": {
             "outlinewidth": 0,
             "ticks": ""
            },
            "colorscale": [
             [
              0,
              "#0d0887"
             ],
             [
              0.1111111111111111,
              "#46039f"
             ],
             [
              0.2222222222222222,
              "#7201a8"
             ],
             [
              0.3333333333333333,
              "#9c179e"
             ],
             [
              0.4444444444444444,
              "#bd3786"
             ],
             [
              0.5555555555555556,
              "#d8576b"
             ],
             [
              0.6666666666666666,
              "#ed7953"
             ],
             [
              0.7777777777777778,
              "#fb9f3a"
             ],
             [
              0.8888888888888888,
              "#fdca26"
             ],
             [
              1,
              "#f0f921"
             ]
            ],
            "type": "heatmapgl"
           }
          ],
          "histogram": [
           {
            "marker": {
             "pattern": {
              "fillmode": "overlay",
              "size": 10,
              "solidity": 0.2
             }
            },
            "type": "histogram"
           }
          ],
          "histogram2d": [
           {
            "colorbar": {
             "outlinewidth": 0,
             "ticks": ""
            },
            "colorscale": [
             [
              0,
              "#0d0887"
             ],
             [
              0.1111111111111111,
              "#46039f"
             ],
             [
              0.2222222222222222,
              "#7201a8"
             ],
             [
              0.3333333333333333,
              "#9c179e"
             ],
             [
              0.4444444444444444,
              "#bd3786"
             ],
             [
              0.5555555555555556,
              "#d8576b"
             ],
             [
              0.6666666666666666,
              "#ed7953"
             ],
             [
              0.7777777777777778,
              "#fb9f3a"
             ],
             [
              0.8888888888888888,
              "#fdca26"
             ],
             [
              1,
              "#f0f921"
             ]
            ],
            "type": "histogram2d"
           }
          ],
          "histogram2dcontour": [
           {
            "colorbar": {
             "outlinewidth": 0,
             "ticks": ""
            },
            "colorscale": [
             [
              0,
              "#0d0887"
             ],
             [
              0.1111111111111111,
              "#46039f"
             ],
             [
              0.2222222222222222,
              "#7201a8"
             ],
             [
              0.3333333333333333,
              "#9c179e"
             ],
             [
              0.4444444444444444,
              "#bd3786"
             ],
             [
              0.5555555555555556,
              "#d8576b"
             ],
             [
              0.6666666666666666,
              "#ed7953"
             ],
             [
              0.7777777777777778,
              "#fb9f3a"
             ],
             [
              0.8888888888888888,
              "#fdca26"
             ],
             [
              1,
              "#f0f921"
             ]
            ],
            "type": "histogram2dcontour"
           }
          ],
          "mesh3d": [
           {
            "colorbar": {
             "outlinewidth": 0,
             "ticks": ""
            },
            "type": "mesh3d"
           }
          ],
          "parcoords": [
           {
            "line": {
             "colorbar": {
              "outlinewidth": 0,
              "ticks": ""
             }
            },
            "type": "parcoords"
           }
          ],
          "pie": [
           {
            "automargin": true,
            "type": "pie"
           }
          ],
          "scatter": [
           {
            "fillpattern": {
             "fillmode": "overlay",
             "size": 10,
             "solidity": 0.2
            },
            "type": "scatter"
           }
          ],
          "scatter3d": [
           {
            "line": {
             "colorbar": {
              "outlinewidth": 0,
              "ticks": ""
             }
            },
            "marker": {
             "colorbar": {
              "outlinewidth": 0,
              "ticks": ""
             }
            },
            "type": "scatter3d"
           }
          ],
          "scattercarpet": [
           {
            "marker": {
             "colorbar": {
              "outlinewidth": 0,
              "ticks": ""
             }
            },
            "type": "scattercarpet"
           }
          ],
          "scattergeo": [
           {
            "marker": {
             "colorbar": {
              "outlinewidth": 0,
              "ticks": ""
             }
            },
            "type": "scattergeo"
           }
          ],
          "scattergl": [
           {
            "marker": {
             "colorbar": {
              "outlinewidth": 0,
              "ticks": ""
             }
            },
            "type": "scattergl"
           }
          ],
          "scattermapbox": [
           {
            "marker": {
             "colorbar": {
              "outlinewidth": 0,
              "ticks": ""
             }
            },
            "type": "scattermapbox"
           }
          ],
          "scatterpolar": [
           {
            "marker": {
             "colorbar": {
              "outlinewidth": 0,
              "ticks": ""
             }
            },
            "type": "scatterpolar"
           }
          ],
          "scatterpolargl": [
           {
            "marker": {
             "colorbar": {
              "outlinewidth": 0,
              "ticks": ""
             }
            },
            "type": "scatterpolargl"
           }
          ],
          "scatterternary": [
           {
            "marker": {
             "colorbar": {
              "outlinewidth": 0,
              "ticks": ""
             }
            },
            "type": "scatterternary"
           }
          ],
          "surface": [
           {
            "colorbar": {
             "outlinewidth": 0,
             "ticks": ""
            },
            "colorscale": [
             [
              0,
              "#0d0887"
             ],
             [
              0.1111111111111111,
              "#46039f"
             ],
             [
              0.2222222222222222,
              "#7201a8"
             ],
             [
              0.3333333333333333,
              "#9c179e"
             ],
             [
              0.4444444444444444,
              "#bd3786"
             ],
             [
              0.5555555555555556,
              "#d8576b"
             ],
             [
              0.6666666666666666,
              "#ed7953"
             ],
             [
              0.7777777777777778,
              "#fb9f3a"
             ],
             [
              0.8888888888888888,
              "#fdca26"
             ],
             [
              1,
              "#f0f921"
             ]
            ],
            "type": "surface"
           }
          ],
          "table": [
           {
            "cells": {
             "fill": {
              "color": "#EBF0F8"
             },
             "line": {
              "color": "white"
             }
            },
            "header": {
             "fill": {
              "color": "#C8D4E3"
             },
             "line": {
              "color": "white"
             }
            },
            "type": "table"
           }
          ]
         },
         "layout": {
          "annotationdefaults": {
           "arrowcolor": "#2a3f5f",
           "arrowhead": 0,
           "arrowwidth": 1
          },
          "autotypenumbers": "strict",
          "coloraxis": {
           "colorbar": {
            "outlinewidth": 0,
            "ticks": ""
           }
          },
          "colorscale": {
           "diverging": [
            [
             0,
             "#8e0152"
            ],
            [
             0.1,
             "#c51b7d"
            ],
            [
             0.2,
             "#de77ae"
            ],
            [
             0.3,
             "#f1b6da"
            ],
            [
             0.4,
             "#fde0ef"
            ],
            [
             0.5,
             "#f7f7f7"
            ],
            [
             0.6,
             "#e6f5d0"
            ],
            [
             0.7,
             "#b8e186"
            ],
            [
             0.8,
             "#7fbc41"
            ],
            [
             0.9,
             "#4d9221"
            ],
            [
             1,
             "#276419"
            ]
           ],
           "sequential": [
            [
             0,
             "#0d0887"
            ],
            [
             0.1111111111111111,
             "#46039f"
            ],
            [
             0.2222222222222222,
             "#7201a8"
            ],
            [
             0.3333333333333333,
             "#9c179e"
            ],
            [
             0.4444444444444444,
             "#bd3786"
            ],
            [
             0.5555555555555556,
             "#d8576b"
            ],
            [
             0.6666666666666666,
             "#ed7953"
            ],
            [
             0.7777777777777778,
             "#fb9f3a"
            ],
            [
             0.8888888888888888,
             "#fdca26"
            ],
            [
             1,
             "#f0f921"
            ]
           ],
           "sequentialminus": [
            [
             0,
             "#0d0887"
            ],
            [
             0.1111111111111111,
             "#46039f"
            ],
            [
             0.2222222222222222,
             "#7201a8"
            ],
            [
             0.3333333333333333,
             "#9c179e"
            ],
            [
             0.4444444444444444,
             "#bd3786"
            ],
            [
             0.5555555555555556,
             "#d8576b"
            ],
            [
             0.6666666666666666,
             "#ed7953"
            ],
            [
             0.7777777777777778,
             "#fb9f3a"
            ],
            [
             0.8888888888888888,
             "#fdca26"
            ],
            [
             1,
             "#f0f921"
            ]
           ]
          },
          "colorway": [
           "#636efa",
           "#EF553B",
           "#00cc96",
           "#ab63fa",
           "#FFA15A",
           "#19d3f3",
           "#FF6692",
           "#B6E880",
           "#FF97FF",
           "#FECB52"
          ],
          "font": {
           "color": "#2a3f5f"
          },
          "geo": {
           "bgcolor": "white",
           "lakecolor": "white",
           "landcolor": "#E5ECF6",
           "showlakes": true,
           "showland": true,
           "subunitcolor": "white"
          },
          "hoverlabel": {
           "align": "left"
          },
          "hovermode": "closest",
          "mapbox": {
           "style": "light"
          },
          "paper_bgcolor": "white",
          "plot_bgcolor": "#E5ECF6",
          "polar": {
           "angularaxis": {
            "gridcolor": "white",
            "linecolor": "white",
            "ticks": ""
           },
           "bgcolor": "#E5ECF6",
           "radialaxis": {
            "gridcolor": "white",
            "linecolor": "white",
            "ticks": ""
           }
          },
          "scene": {
           "xaxis": {
            "backgroundcolor": "#E5ECF6",
            "gridcolor": "white",
            "gridwidth": 2,
            "linecolor": "white",
            "showbackground": true,
            "ticks": "",
            "zerolinecolor": "white"
           },
           "yaxis": {
            "backgroundcolor": "#E5ECF6",
            "gridcolor": "white",
            "gridwidth": 2,
            "linecolor": "white",
            "showbackground": true,
            "ticks": "",
            "zerolinecolor": "white"
           },
           "zaxis": {
            "backgroundcolor": "#E5ECF6",
            "gridcolor": "white",
            "gridwidth": 2,
            "linecolor": "white",
            "showbackground": true,
            "ticks": "",
            "zerolinecolor": "white"
           }
          },
          "shapedefaults": {
           "line": {
            "color": "#2a3f5f"
           }
          },
          "ternary": {
           "aaxis": {
            "gridcolor": "white",
            "linecolor": "white",
            "ticks": ""
           },
           "baxis": {
            "gridcolor": "white",
            "linecolor": "white",
            "ticks": ""
           },
           "bgcolor": "#E5ECF6",
           "caxis": {
            "gridcolor": "white",
            "linecolor": "white",
            "ticks": ""
           }
          },
          "title": {
           "x": 0.05
          },
          "xaxis": {
           "automargin": true,
           "gridcolor": "white",
           "linecolor": "white",
           "ticks": "",
           "title": {
            "standoff": 15
           },
           "zerolinecolor": "white",
           "zerolinewidth": 2
          },
          "yaxis": {
           "automargin": true,
           "gridcolor": "white",
           "linecolor": "white",
           "ticks": "",
           "title": {
            "standoff": 15
           },
           "zerolinecolor": "white",
           "zerolinewidth": 2
          }
         }
        },
        "xaxis": {
         "anchor": "y",
         "domain": [
          0,
          1
         ],
         "title": {
          "text": "hour"
         }
        },
        "yaxis": {
         "anchor": "x",
         "domain": [
          0,
          1
         ],
         "title": {
          "text": "frequency"
         }
        }
       }
      }
     },
     "metadata": {},
     "output_type": "display_data"
    }
   ],
   "source": [
    "hrs = getCounts(\"hour\")\n",
    "hrs.plot.bar(x = \"hour\", y = \"frequency\")"
   ]
  },
  {
   "cell_type": "code",
   "execution_count": 10,
   "metadata": {},
   "outputs": [
    {
     "data": {
      "application/vnd.plotly.v1+json": {
       "config": {
        "plotlyServerURL": "https://plot.ly"
       },
       "data": [
        {
         "alignmentgroup": "True",
         "hovertemplate": "frequency=%{x}<br>weekday=%{y}<extra></extra>",
         "legendgroup": "",
         "marker": {
          "color": "#636efa",
          "pattern": {
           "shape": ""
          }
         },
         "name": "",
         "offsetgroup": "",
         "orientation": "h",
         "showlegend": false,
         "textposition": "auto",
         "type": "bar",
         "x": [
          40900,
          49948,
          49973,
          50978,
          55034,
          69298,
          69532
         ],
         "xaxis": "x",
         "y": [
          "Wednesday",
          "Friday",
          "Saturday",
          "Sunday",
          "Thursday",
          "Monday",
          "Tuesday"
         ],
         "yaxis": "y"
        }
       ],
       "layout": {
        "barmode": "relative",
        "legend": {
         "tracegroupgap": 0
        },
        "margin": {
         "t": 60
        },
        "template": {
         "data": {
          "bar": [
           {
            "error_x": {
             "color": "#2a3f5f"
            },
            "error_y": {
             "color": "#2a3f5f"
            },
            "marker": {
             "line": {
              "color": "#E5ECF6",
              "width": 0.5
             },
             "pattern": {
              "fillmode": "overlay",
              "size": 10,
              "solidity": 0.2
             }
            },
            "type": "bar"
           }
          ],
          "barpolar": [
           {
            "marker": {
             "line": {
              "color": "#E5ECF6",
              "width": 0.5
             },
             "pattern": {
              "fillmode": "overlay",
              "size": 10,
              "solidity": 0.2
             }
            },
            "type": "barpolar"
           }
          ],
          "carpet": [
           {
            "aaxis": {
             "endlinecolor": "#2a3f5f",
             "gridcolor": "white",
             "linecolor": "white",
             "minorgridcolor": "white",
             "startlinecolor": "#2a3f5f"
            },
            "baxis": {
             "endlinecolor": "#2a3f5f",
             "gridcolor": "white",
             "linecolor": "white",
             "minorgridcolor": "white",
             "startlinecolor": "#2a3f5f"
            },
            "type": "carpet"
           }
          ],
          "choropleth": [
           {
            "colorbar": {
             "outlinewidth": 0,
             "ticks": ""
            },
            "type": "choropleth"
           }
          ],
          "contour": [
           {
            "colorbar": {
             "outlinewidth": 0,
             "ticks": ""
            },
            "colorscale": [
             [
              0,
              "#0d0887"
             ],
             [
              0.1111111111111111,
              "#46039f"
             ],
             [
              0.2222222222222222,
              "#7201a8"
             ],
             [
              0.3333333333333333,
              "#9c179e"
             ],
             [
              0.4444444444444444,
              "#bd3786"
             ],
             [
              0.5555555555555556,
              "#d8576b"
             ],
             [
              0.6666666666666666,
              "#ed7953"
             ],
             [
              0.7777777777777778,
              "#fb9f3a"
             ],
             [
              0.8888888888888888,
              "#fdca26"
             ],
             [
              1,
              "#f0f921"
             ]
            ],
            "type": "contour"
           }
          ],
          "contourcarpet": [
           {
            "colorbar": {
             "outlinewidth": 0,
             "ticks": ""
            },
            "type": "contourcarpet"
           }
          ],
          "heatmap": [
           {
            "colorbar": {
             "outlinewidth": 0,
             "ticks": ""
            },
            "colorscale": [
             [
              0,
              "#0d0887"
             ],
             [
              0.1111111111111111,
              "#46039f"
             ],
             [
              0.2222222222222222,
              "#7201a8"
             ],
             [
              0.3333333333333333,
              "#9c179e"
             ],
             [
              0.4444444444444444,
              "#bd3786"
             ],
             [
              0.5555555555555556,
              "#d8576b"
             ],
             [
              0.6666666666666666,
              "#ed7953"
             ],
             [
              0.7777777777777778,
              "#fb9f3a"
             ],
             [
              0.8888888888888888,
              "#fdca26"
             ],
             [
              1,
              "#f0f921"
             ]
            ],
            "type": "heatmap"
           }
          ],
          "heatmapgl": [
           {
            "colorbar": {
             "outlinewidth": 0,
             "ticks": ""
            },
            "colorscale": [
             [
              0,
              "#0d0887"
             ],
             [
              0.1111111111111111,
              "#46039f"
             ],
             [
              0.2222222222222222,
              "#7201a8"
             ],
             [
              0.3333333333333333,
              "#9c179e"
             ],
             [
              0.4444444444444444,
              "#bd3786"
             ],
             [
              0.5555555555555556,
              "#d8576b"
             ],
             [
              0.6666666666666666,
              "#ed7953"
             ],
             [
              0.7777777777777778,
              "#fb9f3a"
             ],
             [
              0.8888888888888888,
              "#fdca26"
             ],
             [
              1,
              "#f0f921"
             ]
            ],
            "type": "heatmapgl"
           }
          ],
          "histogram": [
           {
            "marker": {
             "pattern": {
              "fillmode": "overlay",
              "size": 10,
              "solidity": 0.2
             }
            },
            "type": "histogram"
           }
          ],
          "histogram2d": [
           {
            "colorbar": {
             "outlinewidth": 0,
             "ticks": ""
            },
            "colorscale": [
             [
              0,
              "#0d0887"
             ],
             [
              0.1111111111111111,
              "#46039f"
             ],
             [
              0.2222222222222222,
              "#7201a8"
             ],
             [
              0.3333333333333333,
              "#9c179e"
             ],
             [
              0.4444444444444444,
              "#bd3786"
             ],
             [
              0.5555555555555556,
              "#d8576b"
             ],
             [
              0.6666666666666666,
              "#ed7953"
             ],
             [
              0.7777777777777778,
              "#fb9f3a"
             ],
             [
              0.8888888888888888,
              "#fdca26"
             ],
             [
              1,
              "#f0f921"
             ]
            ],
            "type": "histogram2d"
           }
          ],
          "histogram2dcontour": [
           {
            "colorbar": {
             "outlinewidth": 0,
             "ticks": ""
            },
            "colorscale": [
             [
              0,
              "#0d0887"
             ],
             [
              0.1111111111111111,
              "#46039f"
             ],
             [
              0.2222222222222222,
              "#7201a8"
             ],
             [
              0.3333333333333333,
              "#9c179e"
             ],
             [
              0.4444444444444444,
              "#bd3786"
             ],
             [
              0.5555555555555556,
              "#d8576b"
             ],
             [
              0.6666666666666666,
              "#ed7953"
             ],
             [
              0.7777777777777778,
              "#fb9f3a"
             ],
             [
              0.8888888888888888,
              "#fdca26"
             ],
             [
              1,
              "#f0f921"
             ]
            ],
            "type": "histogram2dcontour"
           }
          ],
          "mesh3d": [
           {
            "colorbar": {
             "outlinewidth": 0,
             "ticks": ""
            },
            "type": "mesh3d"
           }
          ],
          "parcoords": [
           {
            "line": {
             "colorbar": {
              "outlinewidth": 0,
              "ticks": ""
             }
            },
            "type": "parcoords"
           }
          ],
          "pie": [
           {
            "automargin": true,
            "type": "pie"
           }
          ],
          "scatter": [
           {
            "fillpattern": {
             "fillmode": "overlay",
             "size": 10,
             "solidity": 0.2
            },
            "type": "scatter"
           }
          ],
          "scatter3d": [
           {
            "line": {
             "colorbar": {
              "outlinewidth": 0,
              "ticks": ""
             }
            },
            "marker": {
             "colorbar": {
              "outlinewidth": 0,
              "ticks": ""
             }
            },
            "type": "scatter3d"
           }
          ],
          "scattercarpet": [
           {
            "marker": {
             "colorbar": {
              "outlinewidth": 0,
              "ticks": ""
             }
            },
            "type": "scattercarpet"
           }
          ],
          "scattergeo": [
           {
            "marker": {
             "colorbar": {
              "outlinewidth": 0,
              "ticks": ""
             }
            },
            "type": "scattergeo"
           }
          ],
          "scattergl": [
           {
            "marker": {
             "colorbar": {
              "outlinewidth": 0,
              "ticks": ""
             }
            },
            "type": "scattergl"
           }
          ],
          "scattermapbox": [
           {
            "marker": {
             "colorbar": {
              "outlinewidth": 0,
              "ticks": ""
             }
            },
            "type": "scattermapbox"
           }
          ],
          "scatterpolar": [
           {
            "marker": {
             "colorbar": {
              "outlinewidth": 0,
              "ticks": ""
             }
            },
            "type": "scatterpolar"
           }
          ],
          "scatterpolargl": [
           {
            "marker": {
             "colorbar": {
              "outlinewidth": 0,
              "ticks": ""
             }
            },
            "type": "scatterpolargl"
           }
          ],
          "scatterternary": [
           {
            "marker": {
             "colorbar": {
              "outlinewidth": 0,
              "ticks": ""
             }
            },
            "type": "scatterternary"
           }
          ],
          "surface": [
           {
            "colorbar": {
             "outlinewidth": 0,
             "ticks": ""
            },
            "colorscale": [
             [
              0,
              "#0d0887"
             ],
             [
              0.1111111111111111,
              "#46039f"
             ],
             [
              0.2222222222222222,
              "#7201a8"
             ],
             [
              0.3333333333333333,
              "#9c179e"
             ],
             [
              0.4444444444444444,
              "#bd3786"
             ],
             [
              0.5555555555555556,
              "#d8576b"
             ],
             [
              0.6666666666666666,
              "#ed7953"
             ],
             [
              0.7777777777777778,
              "#fb9f3a"
             ],
             [
              0.8888888888888888,
              "#fdca26"
             ],
             [
              1,
              "#f0f921"
             ]
            ],
            "type": "surface"
           }
          ],
          "table": [
           {
            "cells": {
             "fill": {
              "color": "#EBF0F8"
             },
             "line": {
              "color": "white"
             }
            },
            "header": {
             "fill": {
              "color": "#C8D4E3"
             },
             "line": {
              "color": "white"
             }
            },
            "type": "table"
           }
          ]
         },
         "layout": {
          "annotationdefaults": {
           "arrowcolor": "#2a3f5f",
           "arrowhead": 0,
           "arrowwidth": 1
          },
          "autotypenumbers": "strict",
          "coloraxis": {
           "colorbar": {
            "outlinewidth": 0,
            "ticks": ""
           }
          },
          "colorscale": {
           "diverging": [
            [
             0,
             "#8e0152"
            ],
            [
             0.1,
             "#c51b7d"
            ],
            [
             0.2,
             "#de77ae"
            ],
            [
             0.3,
             "#f1b6da"
            ],
            [
             0.4,
             "#fde0ef"
            ],
            [
             0.5,
             "#f7f7f7"
            ],
            [
             0.6,
             "#e6f5d0"
            ],
            [
             0.7,
             "#b8e186"
            ],
            [
             0.8,
             "#7fbc41"
            ],
            [
             0.9,
             "#4d9221"
            ],
            [
             1,
             "#276419"
            ]
           ],
           "sequential": [
            [
             0,
             "#0d0887"
            ],
            [
             0.1111111111111111,
             "#46039f"
            ],
            [
             0.2222222222222222,
             "#7201a8"
            ],
            [
             0.3333333333333333,
             "#9c179e"
            ],
            [
             0.4444444444444444,
             "#bd3786"
            ],
            [
             0.5555555555555556,
             "#d8576b"
            ],
            [
             0.6666666666666666,
             "#ed7953"
            ],
            [
             0.7777777777777778,
             "#fb9f3a"
            ],
            [
             0.8888888888888888,
             "#fdca26"
            ],
            [
             1,
             "#f0f921"
            ]
           ],
           "sequentialminus": [
            [
             0,
             "#0d0887"
            ],
            [
             0.1111111111111111,
             "#46039f"
            ],
            [
             0.2222222222222222,
             "#7201a8"
            ],
            [
             0.3333333333333333,
             "#9c179e"
            ],
            [
             0.4444444444444444,
             "#bd3786"
            ],
            [
             0.5555555555555556,
             "#d8576b"
            ],
            [
             0.6666666666666666,
             "#ed7953"
            ],
            [
             0.7777777777777778,
             "#fb9f3a"
            ],
            [
             0.8888888888888888,
             "#fdca26"
            ],
            [
             1,
             "#f0f921"
            ]
           ]
          },
          "colorway": [
           "#636efa",
           "#EF553B",
           "#00cc96",
           "#ab63fa",
           "#FFA15A",
           "#19d3f3",
           "#FF6692",
           "#B6E880",
           "#FF97FF",
           "#FECB52"
          ],
          "font": {
           "color": "#2a3f5f"
          },
          "geo": {
           "bgcolor": "white",
           "lakecolor": "white",
           "landcolor": "#E5ECF6",
           "showlakes": true,
           "showland": true,
           "subunitcolor": "white"
          },
          "hoverlabel": {
           "align": "left"
          },
          "hovermode": "closest",
          "mapbox": {
           "style": "light"
          },
          "paper_bgcolor": "white",
          "plot_bgcolor": "#E5ECF6",
          "polar": {
           "angularaxis": {
            "gridcolor": "white",
            "linecolor": "white",
            "ticks": ""
           },
           "bgcolor": "#E5ECF6",
           "radialaxis": {
            "gridcolor": "white",
            "linecolor": "white",
            "ticks": ""
           }
          },
          "scene": {
           "xaxis": {
            "backgroundcolor": "#E5ECF6",
            "gridcolor": "white",
            "gridwidth": 2,
            "linecolor": "white",
            "showbackground": true,
            "ticks": "",
            "zerolinecolor": "white"
           },
           "yaxis": {
            "backgroundcolor": "#E5ECF6",
            "gridcolor": "white",
            "gridwidth": 2,
            "linecolor": "white",
            "showbackground": true,
            "ticks": "",
            "zerolinecolor": "white"
           },
           "zaxis": {
            "backgroundcolor": "#E5ECF6",
            "gridcolor": "white",
            "gridwidth": 2,
            "linecolor": "white",
            "showbackground": true,
            "ticks": "",
            "zerolinecolor": "white"
           }
          },
          "shapedefaults": {
           "line": {
            "color": "#2a3f5f"
           }
          },
          "ternary": {
           "aaxis": {
            "gridcolor": "white",
            "linecolor": "white",
            "ticks": ""
           },
           "baxis": {
            "gridcolor": "white",
            "linecolor": "white",
            "ticks": ""
           },
           "bgcolor": "#E5ECF6",
           "caxis": {
            "gridcolor": "white",
            "linecolor": "white",
            "ticks": ""
           }
          },
          "title": {
           "x": 0.05
          },
          "xaxis": {
           "automargin": true,
           "gridcolor": "white",
           "linecolor": "white",
           "ticks": "",
           "title": {
            "standoff": 15
           },
           "zerolinecolor": "white",
           "zerolinewidth": 2
          },
          "yaxis": {
           "automargin": true,
           "gridcolor": "white",
           "linecolor": "white",
           "ticks": "",
           "title": {
            "standoff": 15
           },
           "zerolinecolor": "white",
           "zerolinewidth": 2
          }
         }
        },
        "xaxis": {
         "anchor": "y",
         "domain": [
          0,
          1
         ],
         "title": {
          "text": "frequency"
         }
        },
        "yaxis": {
         "anchor": "x",
         "domain": [
          0,
          1
         ],
         "title": {
          "text": "weekday"
         }
        }
       }
      }
     },
     "metadata": {},
     "output_type": "display_data"
    }
   ],
   "source": [
    "wdays = getCounts(\"weekday\")\n",
    "wdays.plot.bar(x = \"frequency\", y = \"weekday\")"
   ]
  },
  {
   "cell_type": "code",
   "execution_count": 11,
   "metadata": {},
   "outputs": [],
   "source": [
    "psDF = ps.DataFrame(df)"
   ]
  },
  {
   "cell_type": "code",
   "execution_count": 12,
   "metadata": {},
   "outputs": [
    {
     "name": "stderr",
     "output_type": "stream",
     "text": [
      "C:\\Users\\Test\\AppData\\Local\\Packages\\PythonSoftwareFoundation.Python.3.10_qbz5n2kfra8p0\\LocalCache\\local-packages\\Python310\\site-packages\\pyspark\\sql\\pandas\\conversion.py:248: FutureWarning:\n",
      "\n",
      "Passing unit-less datetime64 dtype to .astype is deprecated and will raise in a future version. Pass 'datetime64[ns]' instead\n",
      "\n"
     ]
    },
    {
     "data": {
      "application/vnd.plotly.v1+json": {
       "config": {
        "plotlyServerURL": "https://plot.ly"
       },
       "data": [
        {
         "hovertemplate": "latitude=%{x}<br>price=%{y}<extra></extra>",
         "legendgroup": "",
         "marker": {
          "color": "#636efa",
          "symbol": "circle"
         },
         "mode": "markers",
         "name": "",
         "orientation": "v",
         "showlegend": false,
         "type": "scatter",
         "x": [
          42.351898193359375,
          42.351898193359375,
          42.36470031738281,
          42.35049819946289,
          42.35049819946289,
          42.35049819946289,
          42.3661003112793,
          42.3661003112793,
          42.3661003112793,
          42.3661003112793,
          42.3661003112793,
          42.3661003112793,
          42.36470031738281,
          42.36470031738281,
          42.36470031738281,
          42.342899322509766,
          42.36470031738281,
          42.36470031738281,
          42.36470031738281,
          42.36470031738281,
          42.36470031738281,
          42.35049819946289,
          42.35029983520508,
          42.35029983520508,
          42.35029983520508,
          42.35029983520508,
          42.35029983520508,
          42.21480178833008,
          42.21480178833008,
          42.21480178833008,
          42.3661003112793,
          42.3661003112793,
          42.3661003112793,
          42.3661003112793,
          42.3661003112793,
          42.3661003112793,
          42.21480178833008,
          42.36470031738281,
          42.36470031738281,
          42.36470031738281,
          42.21480178833008,
          42.21480178833008,
          42.21480178833008,
          42.21480178833008,
          42.21480178833008,
          42.36439895629883,
          42.36439895629883,
          42.36439895629883,
          42.36439895629883,
          42.36439895629883,
          42.36439895629883,
          42.35049819946289,
          42.35049819946289,
          42.35049819946289,
          42.35049819946289,
          42.35049819946289,
          42.21480178833008,
          42.21480178833008,
          42.21480178833008,
          42.21480178833008,
          42.21480178833008,
          42.21480178833008,
          42.3661003112793,
          42.3661003112793,
          42.3661003112793,
          42.3661003112793,
          42.3661003112793,
          42.3661003112793,
          42.21480178833008,
          42.21480178833008,
          42.21480178833008,
          42.21480178833008,
          42.21480178833008,
          42.21480178833008,
          42.21480178833008,
          42.21480178833008,
          42.21480178833008,
          42.21480178833008,
          42.21480178833008,
          42.351898193359375,
          42.35879898071289,
          42.35879898071289,
          42.35879898071289,
          42.35879898071289,
          42.351898193359375,
          42.351898193359375,
          42.351898193359375,
          42.351898193359375,
          42.351898193359375,
          42.351898193359375,
          42.351898193359375,
          42.351898193359375,
          42.351898193359375,
          42.351898193359375,
          42.351898193359375,
          42.351898193359375,
          42.21480178833008,
          42.21480178833008,
          42.21480178833008,
          42.21480178833008,
          42.21480178833008,
          42.35049819946289,
          42.3661003112793,
          42.3661003112793,
          42.3661003112793,
          42.3661003112793,
          42.3661003112793,
          42.3661003112793,
          42.36470031738281,
          42.36470031738281,
          42.36470031738281,
          42.36470031738281,
          42.36470031738281,
          42.351898193359375,
          42.351898193359375,
          42.351898193359375,
          42.351898193359375,
          42.351898193359375,
          42.351898193359375,
          42.351898193359375,
          42.351898193359375,
          42.351898193359375,
          42.351898193359375,
          42.351898193359375,
          42.351898193359375,
          42.351898193359375,
          42.3661003112793,
          42.3661003112793,
          42.3661003112793,
          42.3661003112793,
          42.3661003112793,
          42.3661003112793,
          42.3661003112793,
          42.3661003112793,
          42.3661003112793,
          42.3661003112793,
          42.3661003112793,
          42.3661003112793,
          42.35029983520508,
          42.35029983520508,
          42.35029983520508,
          42.35029983520508,
          42.351898193359375,
          42.351898193359375,
          42.351898193359375,
          42.351898193359375,
          42.351898193359375,
          42.21480178833008,
          42.21480178833008,
          42.21480178833008,
          42.21480178833008,
          42.36439895629883,
          42.36439895629883,
          42.35879898071289,
          42.35879898071289,
          42.35879898071289,
          42.351898193359375,
          42.351898193359375,
          42.21480178833008,
          42.21480178833008,
          42.21480178833008,
          42.21480178833008,
          42.21480178833008,
          42.351898193359375,
          42.351898193359375,
          42.351898193359375,
          42.351898193359375,
          42.351898193359375,
          42.342899322509766,
          42.342899322509766,
          42.342899322509766,
          42.342899322509766,
          42.342899322509766,
          42.36470031738281,
          42.36470031738281,
          42.36470031738281,
          42.36470031738281,
          42.21480178833008,
          42.21480178833008,
          42.21480178833008,
          42.21480178833008,
          42.21480178833008,
          42.3661003112793,
          42.3661003112793,
          42.3661003112793,
          42.3661003112793,
          42.3661003112793,
          42.35049819946289,
          42.35049819946289,
          42.35049819946289,
          42.35049819946289,
          42.35049819946289,
          42.351898193359375,
          42.351898193359375,
          42.351898193359375,
          42.36470031738281,
          42.36470031738281,
          42.36470031738281,
          42.36470031738281,
          42.36470031738281,
          42.36470031738281,
          42.35049819946289,
          42.35049819946289,
          42.35049819946289,
          42.35049819946289,
          42.35049819946289,
          42.36470031738281,
          42.36470031738281,
          42.21480178833008,
          42.21480178833008,
          42.21480178833008,
          42.21480178833008,
          42.355899810791016,
          42.355899810791016,
          42.355899810791016,
          42.351898193359375,
          42.351898193359375,
          42.351898193359375,
          42.36470031738281,
          42.36470031738281,
          42.36470031738281,
          42.36470031738281,
          42.36470031738281,
          42.35879898071289,
          42.35879898071289,
          42.35879898071289,
          42.35879898071289,
          42.35879898071289,
          42.35879898071289,
          42.35049819946289,
          42.35049819946289,
          42.35049819946289,
          42.35049819946289,
          42.35049819946289,
          42.3661003112793,
          42.3661003112793,
          42.21480178833008,
          42.21480178833008,
          42.342899322509766,
          42.342899322509766,
          42.342899322509766,
          42.342899322509766,
          42.342899322509766,
          42.35879898071289,
          42.35879898071289,
          42.35879898071289,
          42.35879898071289,
          42.35879898071289,
          42.35879898071289,
          42.35879898071289,
          42.35879898071289,
          42.35879898071289,
          42.35879898071289,
          42.3661003112793,
          42.3661003112793,
          42.3661003112793,
          42.3661003112793,
          42.3661003112793,
          42.342899322509766,
          42.342899322509766,
          42.342899322509766,
          42.342899322509766,
          42.342899322509766,
          42.342899322509766,
          42.342899322509766,
          42.342899322509766,
          42.342899322509766,
          42.342899322509766,
          42.342899322509766,
          42.351898193359375,
          42.351898193359375,
          42.351898193359375,
          42.35049819946289,
          42.35049819946289,
          42.35049819946289,
          42.21480178833008,
          42.21480178833008,
          42.21480178833008,
          42.21480178833008,
          42.21480178833008,
          42.21480178833008,
          42.21480178833008,
          42.21480178833008,
          42.21480178833008,
          42.21480178833008,
          42.21480178833008,
          42.21480178833008,
          42.21480178833008,
          42.21480178833008,
          42.21480178833008,
          42.21480178833008,
          42.21480178833008,
          42.351898193359375,
          42.3661003112793,
          42.3661003112793,
          42.3661003112793,
          42.3661003112793,
          42.3661003112793,
          42.3661003112793,
          42.3661003112793,
          42.3661003112793,
          42.3661003112793,
          42.3661003112793,
          42.3661003112793,
          42.35029983520508,
          42.35029983520508,
          42.35029983520508,
          42.35049819946289,
          42.35049819946289,
          42.21480178833008,
          42.21480178833008,
          42.21480178833008,
          42.21480178833008,
          42.21480178833008,
          42.351898193359375,
          42.351898193359375,
          42.351898193359375,
          42.351898193359375,
          42.351898193359375,
          42.351898193359375,
          42.355899810791016,
          42.355899810791016,
          42.355899810791016,
          42.355899810791016,
          42.355899810791016,
          42.351898193359375,
          42.351898193359375,
          42.351898193359375,
          42.36470031738281,
          42.351898193359375,
          42.351898193359375,
          42.351898193359375,
          42.351898193359375,
          42.351898193359375,
          42.351898193359375,
          42.351898193359375,
          42.351898193359375,
          42.351898193359375,
          42.3661003112793,
          42.3661003112793,
          42.3661003112793,
          42.3661003112793,
          42.35029983520508,
          42.35029983520508,
          42.35029983520508,
          42.35029983520508,
          42.35029983520508,
          42.36439895629883,
          42.36439895629883,
          42.36439895629883,
          42.36439895629883,
          42.351898193359375,
          42.351898193359375,
          42.351898193359375,
          42.351898193359375,
          42.351898193359375,
          42.35879898071289,
          42.35879898071289,
          42.35879898071289,
          42.35879898071289,
          42.35879898071289,
          42.35879898071289,
          42.35879898071289,
          42.35029983520508,
          42.35029983520508,
          42.35029983520508,
          42.35879898071289,
          42.35879898071289,
          42.35879898071289,
          42.35879898071289,
          42.35879898071289,
          42.36470031738281,
          42.36470031738281,
          42.36470031738281,
          42.36470031738281,
          42.36470031738281,
          42.36470031738281,
          42.35029983520508,
          42.36439895629883,
          42.36439895629883,
          42.36439895629883,
          42.36439895629883,
          42.36439895629883,
          42.36439895629883,
          42.35879898071289,
          42.35879898071289,
          42.35879898071289,
          42.35879898071289,
          42.35879898071289,
          42.36470031738281,
          42.36470031738281,
          42.36470031738281,
          42.36470031738281,
          42.36470031738281,
          42.36470031738281,
          42.36470031738281,
          42.36470031738281,
          42.36470031738281,
          42.3661003112793,
          42.3661003112793,
          42.3661003112793,
          42.3661003112793,
          42.3661003112793,
          42.36470031738281,
          42.36470031738281,
          42.36470031738281,
          42.36470031738281,
          42.36470031738281,
          42.21480178833008,
          42.21480178833008,
          42.21480178833008,
          42.21480178833008,
          42.21480178833008,
          42.21480178833008,
          42.36470031738281,
          42.36470031738281,
          42.36470031738281,
          42.342899322509766,
          42.342899322509766,
          42.355899810791016,
          42.355899810791016,
          42.355899810791016,
          42.355899810791016,
          42.355899810791016,
          42.21480178833008,
          42.21480178833008,
          42.21480178833008,
          42.21480178833008,
          42.21480178833008,
          42.33980178833008,
          42.33980178833008,
          42.33980178833008,
          42.33980178833008,
          42.33980178833008,
          42.33980178833008,
          42.342899322509766,
          42.342899322509766,
          42.342899322509766,
          42.342899322509766,
          42.342899322509766,
          42.342899322509766,
          42.35029983520508,
          42.35029983520508,
          42.35029983520508,
          42.35029983520508,
          42.35029983520508,
          42.36470031738281,
          42.33980178833008,
          42.33980178833008,
          42.33980178833008,
          42.33980178833008,
          42.33980178833008,
          42.33980178833008,
          42.21480178833008,
          42.21480178833008,
          42.21480178833008,
          42.21480178833008,
          42.21480178833008,
          42.21480178833008,
          42.35029983520508,
          42.35029983520508,
          42.35029983520508,
          42.35029983520508,
          42.35029983520508,
          42.35029983520508,
          42.35879898071289,
          42.35879898071289,
          42.35879898071289,
          42.35879898071289,
          42.35879898071289,
          42.351898193359375,
          42.351898193359375,
          42.351898193359375,
          42.351898193359375,
          42.351898193359375,
          42.342899322509766,
          42.342899322509766,
          42.342899322509766,
          42.33980178833008,
          42.21480178833008,
          42.21480178833008,
          42.21480178833008,
          42.21480178833008,
          42.21480178833008,
          42.21480178833008,
          42.3661003112793,
          42.3661003112793,
          42.3661003112793,
          42.3661003112793,
          42.3661003112793,
          42.3661003112793,
          42.3661003112793,
          42.33980178833008,
          42.33980178833008,
          42.33980178833008,
          42.33980178833008,
          42.33980178833008,
          42.33980178833008,
          42.21480178833008,
          42.21480178833008,
          42.21480178833008,
          42.21480178833008,
          42.21480178833008,
          42.36439895629883,
          42.36439895629883,
          42.36439895629883,
          42.351898193359375,
          42.351898193359375,
          42.351898193359375,
          42.351898193359375,
          42.351898193359375,
          42.351898193359375,
          42.351898193359375,
          42.351898193359375,
          42.351898193359375,
          42.36470031738281,
          42.36470031738281,
          42.36470031738281,
          42.36470031738281,
          42.36470031738281,
          42.35049819946289,
          42.35049819946289,
          42.21480178833008,
          42.21480178833008,
          42.351898193359375,
          42.351898193359375,
          42.351898193359375,
          42.351898193359375,
          42.351898193359375,
          42.3661003112793,
          42.36439895629883,
          42.36439895629883,
          42.36439895629883,
          42.36439895629883,
          42.36439895629883,
          42.21480178833008,
          42.36470031738281,
          42.351898193359375,
          42.351898193359375,
          42.351898193359375,
          42.351898193359375,
          42.351898193359375,
          42.351898193359375,
          42.36470031738281,
          42.36470031738281,
          42.36470031738281,
          42.36470031738281,
          42.36470031738281,
          42.36470031738281,
          42.21480178833008,
          42.21480178833008,
          42.21480178833008,
          42.21480178833008,
          42.21480178833008,
          42.21480178833008,
          42.3661003112793,
          42.3661003112793,
          42.3661003112793,
          42.3661003112793,
          42.21480178833008,
          42.21480178833008,
          42.3661003112793,
          42.3661003112793,
          42.3661003112793,
          42.3661003112793,
          42.3661003112793,
          42.33980178833008,
          42.33980178833008,
          42.33980178833008,
          42.33980178833008,
          42.33980178833008,
          42.36439895629883,
          42.36439895629883,
          42.36439895629883,
          42.36439895629883,
          42.36439895629883,
          42.36439895629883,
          42.36439895629883,
          42.36439895629883,
          42.36439895629883,
          42.36439895629883,
          42.3661003112793,
          42.3661003112793,
          42.3661003112793,
          42.3661003112793,
          42.3661003112793,
          42.36470031738281,
          42.36470031738281,
          42.36470031738281,
          42.36470031738281,
          42.36470031738281,
          42.355899810791016,
          42.355899810791016,
          42.355899810791016,
          42.355899810791016,
          42.355899810791016,
          42.36470031738281,
          42.36470031738281,
          42.36470031738281,
          42.35029983520508,
          42.35029983520508,
          42.35029983520508,
          42.35029983520508,
          42.35029983520508,
          42.35029983520508,
          42.35029983520508,
          42.21480178833008,
          42.21480178833008,
          42.21480178833008,
          42.21480178833008,
          42.36470031738281,
          42.36470031738281,
          42.36470031738281,
          42.35879898071289,
          42.35879898071289,
          42.35879898071289,
          42.35879898071289,
          42.35029983520508,
          42.35029983520508,
          42.35029983520508,
          42.35029983520508,
          42.35029983520508,
          42.35029983520508,
          42.342899322509766,
          42.355899810791016,
          42.355899810791016,
          42.355899810791016,
          42.342899322509766,
          42.342899322509766,
          42.342899322509766,
          42.342899322509766,
          42.342899322509766,
          42.36470031738281,
          42.36470031738281,
          42.36470031738281,
          42.36470031738281,
          42.36470031738281,
          42.36470031738281,
          42.36470031738281,
          42.36470031738281,
          42.36470031738281,
          42.36470031738281,
          42.36470031738281,
          42.36470031738281,
          42.36470031738281,
          42.35049819946289,
          42.35049819946289,
          42.35049819946289,
          42.35049819946289,
          42.35049819946289,
          42.3661003112793,
          42.3661003112793,
          42.3661003112793,
          42.3661003112793,
          42.3661003112793,
          42.351898193359375,
          42.351898193359375,
          42.351898193359375,
          42.351898193359375,
          42.351898193359375,
          42.351898193359375,
          42.21480178833008,
          42.21480178833008,
          42.21480178833008,
          42.21480178833008,
          42.21480178833008,
          42.351898193359375,
          42.351898193359375,
          42.351898193359375,
          42.351898193359375,
          42.351898193359375,
          42.351898193359375,
          42.36470031738281,
          42.355899810791016,
          42.355899810791016,
          42.35049819946289,
          42.35049819946289,
          42.35049819946289,
          42.35049819946289,
          42.35049819946289,
          42.35049819946289,
          42.342899322509766,
          42.342899322509766,
          42.342899322509766,
          42.342899322509766,
          42.342899322509766,
          42.342899322509766,
          42.36470031738281,
          42.3661003112793,
          42.3661003112793,
          42.3661003112793,
          42.3661003112793,
          42.21480178833008,
          42.21480178833008,
          42.21480178833008,
          42.21480178833008,
          42.21480178833008,
          42.36470031738281,
          42.36470031738281,
          42.36470031738281,
          42.36470031738281,
          42.36470031738281,
          42.3661003112793,
          42.3661003112793,
          42.3661003112793,
          42.3661003112793,
          42.355899810791016,
          42.355899810791016,
          42.355899810791016,
          42.355899810791016,
          42.355899810791016,
          42.35029983520508,
          42.35029983520508,
          42.21480178833008,
          42.21480178833008,
          42.21480178833008,
          42.3661003112793,
          42.3661003112793,
          42.3661003112793,
          42.3661003112793,
          42.3661003112793,
          42.3661003112793,
          42.21480178833008,
          42.21480178833008,
          42.21480178833008,
          42.21480178833008,
          42.36470031738281,
          42.36470031738281,
          42.36470031738281,
          42.36470031738281,
          42.36470031738281,
          42.36470031738281,
          42.36470031738281,
          42.36470031738281,
          42.35879898071289,
          42.35879898071289,
          42.35879898071289,
          42.33980178833008,
          42.33980178833008,
          42.33980178833008,
          42.33980178833008,
          42.36470031738281,
          42.36470031738281,
          42.36470031738281,
          42.36470031738281,
          42.35879898071289,
          42.35879898071289,
          42.35879898071289,
          42.35879898071289,
          42.35879898071289,
          42.35879898071289,
          42.355899810791016,
          42.355899810791016,
          42.355899810791016,
          42.355899810791016,
          42.355899810791016,
          42.355899810791016,
          42.35049819946289,
          42.35049819946289,
          42.35049819946289,
          42.35049819946289,
          42.35049819946289,
          42.351898193359375,
          42.351898193359375,
          42.351898193359375,
          42.351898193359375,
          42.351898193359375,
          42.351898193359375,
          42.351898193359375,
          42.351898193359375,
          42.3661003112793,
          42.3661003112793,
          42.3661003112793,
          42.3661003112793,
          42.3661003112793,
          42.3661003112793,
          42.351898193359375,
          42.351898193359375,
          42.351898193359375,
          42.351898193359375,
          42.351898193359375,
          42.351898193359375,
          42.351898193359375,
          42.33980178833008,
          42.33980178833008,
          42.35049819946289,
          42.35049819946289,
          42.35049819946289,
          42.35049819946289,
          42.35049819946289,
          42.355899810791016,
          42.355899810791016,
          42.355899810791016,
          42.35879898071289,
          42.35879898071289,
          42.35879898071289,
          42.35879898071289,
          42.35879898071289,
          42.36470031738281,
          42.36470031738281,
          42.36470031738281,
          42.36470031738281,
          42.21480178833008,
          42.21480178833008,
          42.21480178833008,
          42.21480178833008,
          42.21480178833008,
          42.21480178833008,
          42.3661003112793,
          42.3661003112793,
          42.3661003112793,
          42.3661003112793,
          42.3661003112793,
          42.351898193359375,
          42.35049819946289,
          42.35049819946289,
          42.35049819946289,
          42.35049819946289,
          42.35049819946289,
          42.35029983520508,
          42.36470031738281,
          42.36470031738281,
          42.36470031738281,
          42.36470031738281,
          42.36470031738281,
          42.35029983520508,
          42.35029983520508,
          42.35029983520508,
          42.36470031738281,
          42.36470031738281,
          42.35029983520508,
          42.35029983520508,
          42.35029983520508,
          42.35029983520508,
          42.355899810791016,
          42.355899810791016,
          42.355899810791016,
          42.36470031738281,
          42.36470031738281,
          42.351898193359375,
          42.351898193359375,
          42.351898193359375,
          42.351898193359375,
          42.351898193359375,
          42.351898193359375,
          42.351898193359375,
          42.351898193359375,
          42.355899810791016,
          42.355899810791016,
          42.355899810791016,
          42.355899810791016,
          42.355899810791016,
          42.21480178833008,
          42.21480178833008,
          42.21480178833008,
          42.21480178833008,
          42.21480178833008,
          42.36470031738281,
          42.36470031738281,
          42.36470031738281,
          42.351898193359375,
          42.21480178833008,
          42.21480178833008,
          42.21480178833008,
          42.21480178833008,
          42.21480178833008,
          42.21480178833008,
          42.3661003112793,
          42.3661003112793,
          42.36439895629883,
          42.36439895629883,
          42.36439895629883,
          42.36439895629883,
          42.36439895629883,
          42.355899810791016,
          42.355899810791016,
          42.355899810791016,
          42.355899810791016,
          42.355899810791016,
          42.342899322509766,
          42.342899322509766,
          42.351898193359375,
          42.342899322509766,
          42.342899322509766,
          42.342899322509766,
          42.342899322509766,
          42.342899322509766,
          42.342899322509766,
          42.342899322509766,
          42.342899322509766,
          42.342899322509766,
          42.342899322509766,
          42.342899322509766,
          42.36439895629883,
          42.36439895629883,
          42.342899322509766,
          42.342899322509766,
          42.342899322509766,
          42.342899322509766,
          42.36470031738281,
          42.36470031738281,
          42.36470031738281,
          42.36470031738281,
          42.36470031738281,
          42.36470031738281,
          42.36470031738281,
          42.36470031738281,
          42.36470031738281,
          42.36470031738281,
          42.35879898071289,
          42.35879898071289,
          42.35879898071289,
          42.35879898071289,
          42.35879898071289,
          42.35879898071289,
          42.3661003112793,
          42.35049819946289,
          42.35879898071289,
          42.35879898071289,
          42.35879898071289,
          42.35879898071289,
          42.35879898071289,
          42.33980178833008,
          42.33980178833008,
          42.33980178833008,
          42.36470031738281,
          42.36470031738281,
          42.36470031738281,
          42.36470031738281,
          42.36470031738281,
          42.35029983520508,
          42.35029983520508,
          42.35029983520508,
          42.35029983520508,
          42.35029983520508,
          42.35029983520508,
          42.35029983520508,
          42.3661003112793,
          42.36470031738281,
          42.36470031738281,
          42.36470031738281,
          42.36470031738281,
          42.36470031738281,
          42.3661003112793,
          42.3661003112793,
          42.3661003112793,
          42.3661003112793,
          42.3661003112793,
          42.35049819946289,
          42.35049819946289,
          42.35049819946289,
          42.36470031738281,
          42.36470031738281,
          42.351898193359375,
          42.351898193359375,
          42.33980178833008,
          42.33980178833008,
          42.33980178833008,
          42.33980178833008,
          42.33980178833008,
          42.33980178833008,
          42.35049819946289,
          42.35049819946289,
          42.35049819946289,
          42.35049819946289,
          42.3661003112793,
          42.3661003112793,
          42.33980178833008,
          42.33980178833008,
          42.33980178833008,
          42.33980178833008,
          42.33980178833008,
          42.33980178833008,
          42.3661003112793,
          42.3661003112793,
          42.3661003112793,
          42.3661003112793,
          42.3661003112793,
          42.21480178833008,
          42.21480178833008,
          42.21480178833008,
          42.21480178833008,
          42.21480178833008,
          42.21480178833008,
          42.35049819946289,
          42.35049819946289,
          42.35049819946289,
          42.35049819946289,
          42.35049819946289,
          42.36439895629883,
          42.36439895629883,
          42.36439895629883,
          42.36439895629883,
          42.3661003112793,
          42.3661003112793,
          42.3661003112793,
          42.3661003112793,
          42.3661003112793,
          42.3661003112793,
          42.35879898071289
         ],
         "xaxis": "x",
         "y": [
          8.5,
          14,
          null,
          15,
          11.5,
          8,
          null,
          25,
          11.5,
          37,
          19.5,
          11,
          11.5,
          null,
          26.5,
          12.5,
          null,
          12.5,
          19.5,
          9.5,
          26.5,
          38.5,
          20.5,
          24,
          9.5,
          null,
          31,
          9,
          18,
          9.5,
          9,
          null,
          11.5,
          26.5,
          35,
          18,
          11.5,
          8.5,
          null,
          26,
          7,
          17,
          8.5,
          13,
          27.5,
          8.5,
          7,
          15,
          7,
          7,
          null,
          16,
          11,
          10.5,
          null,
          10.5,
          14,
          26.5,
          8,
          8,
          7.5,
          null,
          23,
          12,
          19,
          12,
          11,
          null,
          34,
          24,
          null,
          7,
          16,
          32,
          22,
          16.5,
          10.5,
          null,
          10.5,
          9.5,
          12.5,
          8,
          27,
          null,
          7.5,
          8,
          15.5,
          26.5,
          7.5,
          7.5,
          10.5,
          null,
          16,
          7.5,
          13,
          22,
          12,
          13,
          null,
          26.5,
          16,
          29.5,
          13,
          10,
          37,
          null,
          22,
          13,
          15,
          null,
          7.5,
          12,
          23,
          7,
          7.5,
          35,
          null,
          12.5,
          16,
          24,
          16,
          43.5,
          29.5,
          null,
          14,
          9.5,
          19.5,
          9.5,
          10.5,
          7,
          null,
          16,
          7.5,
          7,
          26,
          null,
          7,
          9.5,
          15,
          27.5,
          5.5,
          7,
          7.5,
          null,
          27,
          8,
          13,
          17.5,
          8,
          7.5,
          9.5,
          15,
          5.5,
          7.5,
          7.5,
          null,
          7.5,
          17.5,
          null,
          7.5,
          28,
          7.5,
          13,
          null,
          14.5,
          27,
          19,
          9.5,
          9.5,
          8.5,
          30.5,
          7,
          23,
          15.5,
          11.5,
          7.5,
          null,
          27.5,
          7.5,
          6.5,
          31.5,
          8,
          16,
          24,
          9.5,
          9.5,
          null,
          10.5,
          30.5,
          null,
          8.5,
          20.5,
          16,
          10.5,
          9.5,
          null,
          21.5,
          16,
          9.5,
          10,
          28,
          null,
          22,
          8.5,
          16.5,
          29,
          10.5,
          10.5,
          null,
          36.5,
          12.5,
          11,
          21,
          29.5,
          12.5,
          12,
          21.5,
          null,
          29,
          36,
          12.5,
          12.5,
          9.5,
          9.5,
          17,
          null,
          13.5,
          9.5,
          27.5,
          26.5,
          7,
          11.5,
          null,
          7.5,
          16,
          7,
          9.5,
          17.5,
          14,
          9.5,
          28.5,
          7.5,
          null,
          18,
          9.5,
          32,
          20.5,
          8.5,
          9.5,
          null,
          9,
          25,
          null,
          12.5,
          37,
          12.5,
          21.5,
          null,
          8.5,
          null,
          10.5,
          18,
          34,
          10.5,
          26,
          12.5,
          null,
          12.5,
          21.5,
          12.5,
          32,
          40.5,
          9.5,
          16,
          9.5,
          9,
          null,
          30.5,
          22.5,
          24.5,
          34,
          18.5,
          null,
          11.5,
          9,
          11.5,
          9,
          10.5,
          34,
          17.5,
          20.5,
          10.5,
          null,
          12,
          7.5,
          17.5,
          null,
          26.5,
          7.5,
          7.5,
          27.5,
          7,
          7,
          15,
          9,
          7,
          null,
          35,
          11,
          null,
          26.5,
          11,
          17.5,
          10,
          19.5,
          7.5,
          14,
          27,
          null,
          7.5,
          7.5,
          5.5,
          16,
          26,
          null,
          7,
          9.5,
          7,
          null,
          7,
          5.5,
          26,
          7,
          8.5,
          16,
          26.5,
          7.5,
          10.5,
          7.5,
          7.5,
          16,
          null,
          null,
          8,
          15,
          23,
          30.5,
          8,
          8,
          null,
          10,
          32,
          9.5,
          9.5,
          23.5,
          15,
          13,
          15,
          24,
          null,
          33,
          15,
          40.5,
          16.5,
          8,
          26,
          null,
          8,
          12.5,
          7.5,
          9.5,
          null,
          7,
          15,
          6.5,
          27.5,
          7,
          11.5,
          30.5,
          null,
          43,
          10,
          11.5,
          19.5,
          15,
          null,
          9,
          8.5,
          8.5,
          15,
          9,
          28.5,
          9,
          9,
          19,
          null,
          28.5,
          14,
          18.5,
          7.5,
          8.5,
          null,
          8.5,
          7.5,
          13.5,
          7.5,
          7.5,
          26,
          null,
          18,
          14,
          15,
          null,
          9.5,
          27.5,
          8.5,
          9.5,
          27.5,
          16,
          null,
          8,
          12,
          8,
          8,
          37,
          12,
          12,
          28.5,
          null,
          12,
          19.5,
          7.5,
          null,
          17.5,
          8,
          7.5,
          12,
          26.5,
          7.5,
          9,
          19,
          null,
          9,
          29.5,
          9,
          14,
          12.5,
          12,
          41,
          15,
          null,
          15,
          32.5,
          22,
          5.5,
          27.5,
          null,
          25,
          8.5,
          10.5,
          33,
          10.5,
          17,
          17,
          7.5,
          26.5,
          13,
          7.5,
          null,
          8,
          24,
          9.5,
          16.5,
          null,
          9.5,
          8.5,
          32.5,
          9,
          43,
          11.5,
          null,
          10,
          23,
          11.5,
          27.5,
          29.5,
          null,
          10.5,
          23,
          10.5,
          16.5,
          10,
          null,
          24,
          17.5,
          10.5,
          10.5,
          10,
          34,
          27.5,
          null,
          11,
          11.5,
          36,
          18.5,
          11.5,
          9,
          29.5,
          8,
          9,
          null,
          16,
          20.5,
          5.5,
          null,
          13.5,
          10,
          null,
          39.5,
          26,
          13.5,
          23,
          10.5,
          null,
          31.5,
          10,
          23,
          10.5,
          17,
          10.5,
          26,
          null,
          10.5,
          34,
          17.5,
          8,
          42,
          14,
          11,
          14,
          23.5,
          33.5,
          null,
          8.5,
          28,
          8.5,
          null,
          17.5,
          8,
          13.5,
          8.5,
          17,
          10.5,
          10.5,
          34,
          26,
          null,
          31.5,
          null,
          26,
          null,
          16,
          7,
          7,
          10.5,
          7,
          9.5,
          9.5,
          21.5,
          15,
          28.5,
          null,
          8,
          17.5,
          null,
          7.5,
          25.5,
          10.5,
          34,
          10.5,
          26.5,
          17.5,
          9.5,
          9.5,
          9.5,
          16,
          17,
          29.5,
          10.5,
          null,
          10.5,
          22.5,
          8.5,
          null,
          8.5,
          7.5,
          19,
          31.5,
          16,
          10.5,
          null,
          8,
          10.5,
          13,
          26.5,
          20.5,
          13,
          12.5,
          34,
          null,
          17.5,
          8.5,
          12,
          6.5,
          26.5,
          8.5,
          null,
          8,
          8,
          14,
          null,
          18.5,
          29.5,
          8,
          9.5,
          30.5,
          null,
          9.5,
          14,
          9,
          19.5,
          9.5,
          29.5,
          15,
          9.5,
          8.5,
          null,
          21.5,
          19.5,
          8,
          7.5,
          7.5,
          28,
          14,
          null,
          10.5,
          7,
          16,
          7,
          null,
          26,
          7,
          28,
          null,
          19.5,
          11.5,
          18,
          11.5,
          11,
          27,
          9.5,
          9.5,
          15,
          7.5,
          20.5,
          null,
          null,
          22.5,
          12.5,
          12.5,
          36,
          12.5,
          23.5,
          null,
          23,
          30.5,
          17.5,
          10,
          10.5,
          10.5,
          18,
          26,
          null,
          9.5,
          9.5,
          14,
          6.5,
          11.5,
          9.5,
          15,
          9,
          27.5,
          8,
          18,
          8,
          null,
          6.5,
          26,
          13.5,
          9,
          null,
          16,
          13,
          27,
          7,
          9,
          8.5,
          15,
          null,
          26.5,
          9.5,
          19.5,
          9.5,
          null,
          28.5,
          8.5,
          8.5,
          9,
          14,
          18,
          31.5,
          17,
          null,
          9.5,
          9.5,
          9,
          22.5,
          null,
          32,
          8.5,
          10.5,
          23,
          17.5,
          10.5,
          8.5,
          13,
          28,
          8.5,
          17.5,
          null,
          8.5,
          15,
          27.5,
          7.5,
          7.5,
          null,
          11.5,
          6.5,
          19.5,
          8.5,
          28,
          null,
          14.5,
          9,
          8.5,
          27,
          36,
          12,
          25,
          null,
          16,
          16,
          null,
          27,
          7,
          9.5,
          7,
          5.5,
          15.5,
          null,
          12,
          25,
          15,
          6.5,
          7,
          7,
          10.5,
          null,
          10,
          10.5,
          26,
          18.5,
          33,
          13,
          13,
          27.5,
          null,
          20.5,
          13,
          23.5,
          9,
          26.5,
          16.5,
          12.5,
          21.5,
          12,
          12.5,
          null,
          28,
          20.5,
          9.5,
          9,
          16,
          9.5,
          null,
          null,
          27,
          19.5,
          8,
          8.5,
          14,
          8.5,
          19.5,
          null,
          9,
          14,
          10,
          10,
          30.5,
          30.5,
          null,
          9.5,
          null,
          15,
          7.5,
          22.5,
          9.5,
          26.5,
          8.5,
          35,
          10.5,
          8.5,
          10.5,
          30.5,
          null,
          16,
          21.5,
          10,
          10.5,
          20.5,
          null,
          8.5,
          15,
          27,
          9.5,
          9.5,
          null,
          8,
          8,
          11.5,
          15.5,
          8,
          27,
          null,
          7.5,
          9,
          27.5,
          9,
          16.5,
          13,
          27.5,
          null,
          5.5,
          7,
          15,
          7,
          9.5,
          7.5,
          null,
          26.5,
          7.5,
          7.5,
          11.5,
          16,
          19.5,
          14.5,
          30.5,
          9,
          null,
          9.5,
          9.5,
          8.5,
          12,
          8.5,
          null,
          26.5,
          8.5,
          17,
          15.5,
          8.5,
          27,
          null,
          9,
          12,
          9,
          26.5,
          7.5,
          12,
          16,
          null,
          7.5,
          6.5,
          9,
          14,
          21.5,
          9.5,
          9.5,
          29.5,
          null,
          9.5,
          29.5,
          15,
          null,
          19.5,
          9.5,
          9,
          null,
          12,
          31.5,
          11.5,
          19,
          24,
          11.5,
          10.5,
          18,
          26,
          null,
          11,
          18.5,
          10.5,
          9.5,
          28.5,
          10,
          null,
          21.5,
          16,
          9.5,
          null,
          10,
          22.5,
          19.5,
          11,
          11,
          34,
          26,
          7,
          null,
          8.5,
          5.5,
          16,
          7,
          null,
          8.5,
          17.5,
          35,
          21.5,
          8.5,
          8.5,
          26,
          10.5,
          34,
          null,
          18,
          8,
          10.5,
          13,
          27,
          7.5,
          16,
          8.5,
          8.5,
          null,
          18.5,
          8.5,
          8.5,
          9,
          null,
          14,
          29,
          16,
          26,
          5.5,
          null,
          13,
          7.5,
          7.5,
          null,
          17,
          11,
          25,
          11,
          11,
          33,
          11.5,
          15,
          7.5,
          null,
          27.5,
          7.5,
          7.5
         ],
         "yaxis": "y"
        }
       ],
       "layout": {
        "legend": {
         "tracegroupgap": 0
        },
        "margin": {
         "t": 60
        },
        "template": {
         "data": {
          "bar": [
           {
            "error_x": {
             "color": "#2a3f5f"
            },
            "error_y": {
             "color": "#2a3f5f"
            },
            "marker": {
             "line": {
              "color": "#E5ECF6",
              "width": 0.5
             },
             "pattern": {
              "fillmode": "overlay",
              "size": 10,
              "solidity": 0.2
             }
            },
            "type": "bar"
           }
          ],
          "barpolar": [
           {
            "marker": {
             "line": {
              "color": "#E5ECF6",
              "width": 0.5
             },
             "pattern": {
              "fillmode": "overlay",
              "size": 10,
              "solidity": 0.2
             }
            },
            "type": "barpolar"
           }
          ],
          "carpet": [
           {
            "aaxis": {
             "endlinecolor": "#2a3f5f",
             "gridcolor": "white",
             "linecolor": "white",
             "minorgridcolor": "white",
             "startlinecolor": "#2a3f5f"
            },
            "baxis": {
             "endlinecolor": "#2a3f5f",
             "gridcolor": "white",
             "linecolor": "white",
             "minorgridcolor": "white",
             "startlinecolor": "#2a3f5f"
            },
            "type": "carpet"
           }
          ],
          "choropleth": [
           {
            "colorbar": {
             "outlinewidth": 0,
             "ticks": ""
            },
            "type": "choropleth"
           }
          ],
          "contour": [
           {
            "colorbar": {
             "outlinewidth": 0,
             "ticks": ""
            },
            "colorscale": [
             [
              0,
              "#0d0887"
             ],
             [
              0.1111111111111111,
              "#46039f"
             ],
             [
              0.2222222222222222,
              "#7201a8"
             ],
             [
              0.3333333333333333,
              "#9c179e"
             ],
             [
              0.4444444444444444,
              "#bd3786"
             ],
             [
              0.5555555555555556,
              "#d8576b"
             ],
             [
              0.6666666666666666,
              "#ed7953"
             ],
             [
              0.7777777777777778,
              "#fb9f3a"
             ],
             [
              0.8888888888888888,
              "#fdca26"
             ],
             [
              1,
              "#f0f921"
             ]
            ],
            "type": "contour"
           }
          ],
          "contourcarpet": [
           {
            "colorbar": {
             "outlinewidth": 0,
             "ticks": ""
            },
            "type": "contourcarpet"
           }
          ],
          "heatmap": [
           {
            "colorbar": {
             "outlinewidth": 0,
             "ticks": ""
            },
            "colorscale": [
             [
              0,
              "#0d0887"
             ],
             [
              0.1111111111111111,
              "#46039f"
             ],
             [
              0.2222222222222222,
              "#7201a8"
             ],
             [
              0.3333333333333333,
              "#9c179e"
             ],
             [
              0.4444444444444444,
              "#bd3786"
             ],
             [
              0.5555555555555556,
              "#d8576b"
             ],
             [
              0.6666666666666666,
              "#ed7953"
             ],
             [
              0.7777777777777778,
              "#fb9f3a"
             ],
             [
              0.8888888888888888,
              "#fdca26"
             ],
             [
              1,
              "#f0f921"
             ]
            ],
            "type": "heatmap"
           }
          ],
          "heatmapgl": [
           {
            "colorbar": {
             "outlinewidth": 0,
             "ticks": ""
            },
            "colorscale": [
             [
              0,
              "#0d0887"
             ],
             [
              0.1111111111111111,
              "#46039f"
             ],
             [
              0.2222222222222222,
              "#7201a8"
             ],
             [
              0.3333333333333333,
              "#9c179e"
             ],
             [
              0.4444444444444444,
              "#bd3786"
             ],
             [
              0.5555555555555556,
              "#d8576b"
             ],
             [
              0.6666666666666666,
              "#ed7953"
             ],
             [
              0.7777777777777778,
              "#fb9f3a"
             ],
             [
              0.8888888888888888,
              "#fdca26"
             ],
             [
              1,
              "#f0f921"
             ]
            ],
            "type": "heatmapgl"
           }
          ],
          "histogram": [
           {
            "marker": {
             "pattern": {
              "fillmode": "overlay",
              "size": 10,
              "solidity": 0.2
             }
            },
            "type": "histogram"
           }
          ],
          "histogram2d": [
           {
            "colorbar": {
             "outlinewidth": 0,
             "ticks": ""
            },
            "colorscale": [
             [
              0,
              "#0d0887"
             ],
             [
              0.1111111111111111,
              "#46039f"
             ],
             [
              0.2222222222222222,
              "#7201a8"
             ],
             [
              0.3333333333333333,
              "#9c179e"
             ],
             [
              0.4444444444444444,
              "#bd3786"
             ],
             [
              0.5555555555555556,
              "#d8576b"
             ],
             [
              0.6666666666666666,
              "#ed7953"
             ],
             [
              0.7777777777777778,
              "#fb9f3a"
             ],
             [
              0.8888888888888888,
              "#fdca26"
             ],
             [
              1,
              "#f0f921"
             ]
            ],
            "type": "histogram2d"
           }
          ],
          "histogram2dcontour": [
           {
            "colorbar": {
             "outlinewidth": 0,
             "ticks": ""
            },
            "colorscale": [
             [
              0,
              "#0d0887"
             ],
             [
              0.1111111111111111,
              "#46039f"
             ],
             [
              0.2222222222222222,
              "#7201a8"
             ],
             [
              0.3333333333333333,
              "#9c179e"
             ],
             [
              0.4444444444444444,
              "#bd3786"
             ],
             [
              0.5555555555555556,
              "#d8576b"
             ],
             [
              0.6666666666666666,
              "#ed7953"
             ],
             [
              0.7777777777777778,
              "#fb9f3a"
             ],
             [
              0.8888888888888888,
              "#fdca26"
             ],
             [
              1,
              "#f0f921"
             ]
            ],
            "type": "histogram2dcontour"
           }
          ],
          "mesh3d": [
           {
            "colorbar": {
             "outlinewidth": 0,
             "ticks": ""
            },
            "type": "mesh3d"
           }
          ],
          "parcoords": [
           {
            "line": {
             "colorbar": {
              "outlinewidth": 0,
              "ticks": ""
             }
            },
            "type": "parcoords"
           }
          ],
          "pie": [
           {
            "automargin": true,
            "type": "pie"
           }
          ],
          "scatter": [
           {
            "fillpattern": {
             "fillmode": "overlay",
             "size": 10,
             "solidity": 0.2
            },
            "type": "scatter"
           }
          ],
          "scatter3d": [
           {
            "line": {
             "colorbar": {
              "outlinewidth": 0,
              "ticks": ""
             }
            },
            "marker": {
             "colorbar": {
              "outlinewidth": 0,
              "ticks": ""
             }
            },
            "type": "scatter3d"
           }
          ],
          "scattercarpet": [
           {
            "marker": {
             "colorbar": {
              "outlinewidth": 0,
              "ticks": ""
             }
            },
            "type": "scattercarpet"
           }
          ],
          "scattergeo": [
           {
            "marker": {
             "colorbar": {
              "outlinewidth": 0,
              "ticks": ""
             }
            },
            "type": "scattergeo"
           }
          ],
          "scattergl": [
           {
            "marker": {
             "colorbar": {
              "outlinewidth": 0,
              "ticks": ""
             }
            },
            "type": "scattergl"
           }
          ],
          "scattermapbox": [
           {
            "marker": {
             "colorbar": {
              "outlinewidth": 0,
              "ticks": ""
             }
            },
            "type": "scattermapbox"
           }
          ],
          "scatterpolar": [
           {
            "marker": {
             "colorbar": {
              "outlinewidth": 0,
              "ticks": ""
             }
            },
            "type": "scatterpolar"
           }
          ],
          "scatterpolargl": [
           {
            "marker": {
             "colorbar": {
              "outlinewidth": 0,
              "ticks": ""
             }
            },
            "type": "scatterpolargl"
           }
          ],
          "scatterternary": [
           {
            "marker": {
             "colorbar": {
              "outlinewidth": 0,
              "ticks": ""
             }
            },
            "type": "scatterternary"
           }
          ],
          "surface": [
           {
            "colorbar": {
             "outlinewidth": 0,
             "ticks": ""
            },
            "colorscale": [
             [
              0,
              "#0d0887"
             ],
             [
              0.1111111111111111,
              "#46039f"
             ],
             [
              0.2222222222222222,
              "#7201a8"
             ],
             [
              0.3333333333333333,
              "#9c179e"
             ],
             [
              0.4444444444444444,
              "#bd3786"
             ],
             [
              0.5555555555555556,
              "#d8576b"
             ],
             [
              0.6666666666666666,
              "#ed7953"
             ],
             [
              0.7777777777777778,
              "#fb9f3a"
             ],
             [
              0.8888888888888888,
              "#fdca26"
             ],
             [
              1,
              "#f0f921"
             ]
            ],
            "type": "surface"
           }
          ],
          "table": [
           {
            "cells": {
             "fill": {
              "color": "#EBF0F8"
             },
             "line": {
              "color": "white"
             }
            },
            "header": {
             "fill": {
              "color": "#C8D4E3"
             },
             "line": {
              "color": "white"
             }
            },
            "type": "table"
           }
          ]
         },
         "layout": {
          "annotationdefaults": {
           "arrowcolor": "#2a3f5f",
           "arrowhead": 0,
           "arrowwidth": 1
          },
          "autotypenumbers": "strict",
          "coloraxis": {
           "colorbar": {
            "outlinewidth": 0,
            "ticks": ""
           }
          },
          "colorscale": {
           "diverging": [
            [
             0,
             "#8e0152"
            ],
            [
             0.1,
             "#c51b7d"
            ],
            [
             0.2,
             "#de77ae"
            ],
            [
             0.3,
             "#f1b6da"
            ],
            [
             0.4,
             "#fde0ef"
            ],
            [
             0.5,
             "#f7f7f7"
            ],
            [
             0.6,
             "#e6f5d0"
            ],
            [
             0.7,
             "#b8e186"
            ],
            [
             0.8,
             "#7fbc41"
            ],
            [
             0.9,
             "#4d9221"
            ],
            [
             1,
             "#276419"
            ]
           ],
           "sequential": [
            [
             0,
             "#0d0887"
            ],
            [
             0.1111111111111111,
             "#46039f"
            ],
            [
             0.2222222222222222,
             "#7201a8"
            ],
            [
             0.3333333333333333,
             "#9c179e"
            ],
            [
             0.4444444444444444,
             "#bd3786"
            ],
            [
             0.5555555555555556,
             "#d8576b"
            ],
            [
             0.6666666666666666,
             "#ed7953"
            ],
            [
             0.7777777777777778,
             "#fb9f3a"
            ],
            [
             0.8888888888888888,
             "#fdca26"
            ],
            [
             1,
             "#f0f921"
            ]
           ],
           "sequentialminus": [
            [
             0,
             "#0d0887"
            ],
            [
             0.1111111111111111,
             "#46039f"
            ],
            [
             0.2222222222222222,
             "#7201a8"
            ],
            [
             0.3333333333333333,
             "#9c179e"
            ],
            [
             0.4444444444444444,
             "#bd3786"
            ],
            [
             0.5555555555555556,
             "#d8576b"
            ],
            [
             0.6666666666666666,
             "#ed7953"
            ],
            [
             0.7777777777777778,
             "#fb9f3a"
            ],
            [
             0.8888888888888888,
             "#fdca26"
            ],
            [
             1,
             "#f0f921"
            ]
           ]
          },
          "colorway": [
           "#636efa",
           "#EF553B",
           "#00cc96",
           "#ab63fa",
           "#FFA15A",
           "#19d3f3",
           "#FF6692",
           "#B6E880",
           "#FF97FF",
           "#FECB52"
          ],
          "font": {
           "color": "#2a3f5f"
          },
          "geo": {
           "bgcolor": "white",
           "lakecolor": "white",
           "landcolor": "#E5ECF6",
           "showlakes": true,
           "showland": true,
           "subunitcolor": "white"
          },
          "hoverlabel": {
           "align": "left"
          },
          "hovermode": "closest",
          "mapbox": {
           "style": "light"
          },
          "paper_bgcolor": "white",
          "plot_bgcolor": "#E5ECF6",
          "polar": {
           "angularaxis": {
            "gridcolor": "white",
            "linecolor": "white",
            "ticks": ""
           },
           "bgcolor": "#E5ECF6",
           "radialaxis": {
            "gridcolor": "white",
            "linecolor": "white",
            "ticks": ""
           }
          },
          "scene": {
           "xaxis": {
            "backgroundcolor": "#E5ECF6",
            "gridcolor": "white",
            "gridwidth": 2,
            "linecolor": "white",
            "showbackground": true,
            "ticks": "",
            "zerolinecolor": "white"
           },
           "yaxis": {
            "backgroundcolor": "#E5ECF6",
            "gridcolor": "white",
            "gridwidth": 2,
            "linecolor": "white",
            "showbackground": true,
            "ticks": "",
            "zerolinecolor": "white"
           },
           "zaxis": {
            "backgroundcolor": "#E5ECF6",
            "gridcolor": "white",
            "gridwidth": 2,
            "linecolor": "white",
            "showbackground": true,
            "ticks": "",
            "zerolinecolor": "white"
           }
          },
          "shapedefaults": {
           "line": {
            "color": "#2a3f5f"
           }
          },
          "ternary": {
           "aaxis": {
            "gridcolor": "white",
            "linecolor": "white",
            "ticks": ""
           },
           "baxis": {
            "gridcolor": "white",
            "linecolor": "white",
            "ticks": ""
           },
           "bgcolor": "#E5ECF6",
           "caxis": {
            "gridcolor": "white",
            "linecolor": "white",
            "ticks": ""
           }
          },
          "title": {
           "x": 0.05
          },
          "xaxis": {
           "automargin": true,
           "gridcolor": "white",
           "linecolor": "white",
           "ticks": "",
           "title": {
            "standoff": 15
           },
           "zerolinecolor": "white",
           "zerolinewidth": 2
          },
          "yaxis": {
           "automargin": true,
           "gridcolor": "white",
           "linecolor": "white",
           "ticks": "",
           "title": {
            "standoff": 15
           },
           "zerolinecolor": "white",
           "zerolinewidth": 2
          }
         }
        },
        "xaxis": {
         "anchor": "y",
         "domain": [
          0,
          1
         ],
         "title": {
          "text": "latitude"
         }
        },
        "yaxis": {
         "anchor": "x",
         "domain": [
          0,
          1
         ],
         "title": {
          "text": "price"
         }
        }
       }
      }
     },
     "metadata": {},
     "output_type": "display_data"
    }
   ],
   "source": [
    "psDF.plot.scatter(x='latitude', y='price')"
   ]
  },
  {
   "cell_type": "code",
   "execution_count": 13,
   "metadata": {},
   "outputs": [
    {
     "name": "stderr",
     "output_type": "stream",
     "text": [
      "C:\\Users\\Test\\AppData\\Local\\Packages\\PythonSoftwareFoundation.Python.3.10_qbz5n2kfra8p0\\LocalCache\\local-packages\\Python310\\site-packages\\pyspark\\sql\\pandas\\conversion.py:248: FutureWarning:\n",
      "\n",
      "Passing unit-less datetime64 dtype to .astype is deprecated and will raise in a future version. Pass 'datetime64[ns]' instead\n",
      "\n"
     ]
    },
    {
     "data": {
      "application/vnd.plotly.v1+json": {
       "config": {
        "plotlyServerURL": "https://plot.ly"
       },
       "data": [
        {
         "hovertemplate": "longitude=%{x}<br>price=%{y}<extra></extra>",
         "legendgroup": "",
         "marker": {
          "color": "#636efa",
          "symbol": "circle"
         },
         "mode": "markers",
         "name": "",
         "orientation": "v",
         "showlegend": false,
         "type": "scatter",
         "x": [
          -71.05509948730469,
          -71.05509948730469,
          -71.05419921875,
          -71.10540008544922,
          -71.10540008544922,
          -71.10540008544922,
          -71.06310272216797,
          -71.06310272216797,
          -71.06310272216797,
          -71.06310272216797,
          -71.06310272216797,
          -71.06310272216797,
          -71.05419921875,
          -71.05419921875,
          -71.05419921875,
          -71.10030364990234,
          -71.05419921875,
          -71.05419921875,
          -71.05419921875,
          -71.05419921875,
          -71.05419921875,
          -71.10540008544922,
          -71.08100128173828,
          -71.08100128173828,
          -71.08100128173828,
          -71.08100128173828,
          -71.08100128173828,
          -71.03299713134766,
          -71.03299713134766,
          -71.03299713134766,
          -71.06310272216797,
          -71.06310272216797,
          -71.06310272216797,
          -71.06310272216797,
          -71.06310272216797,
          -71.06310272216797,
          -71.03299713134766,
          -71.05419921875,
          -71.05419921875,
          -71.05419921875,
          -71.03299713134766,
          -71.03299713134766,
          -71.03299713134766,
          -71.03299713134766,
          -71.03299713134766,
          -71.06610107421875,
          -71.06610107421875,
          -71.06610107421875,
          -71.06610107421875,
          -71.06610107421875,
          -71.06610107421875,
          -71.10540008544922,
          -71.10540008544922,
          -71.10540008544922,
          -71.10540008544922,
          -71.10540008544922,
          -71.03299713134766,
          -71.03299713134766,
          -71.03299713134766,
          -71.03299713134766,
          -71.03299713134766,
          -71.03299713134766,
          -71.06310272216797,
          -71.06310272216797,
          -71.06310272216797,
          -71.06310272216797,
          -71.06310272216797,
          -71.06310272216797,
          -71.03299713134766,
          -71.03299713134766,
          -71.03299713134766,
          -71.03299713134766,
          -71.03299713134766,
          -71.03299713134766,
          -71.03299713134766,
          -71.03299713134766,
          -71.03299713134766,
          -71.03299713134766,
          -71.03299713134766,
          -71.05509948730469,
          -71.0707015991211,
          -71.0707015991211,
          -71.0707015991211,
          -71.0707015991211,
          -71.05509948730469,
          -71.05509948730469,
          -71.05509948730469,
          -71.05509948730469,
          -71.05509948730469,
          -71.05509948730469,
          -71.05509948730469,
          -71.05509948730469,
          -71.05509948730469,
          -71.05509948730469,
          -71.05509948730469,
          -71.05509948730469,
          -71.03299713134766,
          -71.03299713134766,
          -71.03299713134766,
          -71.03299713134766,
          -71.03299713134766,
          -71.10540008544922,
          -71.06310272216797,
          -71.06310272216797,
          -71.06310272216797,
          -71.06310272216797,
          -71.06310272216797,
          -71.06310272216797,
          -71.05419921875,
          -71.05419921875,
          -71.05419921875,
          -71.05419921875,
          -71.05419921875,
          -71.06430053710938,
          -71.06430053710938,
          -71.06430053710938,
          -71.06430053710938,
          -71.06430053710938,
          -71.06430053710938,
          -71.06430053710938,
          -71.06430053710938,
          -71.06430053710938,
          -71.06430053710938,
          -71.06430053710938,
          -71.06430053710938,
          -71.06430053710938,
          -71.06310272216797,
          -71.06310272216797,
          -71.06310272216797,
          -71.06310272216797,
          -71.06310272216797,
          -71.06310272216797,
          -71.06310272216797,
          -71.06310272216797,
          -71.06310272216797,
          -71.06310272216797,
          -71.06310272216797,
          -71.06310272216797,
          -71.08100128173828,
          -71.08100128173828,
          -71.08100128173828,
          -71.08100128173828,
          -71.05509948730469,
          -71.05509948730469,
          -71.05509948730469,
          -71.05509948730469,
          -71.05509948730469,
          -71.03299713134766,
          -71.03299713134766,
          -71.03299713134766,
          -71.03299713134766,
          -71.06610107421875,
          -71.06610107421875,
          -71.0707015991211,
          -71.0707015991211,
          -71.0707015991211,
          -71.06430053710938,
          -71.06430053710938,
          -71.03299713134766,
          -71.03299713134766,
          -71.03299713134766,
          -71.03299713134766,
          -71.03299713134766,
          -71.06430053710938,
          -71.06430053710938,
          -71.06430053710938,
          -71.06430053710938,
          -71.06430053710938,
          -71.10030364990234,
          -71.10030364990234,
          -71.10030364990234,
          -71.10030364990234,
          -71.10030364990234,
          -71.05419921875,
          -71.05419921875,
          -71.05419921875,
          -71.05419921875,
          -71.03299713134766,
          -71.03299713134766,
          -71.03299713134766,
          -71.03299713134766,
          -71.03299713134766,
          -71.06310272216797,
          -71.06310272216797,
          -71.06310272216797,
          -71.06310272216797,
          -71.06310272216797,
          -71.10540008544922,
          -71.10540008544922,
          -71.10540008544922,
          -71.10540008544922,
          -71.10540008544922,
          -71.06430053710938,
          -71.06430053710938,
          -71.06430053710938,
          -71.05419921875,
          -71.05419921875,
          -71.05419921875,
          -71.05419921875,
          -71.05419921875,
          -71.05419921875,
          -71.10540008544922,
          -71.10540008544922,
          -71.10540008544922,
          -71.10540008544922,
          -71.10540008544922,
          -71.05419921875,
          -71.05419921875,
          -71.03299713134766,
          -71.03299713134766,
          -71.03299713134766,
          -71.03299713134766,
          -71.05500030517578,
          -71.05500030517578,
          -71.05500030517578,
          -71.05509948730469,
          -71.05509948730469,
          -71.05509948730469,
          -71.05419921875,
          -71.05419921875,
          -71.05419921875,
          -71.05419921875,
          -71.05419921875,
          -71.0707015991211,
          -71.0707015991211,
          -71.0707015991211,
          -71.0707015991211,
          -71.0707015991211,
          -71.0707015991211,
          -71.10540008544922,
          -71.10540008544922,
          -71.10540008544922,
          -71.10540008544922,
          -71.10540008544922,
          -71.06310272216797,
          -71.06310272216797,
          -71.03299713134766,
          -71.03299713134766,
          -71.10030364990234,
          -71.10030364990234,
          -71.10030364990234,
          -71.10030364990234,
          -71.10030364990234,
          -71.0707015991211,
          -71.0707015991211,
          -71.0707015991211,
          -71.0707015991211,
          -71.0707015991211,
          -71.0707015991211,
          -71.0707015991211,
          -71.0707015991211,
          -71.0707015991211,
          -71.0707015991211,
          -71.06310272216797,
          -71.06310272216797,
          -71.06310272216797,
          -71.06310272216797,
          -71.06310272216797,
          -71.10030364990234,
          -71.10030364990234,
          -71.10030364990234,
          -71.10030364990234,
          -71.10030364990234,
          -71.10030364990234,
          -71.10030364990234,
          -71.10030364990234,
          -71.10030364990234,
          -71.10030364990234,
          -71.10030364990234,
          -71.06430053710938,
          -71.06430053710938,
          -71.06430053710938,
          -71.10540008544922,
          -71.10540008544922,
          -71.10540008544922,
          -71.03299713134766,
          -71.03299713134766,
          -71.03299713134766,
          -71.03299713134766,
          -71.03299713134766,
          -71.03299713134766,
          -71.03299713134766,
          -71.03299713134766,
          -71.03299713134766,
          -71.03299713134766,
          -71.03299713134766,
          -71.03299713134766,
          -71.03299713134766,
          -71.03299713134766,
          -71.03299713134766,
          -71.03299713134766,
          -71.03299713134766,
          -71.06430053710938,
          -71.06310272216797,
          -71.06310272216797,
          -71.06310272216797,
          -71.06310272216797,
          -71.06310272216797,
          -71.06310272216797,
          -71.06310272216797,
          -71.06310272216797,
          -71.06310272216797,
          -71.06310272216797,
          -71.06310272216797,
          -71.08100128173828,
          -71.08100128173828,
          -71.08100128173828,
          -71.10540008544922,
          -71.10540008544922,
          -71.03299713134766,
          -71.03299713134766,
          -71.03299713134766,
          -71.03299713134766,
          -71.03299713134766,
          -71.05509948730469,
          -71.05509948730469,
          -71.05509948730469,
          -71.05509948730469,
          -71.05509948730469,
          -71.05509948730469,
          -71.05500030517578,
          -71.05500030517578,
          -71.05500030517578,
          -71.05500030517578,
          -71.05500030517578,
          -71.05509948730469,
          -71.05509948730469,
          -71.05509948730469,
          -71.05419921875,
          -71.06430053710938,
          -71.06430053710938,
          -71.06430053710938,
          -71.06430053710938,
          -71.06430053710938,
          -71.06430053710938,
          -71.06430053710938,
          -71.06430053710938,
          -71.06430053710938,
          -71.06310272216797,
          -71.06310272216797,
          -71.06310272216797,
          -71.06310272216797,
          -71.08100128173828,
          -71.08100128173828,
          -71.08100128173828,
          -71.08100128173828,
          -71.08100128173828,
          -71.06610107421875,
          -71.06610107421875,
          -71.06610107421875,
          -71.06610107421875,
          -71.05509948730469,
          -71.05509948730469,
          -71.05509948730469,
          -71.05509948730469,
          -71.05509948730469,
          -71.0707015991211,
          -71.0707015991211,
          -71.0707015991211,
          -71.0707015991211,
          -71.0707015991211,
          -71.0707015991211,
          -71.0707015991211,
          -71.08100128173828,
          -71.08100128173828,
          -71.08100128173828,
          -71.0707015991211,
          -71.0707015991211,
          -71.0707015991211,
          -71.0707015991211,
          -71.0707015991211,
          -71.05419921875,
          -71.05419921875,
          -71.05419921875,
          -71.05419921875,
          -71.05419921875,
          -71.05419921875,
          -71.08100128173828,
          -71.06610107421875,
          -71.06610107421875,
          -71.06610107421875,
          -71.06610107421875,
          -71.06610107421875,
          -71.06610107421875,
          -71.0707015991211,
          -71.0707015991211,
          -71.0707015991211,
          -71.0707015991211,
          -71.0707015991211,
          -71.05419921875,
          -71.05419921875,
          -71.05419921875,
          -71.05419921875,
          -71.05419921875,
          -71.05419921875,
          -71.05419921875,
          -71.05419921875,
          -71.05419921875,
          -71.06310272216797,
          -71.06310272216797,
          -71.06310272216797,
          -71.06310272216797,
          -71.06310272216797,
          -71.05419921875,
          -71.05419921875,
          -71.05419921875,
          -71.05419921875,
          -71.05419921875,
          -71.03299713134766,
          -71.03299713134766,
          -71.03299713134766,
          -71.03299713134766,
          -71.03299713134766,
          -71.03299713134766,
          -71.05419921875,
          -71.05419921875,
          -71.05419921875,
          -71.10030364990234,
          -71.10030364990234,
          -71.05500030517578,
          -71.05500030517578,
          -71.05500030517578,
          -71.05500030517578,
          -71.05500030517578,
          -71.03299713134766,
          -71.03299713134766,
          -71.03299713134766,
          -71.03299713134766,
          -71.03299713134766,
          -71.08920288085938,
          -71.08920288085938,
          -71.08920288085938,
          -71.08920288085938,
          -71.08920288085938,
          -71.08920288085938,
          -71.10030364990234,
          -71.10030364990234,
          -71.10030364990234,
          -71.10030364990234,
          -71.10030364990234,
          -71.10030364990234,
          -71.08100128173828,
          -71.08100128173828,
          -71.08100128173828,
          -71.08100128173828,
          -71.08100128173828,
          -71.05419921875,
          -71.08920288085938,
          -71.08920288085938,
          -71.08920288085938,
          -71.08920288085938,
          -71.08920288085938,
          -71.08920288085938,
          -71.03299713134766,
          -71.03299713134766,
          -71.03299713134766,
          -71.03299713134766,
          -71.03299713134766,
          -71.03299713134766,
          -71.08100128173828,
          -71.08100128173828,
          -71.08100128173828,
          -71.08100128173828,
          -71.08100128173828,
          -71.08100128173828,
          -71.0707015991211,
          -71.0707015991211,
          -71.0707015991211,
          -71.0707015991211,
          -71.0707015991211,
          -71.06430053710938,
          -71.06430053710938,
          -71.06430053710938,
          -71.06430053710938,
          -71.06430053710938,
          -71.10030364990234,
          -71.10030364990234,
          -71.10030364990234,
          -71.08920288085938,
          -71.03299713134766,
          -71.03299713134766,
          -71.03299713134766,
          -71.03299713134766,
          -71.03299713134766,
          -71.03299713134766,
          -71.06310272216797,
          -71.06310272216797,
          -71.06310272216797,
          -71.06310272216797,
          -71.06310272216797,
          -71.06310272216797,
          -71.06310272216797,
          -71.08920288085938,
          -71.08920288085938,
          -71.08920288085938,
          -71.08920288085938,
          -71.08920288085938,
          -71.08920288085938,
          -71.03299713134766,
          -71.03299713134766,
          -71.03299713134766,
          -71.03299713134766,
          -71.03299713134766,
          -71.06610107421875,
          -71.06610107421875,
          -71.06610107421875,
          -71.05509948730469,
          -71.05509948730469,
          -71.05509948730469,
          -71.06430053710938,
          -71.06430053710938,
          -71.06430053710938,
          -71.06430053710938,
          -71.06430053710938,
          -71.06430053710938,
          -71.05419921875,
          -71.05419921875,
          -71.05419921875,
          -71.05419921875,
          -71.05419921875,
          -71.10540008544922,
          -71.10540008544922,
          -71.03299713134766,
          -71.03299713134766,
          -71.06430053710938,
          -71.06430053710938,
          -71.06430053710938,
          -71.06430053710938,
          -71.06430053710938,
          -71.06310272216797,
          -71.06610107421875,
          -71.06610107421875,
          -71.06610107421875,
          -71.06610107421875,
          -71.06610107421875,
          -71.03299713134766,
          -71.05419921875,
          -71.05509948730469,
          -71.05509948730469,
          -71.05509948730469,
          -71.05509948730469,
          -71.05509948730469,
          -71.05509948730469,
          -71.05419921875,
          -71.05419921875,
          -71.05419921875,
          -71.05419921875,
          -71.05419921875,
          -71.05419921875,
          -71.03299713134766,
          -71.03299713134766,
          -71.03299713134766,
          -71.03299713134766,
          -71.03299713134766,
          -71.03299713134766,
          -71.06310272216797,
          -71.06310272216797,
          -71.06310272216797,
          -71.06310272216797,
          -71.03299713134766,
          -71.03299713134766,
          -71.06310272216797,
          -71.06310272216797,
          -71.06310272216797,
          -71.06310272216797,
          -71.06310272216797,
          -71.08920288085938,
          -71.08920288085938,
          -71.08920288085938,
          -71.08920288085938,
          -71.08920288085938,
          -71.06610107421875,
          -71.06610107421875,
          -71.06610107421875,
          -71.06610107421875,
          -71.06610107421875,
          -71.06610107421875,
          -71.06610107421875,
          -71.06610107421875,
          -71.06610107421875,
          -71.06610107421875,
          -71.06310272216797,
          -71.06310272216797,
          -71.06310272216797,
          -71.06310272216797,
          -71.06310272216797,
          -71.05419921875,
          -71.05419921875,
          -71.05419921875,
          -71.05419921875,
          -71.05419921875,
          -71.05500030517578,
          -71.05500030517578,
          -71.05500030517578,
          -71.05500030517578,
          -71.05500030517578,
          -71.05419921875,
          -71.05419921875,
          -71.05419921875,
          -71.08100128173828,
          -71.08100128173828,
          -71.08100128173828,
          -71.08100128173828,
          -71.08100128173828,
          -71.08100128173828,
          -71.08100128173828,
          -71.03299713134766,
          -71.03299713134766,
          -71.03299713134766,
          -71.03299713134766,
          -71.05419921875,
          -71.05419921875,
          -71.05419921875,
          -71.0707015991211,
          -71.0707015991211,
          -71.0707015991211,
          -71.0707015991211,
          -71.08100128173828,
          -71.08100128173828,
          -71.08100128173828,
          -71.08100128173828,
          -71.08100128173828,
          -71.08100128173828,
          -71.10030364990234,
          -71.05500030517578,
          -71.05500030517578,
          -71.05500030517578,
          -71.10030364990234,
          -71.10030364990234,
          -71.10030364990234,
          -71.10030364990234,
          -71.10030364990234,
          -71.05419921875,
          -71.05419921875,
          -71.05419921875,
          -71.05419921875,
          -71.05419921875,
          -71.05419921875,
          -71.05419921875,
          -71.05419921875,
          -71.05419921875,
          -71.05419921875,
          -71.05419921875,
          -71.05419921875,
          -71.05419921875,
          -71.10540008544922,
          -71.10540008544922,
          -71.10540008544922,
          -71.10540008544922,
          -71.10540008544922,
          -71.06310272216797,
          -71.06310272216797,
          -71.06310272216797,
          -71.06310272216797,
          -71.06310272216797,
          -71.06430053710938,
          -71.06430053710938,
          -71.06430053710938,
          -71.06430053710938,
          -71.06430053710938,
          -71.06430053710938,
          -71.03299713134766,
          -71.03299713134766,
          -71.03299713134766,
          -71.03299713134766,
          -71.03299713134766,
          -71.06430053710938,
          -71.06430053710938,
          -71.06430053710938,
          -71.06430053710938,
          -71.06430053710938,
          -71.06430053710938,
          -71.05419921875,
          -71.05500030517578,
          -71.05500030517578,
          -71.10540008544922,
          -71.10540008544922,
          -71.10540008544922,
          -71.10540008544922,
          -71.10540008544922,
          -71.10540008544922,
          -71.10030364990234,
          -71.10030364990234,
          -71.10030364990234,
          -71.10030364990234,
          -71.10030364990234,
          -71.10030364990234,
          -71.05419921875,
          -71.06310272216797,
          -71.06310272216797,
          -71.06310272216797,
          -71.06310272216797,
          -71.03299713134766,
          -71.03299713134766,
          -71.03299713134766,
          -71.03299713134766,
          -71.03299713134766,
          -71.05419921875,
          -71.05419921875,
          -71.05419921875,
          -71.05419921875,
          -71.05419921875,
          -71.06310272216797,
          -71.06310272216797,
          -71.06310272216797,
          -71.06310272216797,
          -71.05500030517578,
          -71.05500030517578,
          -71.05500030517578,
          -71.05500030517578,
          -71.05500030517578,
          -71.08100128173828,
          -71.08100128173828,
          -71.03299713134766,
          -71.03299713134766,
          -71.03299713134766,
          -71.06310272216797,
          -71.06310272216797,
          -71.06310272216797,
          -71.06310272216797,
          -71.06310272216797,
          -71.06310272216797,
          -71.03299713134766,
          -71.03299713134766,
          -71.03299713134766,
          -71.03299713134766,
          -71.05419921875,
          -71.05419921875,
          -71.05419921875,
          -71.05419921875,
          -71.05419921875,
          -71.05419921875,
          -71.05419921875,
          -71.05419921875,
          -71.0707015991211,
          -71.0707015991211,
          -71.0707015991211,
          -71.08920288085938,
          -71.08920288085938,
          -71.08920288085938,
          -71.08920288085938,
          -71.05419921875,
          -71.05419921875,
          -71.05419921875,
          -71.05419921875,
          -71.0707015991211,
          -71.0707015991211,
          -71.0707015991211,
          -71.0707015991211,
          -71.0707015991211,
          -71.0707015991211,
          -71.05500030517578,
          -71.05500030517578,
          -71.05500030517578,
          -71.05500030517578,
          -71.05500030517578,
          -71.05500030517578,
          -71.10540008544922,
          -71.10540008544922,
          -71.10540008544922,
          -71.10540008544922,
          -71.10540008544922,
          -71.05509948730469,
          -71.05509948730469,
          -71.06430053710938,
          -71.06430053710938,
          -71.06430053710938,
          -71.06430053710938,
          -71.06430053710938,
          -71.06430053710938,
          -71.06310272216797,
          -71.06310272216797,
          -71.06310272216797,
          -71.06310272216797,
          -71.06310272216797,
          -71.06310272216797,
          -71.05509948730469,
          -71.05509948730469,
          -71.05509948730469,
          -71.05509948730469,
          -71.05509948730469,
          -71.05509948730469,
          -71.05509948730469,
          -71.08920288085938,
          -71.08920288085938,
          -71.10540008544922,
          -71.10540008544922,
          -71.10540008544922,
          -71.10540008544922,
          -71.10540008544922,
          -71.05500030517578,
          -71.05500030517578,
          -71.05500030517578,
          -71.0707015991211,
          -71.0707015991211,
          -71.0707015991211,
          -71.0707015991211,
          -71.0707015991211,
          -71.05419921875,
          -71.05419921875,
          -71.05419921875,
          -71.05419921875,
          -71.03299713134766,
          -71.03299713134766,
          -71.03299713134766,
          -71.03299713134766,
          -71.03299713134766,
          -71.03299713134766,
          -71.06310272216797,
          -71.06310272216797,
          -71.06310272216797,
          -71.06310272216797,
          -71.06310272216797,
          -71.06430053710938,
          -71.10540008544922,
          -71.10540008544922,
          -71.10540008544922,
          -71.10540008544922,
          -71.10540008544922,
          -71.08100128173828,
          -71.05419921875,
          -71.05419921875,
          -71.05419921875,
          -71.05419921875,
          -71.05419921875,
          -71.08100128173828,
          -71.08100128173828,
          -71.08100128173828,
          -71.05419921875,
          -71.05419921875,
          -71.08100128173828,
          -71.08100128173828,
          -71.08100128173828,
          -71.08100128173828,
          -71.05500030517578,
          -71.05500030517578,
          -71.05500030517578,
          -71.05419921875,
          -71.05419921875,
          -71.05509948730469,
          -71.05509948730469,
          -71.05509948730469,
          -71.05509948730469,
          -71.05509948730469,
          -71.06430053710938,
          -71.06430053710938,
          -71.05509948730469,
          -71.05500030517578,
          -71.05500030517578,
          -71.05500030517578,
          -71.05500030517578,
          -71.05500030517578,
          -71.03299713134766,
          -71.03299713134766,
          -71.03299713134766,
          -71.03299713134766,
          -71.03299713134766,
          -71.05419921875,
          -71.05419921875,
          -71.05419921875,
          -71.06430053710938,
          -71.03299713134766,
          -71.03299713134766,
          -71.03299713134766,
          -71.03299713134766,
          -71.03299713134766,
          -71.03299713134766,
          -71.06310272216797,
          -71.06310272216797,
          -71.06610107421875,
          -71.06610107421875,
          -71.06610107421875,
          -71.06610107421875,
          -71.06610107421875,
          -71.05500030517578,
          -71.05500030517578,
          -71.05500030517578,
          -71.05500030517578,
          -71.05500030517578,
          -71.10030364990234,
          -71.10030364990234,
          -71.06430053710938,
          -71.10030364990234,
          -71.10030364990234,
          -71.10030364990234,
          -71.10030364990234,
          -71.10030364990234,
          -71.10030364990234,
          -71.10030364990234,
          -71.10030364990234,
          -71.10030364990234,
          -71.10030364990234,
          -71.10030364990234,
          -71.06610107421875,
          -71.06610107421875,
          -71.10030364990234,
          -71.10030364990234,
          -71.10030364990234,
          -71.10030364990234,
          -71.05419921875,
          -71.05419921875,
          -71.05419921875,
          -71.05419921875,
          -71.05419921875,
          -71.05419921875,
          -71.05419921875,
          -71.05419921875,
          -71.05419921875,
          -71.05419921875,
          -71.0707015991211,
          -71.0707015991211,
          -71.0707015991211,
          -71.0707015991211,
          -71.0707015991211,
          -71.0707015991211,
          -71.06310272216797,
          -71.10540008544922,
          -71.0707015991211,
          -71.0707015991211,
          -71.0707015991211,
          -71.0707015991211,
          -71.0707015991211,
          -71.08920288085938,
          -71.08920288085938,
          -71.08920288085938,
          -71.05419921875,
          -71.05419921875,
          -71.05419921875,
          -71.05419921875,
          -71.05419921875,
          -71.08100128173828,
          -71.08100128173828,
          -71.08100128173828,
          -71.08100128173828,
          -71.08100128173828,
          -71.08100128173828,
          -71.08100128173828,
          -71.06310272216797,
          -71.05419921875,
          -71.05419921875,
          -71.05419921875,
          -71.05419921875,
          -71.05419921875,
          -71.06310272216797,
          -71.06310272216797,
          -71.06310272216797,
          -71.06310272216797,
          -71.06310272216797,
          -71.10540008544922,
          -71.10540008544922,
          -71.10540008544922,
          -71.05419921875,
          -71.05419921875,
          -71.05509948730469,
          -71.05509948730469,
          -71.08920288085938,
          -71.08920288085938,
          -71.08920288085938,
          -71.08920288085938,
          -71.08920288085938,
          -71.08920288085938,
          -71.10540008544922,
          -71.10540008544922,
          -71.10540008544922,
          -71.10540008544922,
          -71.06310272216797,
          -71.06310272216797,
          -71.08920288085938,
          -71.08920288085938,
          -71.08920288085938,
          -71.08920288085938,
          -71.08920288085938,
          -71.08920288085938,
          -71.06310272216797,
          -71.06310272216797,
          -71.06310272216797,
          -71.06310272216797,
          -71.06310272216797,
          -71.03299713134766,
          -71.03299713134766,
          -71.03299713134766,
          -71.03299713134766,
          -71.03299713134766,
          -71.03299713134766,
          -71.10540008544922,
          -71.10540008544922,
          -71.10540008544922,
          -71.10540008544922,
          -71.10540008544922,
          -71.06610107421875,
          -71.06610107421875,
          -71.06610107421875,
          -71.06610107421875,
          -71.06310272216797,
          -71.06310272216797,
          -71.06310272216797,
          -71.06310272216797,
          -71.06310272216797,
          -71.06310272216797,
          -71.0707015991211
         ],
         "xaxis": "x",
         "y": [
          8.5,
          14,
          null,
          15,
          11.5,
          8,
          null,
          25,
          11.5,
          37,
          19.5,
          11,
          11.5,
          null,
          26.5,
          12.5,
          null,
          12.5,
          19.5,
          9.5,
          26.5,
          38.5,
          20.5,
          24,
          9.5,
          null,
          31,
          9,
          18,
          9.5,
          9,
          null,
          11.5,
          26.5,
          35,
          18,
          11.5,
          8.5,
          null,
          26,
          7,
          17,
          8.5,
          13,
          27.5,
          8.5,
          7,
          15,
          7,
          7,
          null,
          16,
          11,
          10.5,
          null,
          10.5,
          14,
          26.5,
          8,
          8,
          7.5,
          null,
          23,
          12,
          19,
          12,
          11,
          null,
          34,
          24,
          null,
          7,
          16,
          32,
          22,
          16.5,
          10.5,
          null,
          10.5,
          9.5,
          12.5,
          8,
          27,
          null,
          7.5,
          8,
          15.5,
          26.5,
          7.5,
          7.5,
          10.5,
          null,
          16,
          7.5,
          13,
          22,
          12,
          13,
          null,
          26.5,
          16,
          29.5,
          13,
          10,
          37,
          null,
          22,
          13,
          15,
          null,
          7.5,
          12,
          23,
          7,
          7.5,
          35,
          null,
          12.5,
          16,
          24,
          16,
          43.5,
          29.5,
          null,
          14,
          9.5,
          19.5,
          9.5,
          10.5,
          7,
          null,
          16,
          7.5,
          7,
          26,
          null,
          7,
          9.5,
          15,
          27.5,
          5.5,
          7,
          7.5,
          null,
          27,
          8,
          13,
          17.5,
          8,
          7.5,
          9.5,
          15,
          5.5,
          7.5,
          7.5,
          null,
          7.5,
          17.5,
          null,
          7.5,
          28,
          7.5,
          13,
          null,
          14.5,
          27,
          19,
          9.5,
          9.5,
          8.5,
          30.5,
          7,
          23,
          15.5,
          11.5,
          7.5,
          null,
          27.5,
          7.5,
          6.5,
          31.5,
          8,
          16,
          24,
          9.5,
          9.5,
          null,
          10.5,
          30.5,
          null,
          8.5,
          20.5,
          16,
          10.5,
          9.5,
          null,
          21.5,
          16,
          9.5,
          10,
          28,
          null,
          22,
          8.5,
          16.5,
          29,
          10.5,
          10.5,
          null,
          36.5,
          12.5,
          11,
          21,
          29.5,
          12.5,
          12,
          21.5,
          null,
          29,
          36,
          12.5,
          12.5,
          9.5,
          9.5,
          17,
          null,
          13.5,
          9.5,
          27.5,
          26.5,
          7,
          11.5,
          null,
          7.5,
          16,
          7,
          9.5,
          17.5,
          14,
          9.5,
          28.5,
          7.5,
          null,
          18,
          9.5,
          32,
          20.5,
          8.5,
          9.5,
          null,
          9,
          25,
          null,
          12.5,
          37,
          12.5,
          21.5,
          null,
          8.5,
          null,
          10.5,
          18,
          34,
          10.5,
          26,
          12.5,
          null,
          12.5,
          21.5,
          12.5,
          32,
          40.5,
          9.5,
          16,
          9.5,
          9,
          null,
          30.5,
          22.5,
          24.5,
          34,
          18.5,
          null,
          11.5,
          9,
          11.5,
          9,
          10.5,
          34,
          17.5,
          20.5,
          10.5,
          null,
          12,
          7.5,
          17.5,
          null,
          26.5,
          7.5,
          7.5,
          27.5,
          7,
          7,
          15,
          9,
          7,
          null,
          35,
          11,
          null,
          26.5,
          11,
          17.5,
          10,
          19.5,
          7.5,
          14,
          27,
          null,
          7.5,
          7.5,
          5.5,
          16,
          26,
          null,
          7,
          9.5,
          7,
          null,
          7,
          5.5,
          26,
          7,
          8.5,
          16,
          26.5,
          7.5,
          10.5,
          7.5,
          7.5,
          16,
          null,
          null,
          8,
          15,
          23,
          30.5,
          8,
          8,
          null,
          10,
          32,
          9.5,
          9.5,
          23.5,
          15,
          13,
          15,
          24,
          null,
          33,
          15,
          40.5,
          16.5,
          8,
          26,
          null,
          8,
          12.5,
          7.5,
          9.5,
          null,
          7,
          15,
          6.5,
          27.5,
          7,
          11.5,
          30.5,
          null,
          43,
          10,
          11.5,
          19.5,
          15,
          null,
          9,
          8.5,
          8.5,
          15,
          9,
          28.5,
          9,
          9,
          19,
          null,
          28.5,
          14,
          18.5,
          7.5,
          8.5,
          null,
          8.5,
          7.5,
          13.5,
          7.5,
          7.5,
          26,
          null,
          18,
          14,
          15,
          null,
          9.5,
          27.5,
          8.5,
          9.5,
          27.5,
          16,
          null,
          8,
          12,
          8,
          8,
          37,
          12,
          12,
          28.5,
          null,
          12,
          19.5,
          7.5,
          null,
          17.5,
          8,
          7.5,
          12,
          26.5,
          7.5,
          9,
          19,
          null,
          9,
          29.5,
          9,
          14,
          12.5,
          12,
          41,
          15,
          null,
          15,
          32.5,
          22,
          5.5,
          27.5,
          null,
          25,
          8.5,
          10.5,
          33,
          10.5,
          17,
          17,
          7.5,
          26.5,
          13,
          7.5,
          null,
          8,
          24,
          9.5,
          16.5,
          null,
          9.5,
          8.5,
          32.5,
          9,
          43,
          11.5,
          null,
          10,
          23,
          11.5,
          27.5,
          29.5,
          null,
          10.5,
          23,
          10.5,
          16.5,
          10,
          null,
          24,
          17.5,
          10.5,
          10.5,
          10,
          34,
          27.5,
          null,
          11,
          11.5,
          36,
          18.5,
          11.5,
          9,
          29.5,
          8,
          9,
          null,
          16,
          20.5,
          5.5,
          null,
          13.5,
          10,
          null,
          39.5,
          26,
          13.5,
          23,
          10.5,
          null,
          31.5,
          10,
          23,
          10.5,
          17,
          10.5,
          26,
          null,
          10.5,
          34,
          17.5,
          8,
          42,
          14,
          11,
          14,
          23.5,
          33.5,
          null,
          8.5,
          28,
          8.5,
          null,
          17.5,
          8,
          13.5,
          8.5,
          17,
          10.5,
          10.5,
          34,
          26,
          null,
          31.5,
          null,
          26,
          null,
          16,
          7,
          7,
          10.5,
          7,
          9.5,
          9.5,
          21.5,
          15,
          28.5,
          null,
          8,
          17.5,
          null,
          7.5,
          25.5,
          10.5,
          34,
          10.5,
          26.5,
          17.5,
          9.5,
          9.5,
          9.5,
          16,
          17,
          29.5,
          10.5,
          null,
          10.5,
          22.5,
          8.5,
          null,
          8.5,
          7.5,
          19,
          31.5,
          16,
          10.5,
          null,
          8,
          10.5,
          13,
          26.5,
          20.5,
          13,
          12.5,
          34,
          null,
          17.5,
          8.5,
          12,
          6.5,
          26.5,
          8.5,
          null,
          8,
          8,
          14,
          null,
          18.5,
          29.5,
          8,
          9.5,
          30.5,
          null,
          9.5,
          14,
          9,
          19.5,
          9.5,
          29.5,
          15,
          9.5,
          8.5,
          null,
          21.5,
          19.5,
          8,
          7.5,
          7.5,
          28,
          14,
          null,
          10.5,
          7,
          16,
          7,
          null,
          26,
          7,
          28,
          null,
          19.5,
          11.5,
          18,
          11.5,
          11,
          27,
          9.5,
          9.5,
          15,
          7.5,
          20.5,
          null,
          null,
          22.5,
          12.5,
          12.5,
          36,
          12.5,
          23.5,
          null,
          23,
          30.5,
          17.5,
          10,
          10.5,
          10.5,
          18,
          26,
          null,
          9.5,
          9.5,
          14,
          6.5,
          11.5,
          9.5,
          15,
          9,
          27.5,
          8,
          18,
          8,
          null,
          6.5,
          26,
          13.5,
          9,
          null,
          16,
          13,
          27,
          7,
          9,
          8.5,
          15,
          null,
          26.5,
          9.5,
          19.5,
          9.5,
          null,
          28.5,
          8.5,
          8.5,
          9,
          14,
          18,
          31.5,
          17,
          null,
          9.5,
          9.5,
          9,
          22.5,
          null,
          32,
          8.5,
          10.5,
          23,
          17.5,
          10.5,
          8.5,
          13,
          28,
          8.5,
          17.5,
          null,
          8.5,
          15,
          27.5,
          7.5,
          7.5,
          null,
          11.5,
          6.5,
          19.5,
          8.5,
          28,
          null,
          14.5,
          9,
          8.5,
          27,
          36,
          12,
          25,
          null,
          16,
          16,
          null,
          27,
          7,
          9.5,
          7,
          5.5,
          15.5,
          null,
          12,
          25,
          15,
          6.5,
          7,
          7,
          10.5,
          null,
          10,
          10.5,
          26,
          18.5,
          33,
          13,
          13,
          27.5,
          null,
          20.5,
          13,
          23.5,
          9,
          26.5,
          16.5,
          12.5,
          21.5,
          12,
          12.5,
          null,
          28,
          20.5,
          9.5,
          9,
          16,
          9.5,
          null,
          null,
          27,
          19.5,
          8,
          8.5,
          14,
          8.5,
          19.5,
          null,
          9,
          14,
          10,
          10,
          30.5,
          30.5,
          null,
          9.5,
          null,
          15,
          7.5,
          22.5,
          9.5,
          26.5,
          8.5,
          35,
          10.5,
          8.5,
          10.5,
          30.5,
          null,
          16,
          21.5,
          10,
          10.5,
          20.5,
          null,
          8.5,
          15,
          27,
          9.5,
          9.5,
          null,
          8,
          8,
          11.5,
          15.5,
          8,
          27,
          null,
          7.5,
          9,
          27.5,
          9,
          16.5,
          13,
          27.5,
          null,
          5.5,
          7,
          15,
          7,
          9.5,
          7.5,
          null,
          26.5,
          7.5,
          7.5,
          11.5,
          16,
          19.5,
          14.5,
          30.5,
          9,
          null,
          9.5,
          9.5,
          8.5,
          12,
          8.5,
          null,
          26.5,
          8.5,
          17,
          15.5,
          8.5,
          27,
          null,
          9,
          12,
          9,
          26.5,
          7.5,
          12,
          16,
          null,
          7.5,
          6.5,
          9,
          14,
          21.5,
          9.5,
          9.5,
          29.5,
          null,
          9.5,
          29.5,
          15,
          null,
          19.5,
          9.5,
          9,
          null,
          12,
          31.5,
          11.5,
          19,
          24,
          11.5,
          10.5,
          18,
          26,
          null,
          11,
          18.5,
          10.5,
          9.5,
          28.5,
          10,
          null,
          21.5,
          16,
          9.5,
          null,
          10,
          22.5,
          19.5,
          11,
          11,
          34,
          26,
          7,
          null,
          8.5,
          5.5,
          16,
          7,
          null,
          8.5,
          17.5,
          35,
          21.5,
          8.5,
          8.5,
          26,
          10.5,
          34,
          null,
          18,
          8,
          10.5,
          13,
          27,
          7.5,
          16,
          8.5,
          8.5,
          null,
          18.5,
          8.5,
          8.5,
          9,
          null,
          14,
          29,
          16,
          26,
          5.5,
          null,
          13,
          7.5,
          7.5,
          null,
          17,
          11,
          25,
          11,
          11,
          33,
          11.5,
          15,
          7.5,
          null,
          27.5,
          7.5,
          7.5
         ],
         "yaxis": "y"
        }
       ],
       "layout": {
        "legend": {
         "tracegroupgap": 0
        },
        "margin": {
         "t": 60
        },
        "template": {
         "data": {
          "bar": [
           {
            "error_x": {
             "color": "#2a3f5f"
            },
            "error_y": {
             "color": "#2a3f5f"
            },
            "marker": {
             "line": {
              "color": "#E5ECF6",
              "width": 0.5
             },
             "pattern": {
              "fillmode": "overlay",
              "size": 10,
              "solidity": 0.2
             }
            },
            "type": "bar"
           }
          ],
          "barpolar": [
           {
            "marker": {
             "line": {
              "color": "#E5ECF6",
              "width": 0.5
             },
             "pattern": {
              "fillmode": "overlay",
              "size": 10,
              "solidity": 0.2
             }
            },
            "type": "barpolar"
           }
          ],
          "carpet": [
           {
            "aaxis": {
             "endlinecolor": "#2a3f5f",
             "gridcolor": "white",
             "linecolor": "white",
             "minorgridcolor": "white",
             "startlinecolor": "#2a3f5f"
            },
            "baxis": {
             "endlinecolor": "#2a3f5f",
             "gridcolor": "white",
             "linecolor": "white",
             "minorgridcolor": "white",
             "startlinecolor": "#2a3f5f"
            },
            "type": "carpet"
           }
          ],
          "choropleth": [
           {
            "colorbar": {
             "outlinewidth": 0,
             "ticks": ""
            },
            "type": "choropleth"
           }
          ],
          "contour": [
           {
            "colorbar": {
             "outlinewidth": 0,
             "ticks": ""
            },
            "colorscale": [
             [
              0,
              "#0d0887"
             ],
             [
              0.1111111111111111,
              "#46039f"
             ],
             [
              0.2222222222222222,
              "#7201a8"
             ],
             [
              0.3333333333333333,
              "#9c179e"
             ],
             [
              0.4444444444444444,
              "#bd3786"
             ],
             [
              0.5555555555555556,
              "#d8576b"
             ],
             [
              0.6666666666666666,
              "#ed7953"
             ],
             [
              0.7777777777777778,
              "#fb9f3a"
             ],
             [
              0.8888888888888888,
              "#fdca26"
             ],
             [
              1,
              "#f0f921"
             ]
            ],
            "type": "contour"
           }
          ],
          "contourcarpet": [
           {
            "colorbar": {
             "outlinewidth": 0,
             "ticks": ""
            },
            "type": "contourcarpet"
           }
          ],
          "heatmap": [
           {
            "colorbar": {
             "outlinewidth": 0,
             "ticks": ""
            },
            "colorscale": [
             [
              0,
              "#0d0887"
             ],
             [
              0.1111111111111111,
              "#46039f"
             ],
             [
              0.2222222222222222,
              "#7201a8"
             ],
             [
              0.3333333333333333,
              "#9c179e"
             ],
             [
              0.4444444444444444,
              "#bd3786"
             ],
             [
              0.5555555555555556,
              "#d8576b"
             ],
             [
              0.6666666666666666,
              "#ed7953"
             ],
             [
              0.7777777777777778,
              "#fb9f3a"
             ],
             [
              0.8888888888888888,
              "#fdca26"
             ],
             [
              1,
              "#f0f921"
             ]
            ],
            "type": "heatmap"
           }
          ],
          "heatmapgl": [
           {
            "colorbar": {
             "outlinewidth": 0,
             "ticks": ""
            },
            "colorscale": [
             [
              0,
              "#0d0887"
             ],
             [
              0.1111111111111111,
              "#46039f"
             ],
             [
              0.2222222222222222,
              "#7201a8"
             ],
             [
              0.3333333333333333,
              "#9c179e"
             ],
             [
              0.4444444444444444,
              "#bd3786"
             ],
             [
              0.5555555555555556,
              "#d8576b"
             ],
             [
              0.6666666666666666,
              "#ed7953"
             ],
             [
              0.7777777777777778,
              "#fb9f3a"
             ],
             [
              0.8888888888888888,
              "#fdca26"
             ],
             [
              1,
              "#f0f921"
             ]
            ],
            "type": "heatmapgl"
           }
          ],
          "histogram": [
           {
            "marker": {
             "pattern": {
              "fillmode": "overlay",
              "size": 10,
              "solidity": 0.2
             }
            },
            "type": "histogram"
           }
          ],
          "histogram2d": [
           {
            "colorbar": {
             "outlinewidth": 0,
             "ticks": ""
            },
            "colorscale": [
             [
              0,
              "#0d0887"
             ],
             [
              0.1111111111111111,
              "#46039f"
             ],
             [
              0.2222222222222222,
              "#7201a8"
             ],
             [
              0.3333333333333333,
              "#9c179e"
             ],
             [
              0.4444444444444444,
              "#bd3786"
             ],
             [
              0.5555555555555556,
              "#d8576b"
             ],
             [
              0.6666666666666666,
              "#ed7953"
             ],
             [
              0.7777777777777778,
              "#fb9f3a"
             ],
             [
              0.8888888888888888,
              "#fdca26"
             ],
             [
              1,
              "#f0f921"
             ]
            ],
            "type": "histogram2d"
           }
          ],
          "histogram2dcontour": [
           {
            "colorbar": {
             "outlinewidth": 0,
             "ticks": ""
            },
            "colorscale": [
             [
              0,
              "#0d0887"
             ],
             [
              0.1111111111111111,
              "#46039f"
             ],
             [
              0.2222222222222222,
              "#7201a8"
             ],
             [
              0.3333333333333333,
              "#9c179e"
             ],
             [
              0.4444444444444444,
              "#bd3786"
             ],
             [
              0.5555555555555556,
              "#d8576b"
             ],
             [
              0.6666666666666666,
              "#ed7953"
             ],
             [
              0.7777777777777778,
              "#fb9f3a"
             ],
             [
              0.8888888888888888,
              "#fdca26"
             ],
             [
              1,
              "#f0f921"
             ]
            ],
            "type": "histogram2dcontour"
           }
          ],
          "mesh3d": [
           {
            "colorbar": {
             "outlinewidth": 0,
             "ticks": ""
            },
            "type": "mesh3d"
           }
          ],
          "parcoords": [
           {
            "line": {
             "colorbar": {
              "outlinewidth": 0,
              "ticks": ""
             }
            },
            "type": "parcoords"
           }
          ],
          "pie": [
           {
            "automargin": true,
            "type": "pie"
           }
          ],
          "scatter": [
           {
            "fillpattern": {
             "fillmode": "overlay",
             "size": 10,
             "solidity": 0.2
            },
            "type": "scatter"
           }
          ],
          "scatter3d": [
           {
            "line": {
             "colorbar": {
              "outlinewidth": 0,
              "ticks": ""
             }
            },
            "marker": {
             "colorbar": {
              "outlinewidth": 0,
              "ticks": ""
             }
            },
            "type": "scatter3d"
           }
          ],
          "scattercarpet": [
           {
            "marker": {
             "colorbar": {
              "outlinewidth": 0,
              "ticks": ""
             }
            },
            "type": "scattercarpet"
           }
          ],
          "scattergeo": [
           {
            "marker": {
             "colorbar": {
              "outlinewidth": 0,
              "ticks": ""
             }
            },
            "type": "scattergeo"
           }
          ],
          "scattergl": [
           {
            "marker": {
             "colorbar": {
              "outlinewidth": 0,
              "ticks": ""
             }
            },
            "type": "scattergl"
           }
          ],
          "scattermapbox": [
           {
            "marker": {
             "colorbar": {
              "outlinewidth": 0,
              "ticks": ""
             }
            },
            "type": "scattermapbox"
           }
          ],
          "scatterpolar": [
           {
            "marker": {
             "colorbar": {
              "outlinewidth": 0,
              "ticks": ""
             }
            },
            "type": "scatterpolar"
           }
          ],
          "scatterpolargl": [
           {
            "marker": {
             "colorbar": {
              "outlinewidth": 0,
              "ticks": ""
             }
            },
            "type": "scatterpolargl"
           }
          ],
          "scatterternary": [
           {
            "marker": {
             "colorbar": {
              "outlinewidth": 0,
              "ticks": ""
             }
            },
            "type": "scatterternary"
           }
          ],
          "surface": [
           {
            "colorbar": {
             "outlinewidth": 0,
             "ticks": ""
            },
            "colorscale": [
             [
              0,
              "#0d0887"
             ],
             [
              0.1111111111111111,
              "#46039f"
             ],
             [
              0.2222222222222222,
              "#7201a8"
             ],
             [
              0.3333333333333333,
              "#9c179e"
             ],
             [
              0.4444444444444444,
              "#bd3786"
             ],
             [
              0.5555555555555556,
              "#d8576b"
             ],
             [
              0.6666666666666666,
              "#ed7953"
             ],
             [
              0.7777777777777778,
              "#fb9f3a"
             ],
             [
              0.8888888888888888,
              "#fdca26"
             ],
             [
              1,
              "#f0f921"
             ]
            ],
            "type": "surface"
           }
          ],
          "table": [
           {
            "cells": {
             "fill": {
              "color": "#EBF0F8"
             },
             "line": {
              "color": "white"
             }
            },
            "header": {
             "fill": {
              "color": "#C8D4E3"
             },
             "line": {
              "color": "white"
             }
            },
            "type": "table"
           }
          ]
         },
         "layout": {
          "annotationdefaults": {
           "arrowcolor": "#2a3f5f",
           "arrowhead": 0,
           "arrowwidth": 1
          },
          "autotypenumbers": "strict",
          "coloraxis": {
           "colorbar": {
            "outlinewidth": 0,
            "ticks": ""
           }
          },
          "colorscale": {
           "diverging": [
            [
             0,
             "#8e0152"
            ],
            [
             0.1,
             "#c51b7d"
            ],
            [
             0.2,
             "#de77ae"
            ],
            [
             0.3,
             "#f1b6da"
            ],
            [
             0.4,
             "#fde0ef"
            ],
            [
             0.5,
             "#f7f7f7"
            ],
            [
             0.6,
             "#e6f5d0"
            ],
            [
             0.7,
             "#b8e186"
            ],
            [
             0.8,
             "#7fbc41"
            ],
            [
             0.9,
             "#4d9221"
            ],
            [
             1,
             "#276419"
            ]
           ],
           "sequential": [
            [
             0,
             "#0d0887"
            ],
            [
             0.1111111111111111,
             "#46039f"
            ],
            [
             0.2222222222222222,
             "#7201a8"
            ],
            [
             0.3333333333333333,
             "#9c179e"
            ],
            [
             0.4444444444444444,
             "#bd3786"
            ],
            [
             0.5555555555555556,
             "#d8576b"
            ],
            [
             0.6666666666666666,
             "#ed7953"
            ],
            [
             0.7777777777777778,
             "#fb9f3a"
            ],
            [
             0.8888888888888888,
             "#fdca26"
            ],
            [
             1,
             "#f0f921"
            ]
           ],
           "sequentialminus": [
            [
             0,
             "#0d0887"
            ],
            [
             0.1111111111111111,
             "#46039f"
            ],
            [
             0.2222222222222222,
             "#7201a8"
            ],
            [
             0.3333333333333333,
             "#9c179e"
            ],
            [
             0.4444444444444444,
             "#bd3786"
            ],
            [
             0.5555555555555556,
             "#d8576b"
            ],
            [
             0.6666666666666666,
             "#ed7953"
            ],
            [
             0.7777777777777778,
             "#fb9f3a"
            ],
            [
             0.8888888888888888,
             "#fdca26"
            ],
            [
             1,
             "#f0f921"
            ]
           ]
          },
          "colorway": [
           "#636efa",
           "#EF553B",
           "#00cc96",
           "#ab63fa",
           "#FFA15A",
           "#19d3f3",
           "#FF6692",
           "#B6E880",
           "#FF97FF",
           "#FECB52"
          ],
          "font": {
           "color": "#2a3f5f"
          },
          "geo": {
           "bgcolor": "white",
           "lakecolor": "white",
           "landcolor": "#E5ECF6",
           "showlakes": true,
           "showland": true,
           "subunitcolor": "white"
          },
          "hoverlabel": {
           "align": "left"
          },
          "hovermode": "closest",
          "mapbox": {
           "style": "light"
          },
          "paper_bgcolor": "white",
          "plot_bgcolor": "#E5ECF6",
          "polar": {
           "angularaxis": {
            "gridcolor": "white",
            "linecolor": "white",
            "ticks": ""
           },
           "bgcolor": "#E5ECF6",
           "radialaxis": {
            "gridcolor": "white",
            "linecolor": "white",
            "ticks": ""
           }
          },
          "scene": {
           "xaxis": {
            "backgroundcolor": "#E5ECF6",
            "gridcolor": "white",
            "gridwidth": 2,
            "linecolor": "white",
            "showbackground": true,
            "ticks": "",
            "zerolinecolor": "white"
           },
           "yaxis": {
            "backgroundcolor": "#E5ECF6",
            "gridcolor": "white",
            "gridwidth": 2,
            "linecolor": "white",
            "showbackground": true,
            "ticks": "",
            "zerolinecolor": "white"
           },
           "zaxis": {
            "backgroundcolor": "#E5ECF6",
            "gridcolor": "white",
            "gridwidth": 2,
            "linecolor": "white",
            "showbackground": true,
            "ticks": "",
            "zerolinecolor": "white"
           }
          },
          "shapedefaults": {
           "line": {
            "color": "#2a3f5f"
           }
          },
          "ternary": {
           "aaxis": {
            "gridcolor": "white",
            "linecolor": "white",
            "ticks": ""
           },
           "baxis": {
            "gridcolor": "white",
            "linecolor": "white",
            "ticks": ""
           },
           "bgcolor": "#E5ECF6",
           "caxis": {
            "gridcolor": "white",
            "linecolor": "white",
            "ticks": ""
           }
          },
          "title": {
           "x": 0.05
          },
          "xaxis": {
           "automargin": true,
           "gridcolor": "white",
           "linecolor": "white",
           "ticks": "",
           "title": {
            "standoff": 15
           },
           "zerolinecolor": "white",
           "zerolinewidth": 2
          },
          "yaxis": {
           "automargin": true,
           "gridcolor": "white",
           "linecolor": "white",
           "ticks": "",
           "title": {
            "standoff": 15
           },
           "zerolinecolor": "white",
           "zerolinewidth": 2
          }
         }
        },
        "xaxis": {
         "anchor": "y",
         "domain": [
          0,
          1
         ],
         "title": {
          "text": "longitude"
         }
        },
        "yaxis": {
         "anchor": "x",
         "domain": [
          0,
          1
         ],
         "title": {
          "text": "price"
         }
        }
       }
      }
     },
     "metadata": {},
     "output_type": "display_data"
    }
   ],
   "source": [
    "psDF.plot.scatter(x='longitude', y='price')"
   ]
  },
  {
   "cell_type": "code",
   "execution_count": 14,
   "metadata": {},
   "outputs": [
    {
     "name": "stderr",
     "output_type": "stream",
     "text": [
      "C:\\Users\\Test\\AppData\\Local\\Packages\\PythonSoftwareFoundation.Python.3.10_qbz5n2kfra8p0\\LocalCache\\local-packages\\Python310\\site-packages\\pyspark\\sql\\pandas\\conversion.py:248: FutureWarning:\n",
      "\n",
      "Passing unit-less datetime64 dtype to .astype is deprecated and will raise in a future version. Pass 'datetime64[ns]' instead\n",
      "\n"
     ]
    },
    {
     "data": {
      "application/vnd.plotly.v1+json": {
       "config": {
        "plotlyServerURL": "https://plot.ly"
       },
       "data": [
        {
         "hovertemplate": "distance=%{x}<br>price=%{y}<extra></extra>",
         "legendgroup": "",
         "marker": {
          "color": "#636efa",
          "symbol": "circle"
         },
         "mode": "markers",
         "name": "",
         "orientation": "v",
         "showlegend": false,
         "type": "scatter",
         "x": [
          2.4800000190734863,
          2.4800000190734863,
          2.4800000190734863,
          1.6399999856948853,
          1.6399999856948853,
          1.6399999856948853,
          1.6399999856948853,
          1.6399999856948853,
          3.4700000286102295,
          3.4700000286102295,
          3.4700000286102295,
          3.4700000286102295,
          3.4700000286102295,
          3.4700000286102295,
          3.4700000286102295,
          2.3299999237060547,
          2.3299999237060547,
          2.3299999237060547,
          2.3299999237060547,
          2.3299999237060547,
          2.3299999237060547,
          2.3299999237060547,
          2.8299999237060547,
          3.4200000762939453,
          3.4200000762939453,
          3.4200000762939453,
          3.4200000762939453,
          3.4200000762939453,
          3.4200000762939453,
          3.4200000762939453,
          3.2200000286102295,
          3.2200000286102295,
          3.2200000286102295,
          3.2200000286102295,
          3.2200000286102295,
          3.2200000286102295,
          3.2200000286102295,
          0.9100000262260437,
          0.9100000262260437,
          0.9100000262260437,
          0.9100000262260437,
          0.9100000262260437,
          0.9100000262260437,
          0.9100000262260437,
          0.38999998569488525,
          0.38999998569488525,
          0.38999998569488525,
          0.38999998569488525,
          0.38999998569488525,
          0.38999998569488525,
          0.38999998569488525,
          0.49000000953674316,
          0.49000000953674316,
          0.49000000953674316,
          0.49000000953674316,
          0.49000000953674316,
          0.49000000953674316,
          0.49000000953674316,
          1.409999966621399,
          1.409999966621399,
          1.409999966621399,
          1.409999966621399,
          1.409999966621399,
          2.6600000858306885,
          2.6600000858306885,
          2.6600000858306885,
          2.6600000858306885,
          2.6600000858306885,
          2.6600000858306885,
          2.6600000858306885,
          1.2300000190734863,
          1.2300000190734863,
          2.619999885559082,
          2.799999952316284,
          2.799999952316284,
          2.799999952316284,
          2.799999952316284,
          2.799999952316284,
          2.799999952316284,
          2.799999952316284,
          1.2200000286102295,
          1.2200000286102295,
          1.2200000286102295,
          1.2200000286102295,
          1.2200000286102295,
          1.2200000286102295,
          1.2200000286102295,
          0.6100000143051147,
          0.6100000143051147,
          0.6100000143051147,
          0.6100000143051147,
          0.6100000143051147,
          0.6100000143051147,
          0.6100000143051147,
          1.25,
          1.25,
          1.25,
          1.25,
          1.25,
          1.25,
          1.25,
          4.480000019073486,
          4.480000019073486,
          4.480000019073486,
          4.480000019073486,
          4.480000019073486,
          4.480000019073486,
          4.480000019073486,
          1.340000033378601,
          1.340000033378601,
          1.340000033378601,
          1.340000033378601,
          1.340000033378601,
          1.340000033378601,
          1.340000033378601,
          4.400000095367432,
          4.400000095367432,
          4.400000095367432,
          4.400000095367432,
          4.400000095367432,
          4.400000095367432,
          4.400000095367432,
          2.5799999237060547,
          2.5799999237060547,
          2.5799999237060547,
          2.5799999237060547,
          2.5799999237060547,
          2.5799999237060547,
          0.9900000095367432,
          0.9900000095367432,
          0.9900000095367432,
          0.9900000095367432,
          0.9900000095367432,
          0.9900000095367432,
          0.9900000095367432,
          0.5600000023841858,
          0.5600000023841858,
          0.5600000023841858,
          0.5600000023841858,
          0.5600000023841858,
          0.5600000023841858,
          0.5600000023841858,
          1.5700000524520874,
          1.5700000524520874,
          1.5700000524520874,
          1.5700000524520874,
          1.5700000524520874,
          1.5700000524520874,
          1.5700000524520874,
          1.25,
          0.6200000047683716,
          0.6200000047683716,
          0.6200000047683716,
          0.6200000047683716,
          0.6200000047683716,
          0.6200000047683716,
          2.140000104904175,
          2.140000104904175,
          2.140000104904175,
          2.140000104904175,
          2.140000104904175,
          2.140000104904175,
          2.140000104904175,
          1.409999966621399,
          1.409999966621399,
          1.409999966621399,
          1.409999966621399,
          1.409999966621399,
          1.409999966621399,
          1.409999966621399,
          4.71999979019165,
          0.7200000286102295,
          4.71999979019165,
          1,
          1,
          1,
          1,
          1,
          1,
          1,
          2.7899999618530273,
          2.7899999618530273,
          2.7899999618530273,
          2.7899999618530273,
          2.7899999618530273,
          2.7899999618530273,
          2.7899999618530273,
          2.2699999809265137,
          2.2699999809265137,
          2.2699999809265137,
          2.2699999809265137,
          2.2699999809265137,
          2.2699999809265137,
          2.2699999809265137,
          2.6600000858306885,
          2.6600000858306885,
          2.6600000858306885,
          2.6600000858306885,
          2.6600000858306885,
          2.6600000858306885,
          2.6600000858306885,
          2.799999952316284,
          2.799999952316284,
          2.799999952316284,
          2.799999952316284,
          2.799999952316284,
          2.799999952316284,
          2.799999952316284,
          3.609999895095825,
          3.609999895095825,
          3.609999895095825,
          3.609999895095825,
          3.609999895095825,
          3.609999895095825,
          3.609999895095825,
          4.440000057220459,
          4.440000057220459,
          4.440000057220459,
          4.440000057220459,
          4.440000057220459,
          4.440000057220459,
          4.440000057220459,
          1.3600000143051147,
          1.3600000143051147,
          1.3600000143051147,
          1.3600000143051147,
          1.3600000143051147,
          1.3600000143051147,
          1.3600000143051147,
          1.0299999713897705,
          1.0299999713897705,
          1.0299999713897705,
          1.0299999713897705,
          1.0299999713897705,
          1.0299999713897705,
          1.0299999713897705,
          1.8899999856948853,
          1.8899999856948853,
          1.8899999856948853,
          1.8899999856948853,
          1.8899999856948853,
          1.8899999856948853,
          1.8899999856948853,
          2.859999895095825,
          2.859999895095825,
          2.859999895095825,
          2.859999895095825,
          2.859999895095825,
          2.859999895095825,
          2.859999895095825,
          3.4200000762939453,
          3.4200000762939453,
          3.4200000762939453,
          3.4200000762939453,
          3.4200000762939453,
          3.4200000762939453,
          3.4200000762939453,
          3.640000104904175,
          2.9800000190734863,
          2.9800000190734863,
          2.9800000190734863,
          2.9800000190734863,
          2.9800000190734863,
          2.9800000190734863,
          2.9800000190734863,
          4.550000190734863,
          4.550000190734863,
          4.550000190734863,
          4.550000190734863,
          4.550000190734863,
          4.550000190734863,
          4.550000190734863,
          2.4800000190734863,
          2.4800000190734863,
          2.4800000190734863,
          2.4800000190734863,
          2.4800000190734863,
          2.4800000190734863,
          2.4800000190734863,
          3.390000104904175,
          3.390000104904175,
          3.390000104904175,
          3.390000104904175,
          3.390000104904175,
          3.390000104904175,
          3.390000104904175,
          2.6600000858306885,
          2.6600000858306885,
          2.6600000858306885,
          2.6600000858306885,
          2.6600000858306885,
          2.6600000858306885,
          2.6600000858306885,
          1.559999942779541,
          1.559999942779541,
          1.559999942779541,
          1.559999942779541,
          1.559999942779541,
          1.559999942779541,
          1.559999942779541,
          0.5799999833106995,
          0.5799999833106995,
          0.5799999833106995,
          0.5799999833106995,
          0.5799999833106995,
          0.5799999833106995,
          0.5799999833106995,
          2.9600000381469727,
          2.9600000381469727,
          2.9600000381469727,
          2.9600000381469727,
          2.9600000381469727,
          2.9600000381469727,
          2.9600000381469727,
          2.140000104904175,
          2.140000104904175,
          2.140000104904175,
          2.140000104904175,
          2.140000104904175,
          2.140000104904175,
          2.140000104904175,
          0.5600000023841858,
          0.5600000023841858,
          0.5600000023841858,
          0.5600000023841858,
          0.5600000023841858,
          0.5600000023841858,
          0.5600000023841858,
          0.38999998569488525,
          0.38999998569488525,
          0.38999998569488525,
          0.38999998569488525,
          0.38999998569488525,
          0.38999998569488525,
          0.38999998569488525,
          0.6100000143051147,
          0.6100000143051147,
          0.6100000143051147,
          0.6100000143051147,
          0.6100000143051147,
          0.6100000143051147,
          0.6100000143051147,
          2.859999895095825,
          2.859999895095825,
          2.859999895095825,
          2.859999895095825,
          2.859999895095825,
          2.859999895095825,
          2.859999895095825,
          2.619999885559082,
          2.619999885559082,
          2.619999885559082,
          2.619999885559082,
          2.619999885559082,
          2.619999885559082,
          2.619999885559082,
          5.559999942779541,
          5.559999942779541,
          5.559999942779541,
          5.559999942779541,
          5.559999942779541,
          5.559999942779541,
          5.559999942779541,
          1.1799999475479126,
          1.1799999475479126,
          1.1799999475479126,
          1.1799999475479126,
          1.1799999475479126,
          1.1799999475479126,
          1.1799999475479126,
          0.7200000286102295,
          0.7200000286102295,
          0.7200000286102295,
          0.7200000286102295,
          0.7200000286102295,
          0.7200000286102295,
          0.7200000286102295,
          2.859999895095825,
          2.859999895095825,
          2.859999895095825,
          2.859999895095825,
          2.859999895095825,
          2.859999895095825,
          2.859999895095825,
          1.8899999856948853,
          1.8899999856948853,
          1.8899999856948853,
          1.8899999856948853,
          1.8899999856948853,
          1.5700000524520874,
          1.5700000524520874,
          1.5700000524520874,
          1.5700000524520874,
          1.5700000524520874,
          1.5700000524520874,
          1.5700000524520874,
          2.319999933242798,
          2.319999933242798,
          2.319999933242798,
          2.319999933242798,
          2.319999933242798,
          2.319999933242798,
          2.319999933242798,
          1.5700000524520874,
          1.5700000524520874,
          1.5700000524520874,
          1.5700000524520874,
          1.5700000524520874,
          1.5700000524520874,
          1.5700000524520874,
          1.4700000286102295,
          1.4700000286102295,
          1.4700000286102295,
          1.4700000286102295,
          1.4700000286102295,
          1.4700000286102295,
          1.4700000286102295,
          1.6100000143051147,
          1.6100000143051147,
          1.6100000143051147,
          1.6100000143051147,
          1.6100000143051147,
          1.6100000143051147,
          1.6100000143051147,
          3.0999999046325684,
          3.0999999046325684,
          3.0999999046325684,
          3.0999999046325684,
          3.0999999046325684,
          3.0999999046325684,
          3.0999999046325684,
          1.409999966621399,
          1.409999966621399,
          1.409999966621399,
          1.409999966621399,
          1.409999966621399,
          1.409999966621399,
          1.409999966621399,
          2.4800000190734863,
          2.1700000762939453,
          2.1700000762939453,
          2.1700000762939453,
          2.1700000762939453,
          2.1700000762939453,
          2.1700000762939453,
          2.1700000762939453,
          1.159999966621399,
          3.9600000381469727,
          3.9600000381469727,
          3.9600000381469727,
          3.9600000381469727,
          3.9600000381469727,
          3.9600000381469727,
          3.9600000381469727,
          0.49000000953674316,
          0.49000000953674316,
          2.7899999618530273,
          2.7899999618530273,
          2.7899999618530273,
          2.7899999618530273,
          2.7899999618530273,
          2.7899999618530273,
          2.7899999618530273,
          1.409999966621399,
          1.409999966621399,
          1.409999966621399,
          1.409999966621399,
          1.409999966621399,
          1.409999966621399,
          1.409999966621399,
          3.0399999618530273,
          3.0399999618530273,
          3.0399999618530273,
          3.0399999618530273,
          3.0399999618530273,
          3.0399999618530273,
          3.0399999618530273,
          1.409999966621399,
          4.400000095367432,
          4.400000095367432,
          4.400000095367432,
          4.400000095367432,
          4.400000095367432,
          4.400000095367432,
          4.400000095367432,
          2.5,
          2.5,
          2.5,
          2.5,
          2.5,
          2.5,
          2.5,
          3.009999990463257,
          3.009999990463257,
          3.009999990463257,
          3.009999990463257,
          3.009999990463257,
          3.009999990463257,
          3.009999990463257,
          4.550000190734863,
          4.550000190734863,
          4.550000190734863,
          4.550000190734863,
          4.550000190734863,
          4.550000190734863,
          4.550000190734863,
          2.859999895095825,
          2.859999895095825,
          2.859999895095825,
          2.859999895095825,
          2.859999895095825,
          2.859999895095825,
          2.859999895095825,
          1.25,
          1.25,
          4.550000190734863,
          4.550000190734863,
          4.550000190734863,
          4.550000190734863,
          4.550000190734863,
          4.550000190734863,
          4.550000190734863,
          2.3399999141693115,
          2.3399999141693115,
          2.3399999141693115,
          2.3399999141693115,
          2.3399999141693115,
          2.3399999141693115,
          2.3399999141693115,
          3.069999933242798,
          3.069999933242798,
          3.069999933242798,
          3.069999933242798,
          3.069999933242798,
          3.069999933242798,
          3.069999933242798,
          6.260000228881836,
          6.260000228881836,
          6.260000228881836,
          6.260000228881836,
          6.260000228881836,
          6.260000228881836,
          6.260000228881836,
          2.140000104904175,
          2.140000104904175,
          2.140000104904175,
          2.140000104904175,
          2.140000104904175,
          2.140000104904175,
          2.140000104904175,
          3.009999990463257,
          3.009999990463257,
          3.009999990463257,
          3.009999990463257,
          3.009999990463257,
          3.009999990463257,
          3.009999990463257,
          2.4600000381469727,
          2.4600000381469727,
          0.5600000023841858,
          0.5600000023841858,
          0.5600000023841858,
          0.5600000023841858,
          0.5600000023841858,
          0.5600000023841858,
          0.5600000023841858,
          2.5799999237060547,
          2.5799999237060547,
          2.5799999237060547,
          2.5799999237060547,
          2.5799999237060547,
          2.5799999237060547,
          2.5799999237060547,
          3.069999933242798,
          3.069999933242798,
          3.069999933242798,
          3.069999933242798,
          3.069999933242798,
          3.069999933242798,
          3.069999933242798,
          1.6100000143051147,
          1.6100000143051147,
          1.6100000143051147,
          1.6100000143051147,
          1.6100000143051147,
          1.6100000143051147,
          2.869999885559082,
          2.869999885559082,
          2.869999885559082,
          2.869999885559082,
          2.869999885559082,
          2.869999885559082,
          2.7899999618530273,
          2.7899999618530273,
          2.7899999618530273,
          2.7899999618530273,
          2.7899999618530273,
          2.7899999618530273,
          2.7899999618530273,
          2.799999952316284,
          2.799999952316284,
          2.799999952316284,
          2.799999952316284,
          2.490000009536743,
          2.490000009536743,
          2.490000009536743,
          2.490000009536743,
          2.490000009536743,
          2.490000009536743,
          2.490000009536743,
          1.340000033378601,
          1.340000033378601,
          1.340000033378601,
          1.340000033378601,
          1.340000033378601,
          1.340000033378601,
          1.340000033378601,
          2.140000104904175,
          2.140000104904175,
          2.140000104904175,
          2.140000104904175,
          2.140000104904175,
          2.140000104904175,
          2.140000104904175,
          2.5799999237060547,
          2.5799999237060547,
          2.5799999237060547,
          2.5799999237060547,
          2.5799999237060547,
          2.5799999237060547,
          2.5799999237060547,
          2.3299999237060547,
          2.3299999237060547,
          2.3299999237060547,
          2.3299999237060547,
          2.3299999237060547,
          2.3299999237060547,
          2.3299999237060547,
          2.140000104904175,
          2.140000104904175,
          2.140000104904175,
          2.140000104904175,
          2.140000104904175,
          2.140000104904175,
          2.140000104904175,
          0.49000000953674316,
          0.49000000953674316,
          0.49000000953674316,
          0.49000000953674316,
          0.49000000953674316,
          0.49000000953674316,
          0.49000000953674316,
          1.340000033378601,
          1.340000033378601,
          1.340000033378601,
          1.340000033378601,
          1.340000033378601,
          1.340000033378601,
          1.340000033378601,
          2.319999933242798,
          2.319999933242798,
          2.319999933242798,
          2.319999933242798,
          2.319999933242798,
          2.319999933242798,
          2.319999933242798,
          3.2200000286102295,
          3.2200000286102295,
          3.2200000286102295,
          3.2200000286102295,
          3.2200000286102295,
          3.2200000286102295,
          3.2200000286102295,
          3.049999952316284,
          3.049999952316284,
          3.049999952316284,
          3.049999952316284,
          3.049999952316284,
          3.049999952316284,
          3.049999952316284,
          1.1100000143051147,
          1.1100000143051147,
          1.1100000143051147,
          1.1100000143051147,
          1.1100000143051147,
          1.1100000143051147,
          1.1100000143051147,
          1.6100000143051147,
          2.6600000858306885,
          2.6600000858306885,
          2.6600000858306885,
          2.6600000858306885,
          1.1799999475479126,
          1.1799999475479126,
          1.1799999475479126,
          1.1799999475479126,
          1.1799999475479126,
          1.1799999475479126,
          1.1799999475479126,
          1.1100000143051147,
          1.1100000143051147,
          1.1100000143051147,
          1.1100000143051147,
          1.1100000143051147,
          1.1100000143051147,
          1.1100000143051147,
          2.2699999809265137,
          2.2699999809265137,
          2.2699999809265137,
          2.2699999809265137,
          2.2699999809265137,
          2.2699999809265137,
          2.2699999809265137,
          2.140000104904175,
          2.140000104904175,
          2.140000104904175,
          2.140000104904175,
          2.140000104904175,
          2.140000104904175,
          2.140000104904175,
          2.7799999713897705,
          2.7799999713897705,
          2.7799999713897705,
          2.7799999713897705,
          2.7799999713897705,
          2.7799999713897705,
          2.7799999713897705,
          3.0799999237060547,
          3.0799999237060547,
          3.0799999237060547,
          3.0799999237060547,
          3.0799999237060547,
          3.0799999237060547,
          3.0799999237060547,
          1.7899999618530273,
          1.7899999618530273,
          1.7899999618530273,
          1.7899999618530273,
          1.7899999618530273,
          1.7899999618530273,
          1.7899999618530273,
          0.9200000166893005,
          0.9200000166893005,
          0.9200000166893005,
          0.9200000166893005,
          0.9200000166893005,
          0.9200000166893005,
          0.9200000166893005,
          2.4600000381469727,
          2.4600000381469727,
          2.4600000381469727,
          2.4600000381469727,
          2.4600000381469727,
          2.4600000381469727,
          2.4600000381469727,
          3.299999952316284,
          3.299999952316284,
          3.299999952316284,
          3.299999952316284,
          3.299999952316284,
          3.299999952316284,
          3.299999952316284,
          0.38999998569488525,
          0.38999998569488525,
          0.38999998569488525,
          0.38999998569488525,
          0.38999998569488525,
          0.38999998569488525,
          0.38999998569488525,
          1.5,
          1.5,
          1.5,
          1.5,
          1.5,
          1.5,
          1.5,
          3.440000057220459,
          3.440000057220459,
          3.440000057220459,
          3.440000057220459,
          3.440000057220459,
          3.440000057220459,
          3.440000057220459,
          2.6600000858306885,
          2.6600000858306885,
          2.6600000858306885,
          2.6600000858306885,
          2.6600000858306885,
          2.6600000858306885,
          2.6600000858306885,
          1.6399999856948853,
          1.25,
          1.25,
          1.25,
          1.25,
          1.25,
          1.25,
          1.25,
          2.6600000858306885,
          2.6600000858306885,
          2.6600000858306885,
          2.6600000858306885,
          2.6600000858306885,
          2.6600000858306885,
          2.6600000858306885,
          2.1700000762939453,
          2.1700000762939453,
          2.1700000762939453,
          2.1700000762939453,
          2.1700000762939453,
          2.1700000762939453,
          2.1700000762939453,
          2.5799999237060547,
          2.5799999237060547,
          2.5799999237060547,
          2.5799999237060547,
          2.5799999237060547,
          2.5799999237060547,
          2.5799999237060547,
          2.319999933242798,
          3.009999990463257,
          2.319999933242798,
          2.319999933242798,
          2.319999933242798,
          2.319999933242798,
          2.319999933242798,
          2.319999933242798,
          3.009999990463257,
          3.009999990463257,
          3.009999990463257,
          2.7200000286102295,
          2.7200000286102295,
          2.7200000286102295,
          2.7200000286102295,
          2.7200000286102295,
          2.7200000286102295,
          2.7200000286102295,
          3.299999952316284,
          3.299999952316284,
          2.6600000858306885,
          2.6600000858306885,
          2.6600000858306885,
          2.6600000858306885,
          2.6600000858306885,
          2.6600000858306885,
          2.6600000858306885,
          1.159999966621399,
          1.159999966621399,
          1.159999966621399,
          1.159999966621399,
          1.159999966621399,
          1.159999966621399,
          1.159999966621399,
          1.159999966621399,
          1.159999966621399,
          1.159999966621399,
          1.159999966621399,
          1.159999966621399,
          1.159999966621399,
          1.159999966621399,
          0.38999998569488525,
          0.38999998569488525,
          0.38999998569488525,
          0.38999998569488525,
          0.38999998569488525,
          0.38999998569488525,
          0.38999998569488525,
          1.159999966621399,
          1.159999966621399,
          1.159999966621399,
          1.159999966621399,
          1.159999966621399,
          1.159999966621399,
          1.159999966621399,
          1.7899999618530273,
          1.7899999618530273,
          1.7899999618530273,
          1.7899999618530273,
          1.7899999618530273,
          1.7899999618530273,
          1.7899999618530273,
          1.340000033378601,
          1.340000033378601,
          1.340000033378601,
          1.340000033378601,
          1.340000033378601,
          1.340000033378601,
          1.340000033378601,
          0.8999999761581421,
          0.8999999761581421,
          0.8999999761581421,
          0.8999999761581421,
          0.8999999761581421,
          0.8999999761581421,
          0.8999999761581421,
          0.9200000166893005,
          0.9200000166893005,
          0.9200000166893005,
          0.9200000166893005,
          0.9200000166893005,
          0.9200000166893005,
          0.9200000166893005,
          2.319999933242798,
          2.319999933242798,
          2.319999933242798,
          2.319999933242798,
          2.319999933242798,
          2.319999933242798,
          2.319999933242798,
          2.559999942779541,
          2.559999942779541,
          2.559999942779541,
          2.559999942779541,
          2.559999942779541,
          2.559999942779541,
          2.559999942779541,
          2.799999952316284,
          2.799999952316284,
          2.799999952316284,
          2.799999952316284,
          2.799999952316284,
          2.799999952316284,
          2.799999952316284,
          1.409999966621399,
          1.409999966621399,
          1.409999966621399,
          1.409999966621399,
          1.409999966621399,
          1.409999966621399,
          1.409999966621399,
          2.619999885559082,
          2.619999885559082,
          2.619999885559082,
          2.619999885559082,
          2.619999885559082,
          2.619999885559082,
          2.619999885559082,
          3.240000009536743,
          3.240000009536743,
          3.240000009536743,
          3.240000009536743,
          3.240000009536743,
          3.240000009536743,
          3.240000009536743,
          0.38999998569488525,
          0.38999998569488525,
          0.38999998569488525,
          0.38999998569488525,
          0.38999998569488525,
          0.38999998569488525,
          0.38999998569488525,
          3.0399999618530273,
          3.0399999618530273,
          3.0399999618530273,
          3.0399999618530273,
          3.0399999618530273,
          3.0399999618530273,
          3.0399999618530273,
          3.069999933242798,
          3.069999933242798,
          3.069999933242798,
          3.069999933242798,
          3.069999933242798,
          3.069999933242798,
          3.069999933242798,
          1.0800000429153442,
          1.0800000429153442,
          1.0800000429153442,
          1.0800000429153442,
          1.0800000429153442,
          1.0800000429153442,
          1.0800000429153442,
          1.899999976158142,
          1.899999976158142,
          1.899999976158142,
          1.899999976158142,
          1.899999976158142,
          1.899999976158142,
          1.899999976158142,
          0.6299999952316284,
          0.6299999952316284,
          0.6299999952316284,
          0.6299999952316284,
          0.6299999952316284,
          0.6299999952316284,
          0.6299999952316284,
          2.630000114440918,
          2.630000114440918,
          2.630000114440918,
          2.630000114440918,
          2.630000114440918,
          2.630000114440918,
          2.630000114440918,
          1.159999966621399,
          1.159999966621399,
          1.159999966621399,
          1.159999966621399,
          1.159999966621399,
          1.159999966621399,
          1.159999966621399
         ],
         "xaxis": "x",
         "y": [
          8.5,
          14,
          null,
          15,
          11.5,
          8,
          null,
          25,
          11.5,
          37,
          19.5,
          11,
          11.5,
          null,
          26.5,
          12.5,
          null,
          12.5,
          19.5,
          9.5,
          26.5,
          38.5,
          20.5,
          24,
          9.5,
          null,
          31,
          9,
          18,
          9.5,
          9,
          null,
          11.5,
          26.5,
          35,
          18,
          11.5,
          8.5,
          null,
          26,
          7,
          17,
          8.5,
          13,
          27.5,
          8.5,
          7,
          15,
          7,
          7,
          null,
          16,
          11,
          10.5,
          null,
          10.5,
          14,
          26.5,
          8,
          8,
          7.5,
          null,
          23,
          12,
          19,
          12,
          11,
          null,
          34,
          24,
          null,
          7,
          16,
          32,
          22,
          16.5,
          10.5,
          null,
          10.5,
          9.5,
          12.5,
          8,
          27,
          null,
          7.5,
          8,
          15.5,
          26.5,
          7.5,
          7.5,
          10.5,
          null,
          16,
          7.5,
          13,
          22,
          12,
          13,
          null,
          26.5,
          16,
          29.5,
          13,
          10,
          37,
          null,
          22,
          13,
          15,
          null,
          7.5,
          12,
          23,
          7,
          7.5,
          35,
          null,
          12.5,
          16,
          24,
          16,
          43.5,
          29.5,
          null,
          14,
          9.5,
          19.5,
          9.5,
          10.5,
          7,
          null,
          16,
          7.5,
          7,
          26,
          null,
          7,
          9.5,
          15,
          27.5,
          5.5,
          7,
          7.5,
          null,
          27,
          8,
          13,
          17.5,
          8,
          7.5,
          9.5,
          15,
          5.5,
          7.5,
          7.5,
          null,
          7.5,
          17.5,
          null,
          7.5,
          28,
          7.5,
          13,
          null,
          14.5,
          27,
          19,
          9.5,
          9.5,
          8.5,
          30.5,
          7,
          23,
          15.5,
          11.5,
          7.5,
          null,
          27.5,
          7.5,
          6.5,
          31.5,
          8,
          16,
          24,
          9.5,
          9.5,
          null,
          10.5,
          30.5,
          null,
          8.5,
          20.5,
          16,
          10.5,
          9.5,
          null,
          21.5,
          16,
          9.5,
          10,
          28,
          null,
          22,
          8.5,
          16.5,
          29,
          10.5,
          10.5,
          null,
          36.5,
          12.5,
          11,
          21,
          29.5,
          12.5,
          12,
          21.5,
          null,
          29,
          36,
          12.5,
          12.5,
          9.5,
          9.5,
          17,
          null,
          13.5,
          9.5,
          27.5,
          26.5,
          7,
          11.5,
          null,
          7.5,
          16,
          7,
          9.5,
          17.5,
          14,
          9.5,
          28.5,
          7.5,
          null,
          18,
          9.5,
          32,
          20.5,
          8.5,
          9.5,
          null,
          9,
          25,
          null,
          12.5,
          37,
          12.5,
          21.5,
          null,
          8.5,
          null,
          10.5,
          18,
          34,
          10.5,
          26,
          12.5,
          null,
          12.5,
          21.5,
          12.5,
          32,
          40.5,
          9.5,
          16,
          9.5,
          9,
          null,
          30.5,
          22.5,
          24.5,
          34,
          18.5,
          null,
          11.5,
          9,
          11.5,
          9,
          10.5,
          34,
          17.5,
          20.5,
          10.5,
          null,
          12,
          7.5,
          17.5,
          null,
          26.5,
          7.5,
          7.5,
          27.5,
          7,
          7,
          15,
          9,
          7,
          null,
          35,
          11,
          null,
          26.5,
          11,
          17.5,
          10,
          19.5,
          7.5,
          14,
          27,
          null,
          7.5,
          7.5,
          5.5,
          16,
          26,
          null,
          7,
          9.5,
          7,
          null,
          7,
          5.5,
          26,
          7,
          8.5,
          16,
          26.5,
          7.5,
          10.5,
          7.5,
          7.5,
          16,
          null,
          null,
          8,
          15,
          23,
          30.5,
          8,
          8,
          null,
          10,
          32,
          9.5,
          9.5,
          23.5,
          15,
          13,
          15,
          24,
          null,
          33,
          15,
          40.5,
          16.5,
          8,
          26,
          null,
          8,
          12.5,
          7.5,
          9.5,
          null,
          7,
          15,
          6.5,
          27.5,
          7,
          11.5,
          30.5,
          null,
          43,
          10,
          11.5,
          19.5,
          15,
          null,
          9,
          8.5,
          8.5,
          15,
          9,
          28.5,
          9,
          9,
          19,
          null,
          28.5,
          14,
          18.5,
          7.5,
          8.5,
          null,
          8.5,
          7.5,
          13.5,
          7.5,
          7.5,
          26,
          null,
          18,
          14,
          15,
          null,
          9.5,
          27.5,
          8.5,
          9.5,
          27.5,
          16,
          null,
          8,
          12,
          8,
          8,
          37,
          12,
          12,
          28.5,
          null,
          12,
          19.5,
          7.5,
          null,
          17.5,
          8,
          7.5,
          12,
          26.5,
          7.5,
          9,
          19,
          null,
          9,
          29.5,
          9,
          14,
          12.5,
          12,
          41,
          15,
          null,
          15,
          32.5,
          22,
          5.5,
          27.5,
          null,
          25,
          8.5,
          10.5,
          33,
          10.5,
          17,
          17,
          7.5,
          26.5,
          13,
          7.5,
          null,
          8,
          24,
          9.5,
          16.5,
          null,
          9.5,
          8.5,
          32.5,
          9,
          43,
          11.5,
          null,
          10,
          23,
          11.5,
          27.5,
          29.5,
          null,
          10.5,
          23,
          10.5,
          16.5,
          10,
          null,
          24,
          17.5,
          10.5,
          10.5,
          10,
          34,
          27.5,
          null,
          11,
          11.5,
          36,
          18.5,
          11.5,
          9,
          29.5,
          8,
          9,
          null,
          16,
          20.5,
          5.5,
          null,
          13.5,
          10,
          null,
          39.5,
          26,
          13.5,
          23,
          10.5,
          null,
          31.5,
          10,
          23,
          10.5,
          17,
          10.5,
          26,
          null,
          10.5,
          34,
          17.5,
          8,
          42,
          14,
          11,
          14,
          23.5,
          33.5,
          null,
          8.5,
          28,
          8.5,
          null,
          17.5,
          8,
          13.5,
          8.5,
          17,
          10.5,
          10.5,
          34,
          26,
          null,
          31.5,
          null,
          26,
          null,
          16,
          7,
          7,
          10.5,
          7,
          9.5,
          9.5,
          21.5,
          15,
          28.5,
          null,
          8,
          17.5,
          null,
          7.5,
          25.5,
          10.5,
          34,
          10.5,
          26.5,
          17.5,
          9.5,
          9.5,
          9.5,
          16,
          17,
          29.5,
          10.5,
          null,
          10.5,
          22.5,
          8.5,
          null,
          8.5,
          7.5,
          19,
          31.5,
          16,
          10.5,
          null,
          8,
          10.5,
          13,
          26.5,
          20.5,
          13,
          12.5,
          34,
          null,
          17.5,
          8.5,
          12,
          6.5,
          26.5,
          8.5,
          null,
          8,
          8,
          14,
          null,
          18.5,
          29.5,
          8,
          9.5,
          30.5,
          null,
          9.5,
          14,
          9,
          19.5,
          9.5,
          29.5,
          15,
          9.5,
          8.5,
          null,
          21.5,
          19.5,
          8,
          7.5,
          7.5,
          28,
          14,
          null,
          10.5,
          7,
          16,
          7,
          null,
          26,
          7,
          28,
          null,
          19.5,
          11.5,
          18,
          11.5,
          11,
          27,
          9.5,
          9.5,
          15,
          7.5,
          20.5,
          null,
          null,
          22.5,
          12.5,
          12.5,
          36,
          12.5,
          23.5,
          null,
          23,
          30.5,
          17.5,
          10,
          10.5,
          10.5,
          18,
          26,
          null,
          9.5,
          9.5,
          14,
          6.5,
          11.5,
          9.5,
          15,
          9,
          27.5,
          8,
          18,
          8,
          null,
          6.5,
          26,
          13.5,
          9,
          null,
          16,
          13,
          27,
          7,
          9,
          8.5,
          15,
          null,
          26.5,
          9.5,
          19.5,
          9.5,
          null,
          28.5,
          8.5,
          8.5,
          9,
          14,
          18,
          31.5,
          17,
          null,
          9.5,
          9.5,
          9,
          22.5,
          null,
          32,
          8.5,
          10.5,
          23,
          17.5,
          10.5,
          8.5,
          13,
          28,
          8.5,
          17.5,
          null,
          8.5,
          15,
          27.5,
          7.5,
          7.5,
          null,
          11.5,
          6.5,
          19.5,
          8.5,
          28,
          null,
          14.5,
          9,
          8.5,
          27,
          36,
          12,
          25,
          null,
          16,
          16,
          null,
          27,
          7,
          9.5,
          7,
          5.5,
          15.5,
          null,
          12,
          25,
          15,
          6.5,
          7,
          7,
          10.5,
          null,
          10,
          10.5,
          26,
          18.5,
          33,
          13,
          13,
          27.5,
          null,
          20.5,
          13,
          23.5,
          9,
          26.5,
          16.5,
          12.5,
          21.5,
          12,
          12.5,
          null,
          28,
          20.5,
          9.5,
          9,
          16,
          9.5,
          null,
          null,
          27,
          19.5,
          8,
          8.5,
          14,
          8.5,
          19.5,
          null,
          9,
          14,
          10,
          10,
          30.5,
          30.5,
          null,
          9.5,
          null,
          15,
          7.5,
          22.5,
          9.5,
          26.5,
          8.5,
          35,
          10.5,
          8.5,
          10.5,
          30.5,
          null,
          16,
          21.5,
          10,
          10.5,
          20.5,
          null,
          8.5,
          15,
          27,
          9.5,
          9.5,
          null,
          8,
          8,
          11.5,
          15.5,
          8,
          27,
          null,
          7.5,
          9,
          27.5,
          9,
          16.5,
          13,
          27.5,
          null,
          5.5,
          7,
          15,
          7,
          9.5,
          7.5,
          null,
          26.5,
          7.5,
          7.5,
          11.5,
          16,
          19.5,
          14.5,
          30.5,
          9,
          null,
          9.5,
          9.5,
          8.5,
          12,
          8.5,
          null,
          26.5,
          8.5,
          17,
          15.5,
          8.5,
          27,
          null,
          9,
          12,
          9,
          26.5,
          7.5,
          12,
          16,
          null,
          7.5,
          6.5,
          9,
          14,
          21.5,
          9.5,
          9.5,
          29.5,
          null,
          9.5,
          29.5,
          15,
          null,
          19.5,
          9.5,
          9,
          null,
          12,
          31.5,
          11.5,
          19,
          24,
          11.5,
          10.5,
          18,
          26,
          null,
          11,
          18.5,
          10.5,
          9.5,
          28.5,
          10,
          null,
          21.5,
          16,
          9.5,
          null,
          10,
          22.5,
          19.5,
          11,
          11,
          34,
          26,
          7,
          null,
          8.5,
          5.5,
          16,
          7,
          null,
          8.5,
          17.5,
          35,
          21.5,
          8.5,
          8.5,
          26,
          10.5,
          34,
          null,
          18,
          8,
          10.5,
          13,
          27,
          7.5,
          16,
          8.5,
          8.5,
          null,
          18.5,
          8.5,
          8.5,
          9,
          null,
          14,
          29,
          16,
          26,
          5.5,
          null,
          13,
          7.5,
          7.5,
          null,
          17,
          11,
          25,
          11,
          11,
          33,
          11.5,
          15,
          7.5,
          null,
          27.5,
          7.5,
          7.5
         ],
         "yaxis": "y"
        }
       ],
       "layout": {
        "legend": {
         "tracegroupgap": 0
        },
        "margin": {
         "t": 60
        },
        "template": {
         "data": {
          "bar": [
           {
            "error_x": {
             "color": "#2a3f5f"
            },
            "error_y": {
             "color": "#2a3f5f"
            },
            "marker": {
             "line": {
              "color": "#E5ECF6",
              "width": 0.5
             },
             "pattern": {
              "fillmode": "overlay",
              "size": 10,
              "solidity": 0.2
             }
            },
            "type": "bar"
           }
          ],
          "barpolar": [
           {
            "marker": {
             "line": {
              "color": "#E5ECF6",
              "width": 0.5
             },
             "pattern": {
              "fillmode": "overlay",
              "size": 10,
              "solidity": 0.2
             }
            },
            "type": "barpolar"
           }
          ],
          "carpet": [
           {
            "aaxis": {
             "endlinecolor": "#2a3f5f",
             "gridcolor": "white",
             "linecolor": "white",
             "minorgridcolor": "white",
             "startlinecolor": "#2a3f5f"
            },
            "baxis": {
             "endlinecolor": "#2a3f5f",
             "gridcolor": "white",
             "linecolor": "white",
             "minorgridcolor": "white",
             "startlinecolor": "#2a3f5f"
            },
            "type": "carpet"
           }
          ],
          "choropleth": [
           {
            "colorbar": {
             "outlinewidth": 0,
             "ticks": ""
            },
            "type": "choropleth"
           }
          ],
          "contour": [
           {
            "colorbar": {
             "outlinewidth": 0,
             "ticks": ""
            },
            "colorscale": [
             [
              0,
              "#0d0887"
             ],
             [
              0.1111111111111111,
              "#46039f"
             ],
             [
              0.2222222222222222,
              "#7201a8"
             ],
             [
              0.3333333333333333,
              "#9c179e"
             ],
             [
              0.4444444444444444,
              "#bd3786"
             ],
             [
              0.5555555555555556,
              "#d8576b"
             ],
             [
              0.6666666666666666,
              "#ed7953"
             ],
             [
              0.7777777777777778,
              "#fb9f3a"
             ],
             [
              0.8888888888888888,
              "#fdca26"
             ],
             [
              1,
              "#f0f921"
             ]
            ],
            "type": "contour"
           }
          ],
          "contourcarpet": [
           {
            "colorbar": {
             "outlinewidth": 0,
             "ticks": ""
            },
            "type": "contourcarpet"
           }
          ],
          "heatmap": [
           {
            "colorbar": {
             "outlinewidth": 0,
             "ticks": ""
            },
            "colorscale": [
             [
              0,
              "#0d0887"
             ],
             [
              0.1111111111111111,
              "#46039f"
             ],
             [
              0.2222222222222222,
              "#7201a8"
             ],
             [
              0.3333333333333333,
              "#9c179e"
             ],
             [
              0.4444444444444444,
              "#bd3786"
             ],
             [
              0.5555555555555556,
              "#d8576b"
             ],
             [
              0.6666666666666666,
              "#ed7953"
             ],
             [
              0.7777777777777778,
              "#fb9f3a"
             ],
             [
              0.8888888888888888,
              "#fdca26"
             ],
             [
              1,
              "#f0f921"
             ]
            ],
            "type": "heatmap"
           }
          ],
          "heatmapgl": [
           {
            "colorbar": {
             "outlinewidth": 0,
             "ticks": ""
            },
            "colorscale": [
             [
              0,
              "#0d0887"
             ],
             [
              0.1111111111111111,
              "#46039f"
             ],
             [
              0.2222222222222222,
              "#7201a8"
             ],
             [
              0.3333333333333333,
              "#9c179e"
             ],
             [
              0.4444444444444444,
              "#bd3786"
             ],
             [
              0.5555555555555556,
              "#d8576b"
             ],
             [
              0.6666666666666666,
              "#ed7953"
             ],
             [
              0.7777777777777778,
              "#fb9f3a"
             ],
             [
              0.8888888888888888,
              "#fdca26"
             ],
             [
              1,
              "#f0f921"
             ]
            ],
            "type": "heatmapgl"
           }
          ],
          "histogram": [
           {
            "marker": {
             "pattern": {
              "fillmode": "overlay",
              "size": 10,
              "solidity": 0.2
             }
            },
            "type": "histogram"
           }
          ],
          "histogram2d": [
           {
            "colorbar": {
             "outlinewidth": 0,
             "ticks": ""
            },
            "colorscale": [
             [
              0,
              "#0d0887"
             ],
             [
              0.1111111111111111,
              "#46039f"
             ],
             [
              0.2222222222222222,
              "#7201a8"
             ],
             [
              0.3333333333333333,
              "#9c179e"
             ],
             [
              0.4444444444444444,
              "#bd3786"
             ],
             [
              0.5555555555555556,
              "#d8576b"
             ],
             [
              0.6666666666666666,
              "#ed7953"
             ],
             [
              0.7777777777777778,
              "#fb9f3a"
             ],
             [
              0.8888888888888888,
              "#fdca26"
             ],
             [
              1,
              "#f0f921"
             ]
            ],
            "type": "histogram2d"
           }
          ],
          "histogram2dcontour": [
           {
            "colorbar": {
             "outlinewidth": 0,
             "ticks": ""
            },
            "colorscale": [
             [
              0,
              "#0d0887"
             ],
             [
              0.1111111111111111,
              "#46039f"
             ],
             [
              0.2222222222222222,
              "#7201a8"
             ],
             [
              0.3333333333333333,
              "#9c179e"
             ],
             [
              0.4444444444444444,
              "#bd3786"
             ],
             [
              0.5555555555555556,
              "#d8576b"
             ],
             [
              0.6666666666666666,
              "#ed7953"
             ],
             [
              0.7777777777777778,
              "#fb9f3a"
             ],
             [
              0.8888888888888888,
              "#fdca26"
             ],
             [
              1,
              "#f0f921"
             ]
            ],
            "type": "histogram2dcontour"
           }
          ],
          "mesh3d": [
           {
            "colorbar": {
             "outlinewidth": 0,
             "ticks": ""
            },
            "type": "mesh3d"
           }
          ],
          "parcoords": [
           {
            "line": {
             "colorbar": {
              "outlinewidth": 0,
              "ticks": ""
             }
            },
            "type": "parcoords"
           }
          ],
          "pie": [
           {
            "automargin": true,
            "type": "pie"
           }
          ],
          "scatter": [
           {
            "fillpattern": {
             "fillmode": "overlay",
             "size": 10,
             "solidity": 0.2
            },
            "type": "scatter"
           }
          ],
          "scatter3d": [
           {
            "line": {
             "colorbar": {
              "outlinewidth": 0,
              "ticks": ""
             }
            },
            "marker": {
             "colorbar": {
              "outlinewidth": 0,
              "ticks": ""
             }
            },
            "type": "scatter3d"
           }
          ],
          "scattercarpet": [
           {
            "marker": {
             "colorbar": {
              "outlinewidth": 0,
              "ticks": ""
             }
            },
            "type": "scattercarpet"
           }
          ],
          "scattergeo": [
           {
            "marker": {
             "colorbar": {
              "outlinewidth": 0,
              "ticks": ""
             }
            },
            "type": "scattergeo"
           }
          ],
          "scattergl": [
           {
            "marker": {
             "colorbar": {
              "outlinewidth": 0,
              "ticks": ""
             }
            },
            "type": "scattergl"
           }
          ],
          "scattermapbox": [
           {
            "marker": {
             "colorbar": {
              "outlinewidth": 0,
              "ticks": ""
             }
            },
            "type": "scattermapbox"
           }
          ],
          "scatterpolar": [
           {
            "marker": {
             "colorbar": {
              "outlinewidth": 0,
              "ticks": ""
             }
            },
            "type": "scatterpolar"
           }
          ],
          "scatterpolargl": [
           {
            "marker": {
             "colorbar": {
              "outlinewidth": 0,
              "ticks": ""
             }
            },
            "type": "scatterpolargl"
           }
          ],
          "scatterternary": [
           {
            "marker": {
             "colorbar": {
              "outlinewidth": 0,
              "ticks": ""
             }
            },
            "type": "scatterternary"
           }
          ],
          "surface": [
           {
            "colorbar": {
             "outlinewidth": 0,
             "ticks": ""
            },
            "colorscale": [
             [
              0,
              "#0d0887"
             ],
             [
              0.1111111111111111,
              "#46039f"
             ],
             [
              0.2222222222222222,
              "#7201a8"
             ],
             [
              0.3333333333333333,
              "#9c179e"
             ],
             [
              0.4444444444444444,
              "#bd3786"
             ],
             [
              0.5555555555555556,
              "#d8576b"
             ],
             [
              0.6666666666666666,
              "#ed7953"
             ],
             [
              0.7777777777777778,
              "#fb9f3a"
             ],
             [
              0.8888888888888888,
              "#fdca26"
             ],
             [
              1,
              "#f0f921"
             ]
            ],
            "type": "surface"
           }
          ],
          "table": [
           {
            "cells": {
             "fill": {
              "color": "#EBF0F8"
             },
             "line": {
              "color": "white"
             }
            },
            "header": {
             "fill": {
              "color": "#C8D4E3"
             },
             "line": {
              "color": "white"
             }
            },
            "type": "table"
           }
          ]
         },
         "layout": {
          "annotationdefaults": {
           "arrowcolor": "#2a3f5f",
           "arrowhead": 0,
           "arrowwidth": 1
          },
          "autotypenumbers": "strict",
          "coloraxis": {
           "colorbar": {
            "outlinewidth": 0,
            "ticks": ""
           }
          },
          "colorscale": {
           "diverging": [
            [
             0,
             "#8e0152"
            ],
            [
             0.1,
             "#c51b7d"
            ],
            [
             0.2,
             "#de77ae"
            ],
            [
             0.3,
             "#f1b6da"
            ],
            [
             0.4,
             "#fde0ef"
            ],
            [
             0.5,
             "#f7f7f7"
            ],
            [
             0.6,
             "#e6f5d0"
            ],
            [
             0.7,
             "#b8e186"
            ],
            [
             0.8,
             "#7fbc41"
            ],
            [
             0.9,
             "#4d9221"
            ],
            [
             1,
             "#276419"
            ]
           ],
           "sequential": [
            [
             0,
             "#0d0887"
            ],
            [
             0.1111111111111111,
             "#46039f"
            ],
            [
             0.2222222222222222,
             "#7201a8"
            ],
            [
             0.3333333333333333,
             "#9c179e"
            ],
            [
             0.4444444444444444,
             "#bd3786"
            ],
            [
             0.5555555555555556,
             "#d8576b"
            ],
            [
             0.6666666666666666,
             "#ed7953"
            ],
            [
             0.7777777777777778,
             "#fb9f3a"
            ],
            [
             0.8888888888888888,
             "#fdca26"
            ],
            [
             1,
             "#f0f921"
            ]
           ],
           "sequentialminus": [
            [
             0,
             "#0d0887"
            ],
            [
             0.1111111111111111,
             "#46039f"
            ],
            [
             0.2222222222222222,
             "#7201a8"
            ],
            [
             0.3333333333333333,
             "#9c179e"
            ],
            [
             0.4444444444444444,
             "#bd3786"
            ],
            [
             0.5555555555555556,
             "#d8576b"
            ],
            [
             0.6666666666666666,
             "#ed7953"
            ],
            [
             0.7777777777777778,
             "#fb9f3a"
            ],
            [
             0.8888888888888888,
             "#fdca26"
            ],
            [
             1,
             "#f0f921"
            ]
           ]
          },
          "colorway": [
           "#636efa",
           "#EF553B",
           "#00cc96",
           "#ab63fa",
           "#FFA15A",
           "#19d3f3",
           "#FF6692",
           "#B6E880",
           "#FF97FF",
           "#FECB52"
          ],
          "font": {
           "color": "#2a3f5f"
          },
          "geo": {
           "bgcolor": "white",
           "lakecolor": "white",
           "landcolor": "#E5ECF6",
           "showlakes": true,
           "showland": true,
           "subunitcolor": "white"
          },
          "hoverlabel": {
           "align": "left"
          },
          "hovermode": "closest",
          "mapbox": {
           "style": "light"
          },
          "paper_bgcolor": "white",
          "plot_bgcolor": "#E5ECF6",
          "polar": {
           "angularaxis": {
            "gridcolor": "white",
            "linecolor": "white",
            "ticks": ""
           },
           "bgcolor": "#E5ECF6",
           "radialaxis": {
            "gridcolor": "white",
            "linecolor": "white",
            "ticks": ""
           }
          },
          "scene": {
           "xaxis": {
            "backgroundcolor": "#E5ECF6",
            "gridcolor": "white",
            "gridwidth": 2,
            "linecolor": "white",
            "showbackground": true,
            "ticks": "",
            "zerolinecolor": "white"
           },
           "yaxis": {
            "backgroundcolor": "#E5ECF6",
            "gridcolor": "white",
            "gridwidth": 2,
            "linecolor": "white",
            "showbackground": true,
            "ticks": "",
            "zerolinecolor": "white"
           },
           "zaxis": {
            "backgroundcolor": "#E5ECF6",
            "gridcolor": "white",
            "gridwidth": 2,
            "linecolor": "white",
            "showbackground": true,
            "ticks": "",
            "zerolinecolor": "white"
           }
          },
          "shapedefaults": {
           "line": {
            "color": "#2a3f5f"
           }
          },
          "ternary": {
           "aaxis": {
            "gridcolor": "white",
            "linecolor": "white",
            "ticks": ""
           },
           "baxis": {
            "gridcolor": "white",
            "linecolor": "white",
            "ticks": ""
           },
           "bgcolor": "#E5ECF6",
           "caxis": {
            "gridcolor": "white",
            "linecolor": "white",
            "ticks": ""
           }
          },
          "title": {
           "x": 0.05
          },
          "xaxis": {
           "automargin": true,
           "gridcolor": "white",
           "linecolor": "white",
           "ticks": "",
           "title": {
            "standoff": 15
           },
           "zerolinecolor": "white",
           "zerolinewidth": 2
          },
          "yaxis": {
           "automargin": true,
           "gridcolor": "white",
           "linecolor": "white",
           "ticks": "",
           "title": {
            "standoff": 15
           },
           "zerolinecolor": "white",
           "zerolinewidth": 2
          }
         }
        },
        "xaxis": {
         "anchor": "y",
         "domain": [
          0,
          1
         ],
         "title": {
          "text": "distance"
         }
        },
        "yaxis": {
         "anchor": "x",
         "domain": [
          0,
          1
         ],
         "title": {
          "text": "price"
         }
        }
       }
      }
     },
     "metadata": {},
     "output_type": "display_data"
    }
   ],
   "source": [
    "psDF.plot.scatter(x='distance', y='price')"
   ]
  },
  {
   "cell_type": "markdown",
   "metadata": {},
   "source": [
    "2. Clustering trip with location"
   ]
  },
  {
   "cell_type": "code",
   "execution_count": 15,
   "metadata": {},
   "outputs": [
    {
     "name": "stdout",
     "output_type": "stream",
     "text": [
      "+--------------------+-------------------+-----+--------+--------+---------+--------------------+-------------+--------------------+\n",
      "|                  id|           datetime|price|distance|latitude|longitude|              source|  destination|            features|\n",
      "+--------------------+-------------------+-----+--------+--------+---------+--------------------+-------------+--------------------+\n",
      "|4da07de9-4b22-40a...|2018-12-13 09:20:05|  8.5|    2.48| 42.3519| -71.0551|         Beacon Hill|South Station|[42.3518981933593...|\n",
      "|6dec3748-fd91-425...|2018-12-13 09:20:05| 14.0|    2.48| 42.3519| -71.0551|         Beacon Hill|South Station|[42.3518981933593...|\n",
      "|cee1694c-aceb-4f3...|2018-12-15 16:25:07| null|    2.48| 42.3647| -71.0542|         Beacon Hill|South Station|[42.3647003173828...|\n",
      "|27f7b6a6-3b7f-486...|2018-12-16 11:40:11| 15.0|    1.64| 42.3505| -71.1054|Northeastern Univ...|     Back Bay|[42.3504981994628...|\n",
      "|6eba3a53-6bde-431...|2018-12-16 11:40:11| 11.5|    1.64| 42.3505| -71.1054|Northeastern Univ...|     Back Bay|[42.3504981994628...|\n",
      "|8b251038-4be9-45f...|2018-12-16 11:40:11|  8.0|    1.64| 42.3505| -71.1054|Northeastern Univ...|     Back Bay|[42.3504981994628...|\n",
      "|ba991a12-54a8-4c3...|2018-12-01 04:02:59| null|    1.64| 42.3661| -71.0631|Northeastern Univ...|     Back Bay|[42.3661003112793...|\n",
      "|d2d7899b-aed6-48a...|2018-12-01 04:02:59| 25.0|    1.64| 42.3661| -71.0631|Northeastern Univ...|     Back Bay|[42.3661003112793...|\n",
      "|58b15443-1a18-44c...|2018-12-01 04:02:59| 11.5|    3.47| 42.3661| -71.0631|            Back Bay|    North End|[42.3661003112793...|\n",
      "|66ecb3b9-3aaf-4e3...|2018-12-01 04:02:59| 37.0|    3.47| 42.3661| -71.0631|            Back Bay|    North End|[42.3661003112793...|\n",
      "+--------------------+-------------------+-----+--------+--------+---------+--------------------+-------------+--------------------+\n",
      "only showing top 10 rows\n",
      "\n"
     ]
    }
   ],
   "source": [
    "feature_assembler = VectorAssembler(inputCols=[\"latitude\", \"longitude\"], outputCol=\"features\")\n",
    "uber_assembled_df = feature_assembler.transform(df)\n",
    "uber_assembled_df.show(10)"
   ]
  },
  {
   "cell_type": "code",
   "execution_count": 16,
   "metadata": {},
   "outputs": [
    {
     "name": "stdout",
     "output_type": "stream",
     "text": [
      "KMeans Cluster Centers: \n",
      "[ 42.33980179 -71.08920288]\n",
      "[ 42.21480179 -71.03299713]\n",
      "[ 42.35265316 -71.05917495]\n",
      "[ 42.36470032 -71.05419922]\n",
      "[ 42.35029984 -71.08100128]\n",
      "[ 42.34717141 -71.10316886]\n",
      "[ 42.36557844 -71.06402244]\n",
      "[ 42.35879898 -71.0707016 ]\n"
     ]
    }
   ],
   "source": [
    "train_df, test_df = uber_assembled_df.randomSplit([0.7, 0.3], seed=42)\n",
    "kmeans = KMeans(k=8, initMode='k-means||', featuresCol='features', predictionCol='cluster', maxIter=10)\n",
    "kmModel = kmeans.fit(train_df)\n",
    "print(\"KMeans Cluster Centers: \")\n",
    "for center in kmModel.clusterCenters():\n",
    "    print(center)"
   ]
  },
  {
   "cell_type": "code",
   "execution_count": 18,
   "metadata": {},
   "outputs": [
    {
     "name": "stdout",
     "output_type": "stream",
     "text": [
      "+--------------------+-------------------+-----+--------+--------+---------+--------------------+-------------+--------------------+-------+\n",
      "|                  id|           datetime|price|distance|latitude|longitude|              source|  destination|            features|cluster|\n",
      "+--------------------+-------------------+-----+--------+--------+---------+--------------------+-------------+--------------------+-------+\n",
      "|4da07de9-4b22-40a...|2018-12-13 09:20:05|  8.5|    2.48| 42.3519| -71.0551|         Beacon Hill|South Station|[42.3518981933593...|      2|\n",
      "|6dec3748-fd91-425...|2018-12-13 09:20:05| 14.0|    2.48| 42.3519| -71.0551|         Beacon Hill|South Station|[42.3518981933593...|      2|\n",
      "|cee1694c-aceb-4f3...|2018-12-15 16:25:07| null|    2.48| 42.3647| -71.0542|         Beacon Hill|South Station|[42.3647003173828...|      3|\n",
      "|27f7b6a6-3b7f-486...|2018-12-16 11:40:11| 15.0|    1.64| 42.3505| -71.1054|Northeastern Univ...|     Back Bay|[42.3504981994628...|      5|\n",
      "|6eba3a53-6bde-431...|2018-12-16 11:40:11| 11.5|    1.64| 42.3505| -71.1054|Northeastern Univ...|     Back Bay|[42.3504981994628...|      5|\n",
      "|8b251038-4be9-45f...|2018-12-16 11:40:11|  8.0|    1.64| 42.3505| -71.1054|Northeastern Univ...|     Back Bay|[42.3504981994628...|      5|\n",
      "|ba991a12-54a8-4c3...|2018-12-01 04:02:59| null|    1.64| 42.3661| -71.0631|Northeastern Univ...|     Back Bay|[42.3661003112793...|      6|\n",
      "|d2d7899b-aed6-48a...|2018-12-01 04:02:59| 25.0|    1.64| 42.3661| -71.0631|Northeastern Univ...|     Back Bay|[42.3661003112793...|      6|\n",
      "|58b15443-1a18-44c...|2018-12-01 04:02:59| 11.5|    3.47| 42.3661| -71.0631|            Back Bay|    North End|[42.3661003112793...|      6|\n",
      "|66ecb3b9-3aaf-4e3...|2018-12-01 04:02:59| 37.0|    3.47| 42.3661| -71.0631|            Back Bay|    North End|[42.3661003112793...|      6|\n",
      "+--------------------+-------------------+-----+--------+--------+---------+--------------------+-------------+--------------------+-------+\n",
      "only showing top 10 rows\n",
      "\n"
     ]
    }
   ],
   "source": [
    "test_preds = kmModel.transform(uber_assembled_df)\n",
    "test_preds.show(10)"
   ]
  },
  {
   "cell_type": "code",
   "execution_count": 19,
   "metadata": {},
   "outputs": [
    {
     "name": "stderr",
     "output_type": "stream",
     "text": [
      "C:\\Users\\Test\\AppData\\Local\\Packages\\PythonSoftwareFoundation.Python.3.10_qbz5n2kfra8p0\\LocalCache\\local-packages\\Python310\\site-packages\\pyspark\\sql\\pandas\\conversion.py:474: FutureWarning:\n",
      "\n",
      "iteritems is deprecated and will be removed in a future version. Use .items instead.\n",
      "\n",
      "C:\\Users\\Test\\AppData\\Local\\Packages\\PythonSoftwareFoundation.Python.3.10_qbz5n2kfra8p0\\LocalCache\\local-packages\\Python310\\site-packages\\pyspark\\sql\\pandas\\conversion.py:486: FutureWarning:\n",
      "\n",
      "iteritems is deprecated and will be removed in a future version. Use .items instead.\n",
      "\n"
     ]
    }
   ],
   "source": [
    "names = []\n",
    "listname = (test_preds.select(\"cluster\", \"source\")\n",
    "        .groupBy(\"cluster\")\n",
    "        .agg(F.collect_set(\"source\").alias(\"source\")))\n",
    "listname = listname.toPandas()\n",
    "for index, row in listname.iterrows():\n",
    "  for name in row[\"source\"]:\n",
    "    if name not in names:\n",
    "      listname.at[index, \"source\"] = name\n",
    "      names.append(name)\n",
    "      break\n",
    "name = spark.createDataFrame(listname)"
   ]
  },
  {
   "cell_type": "code",
   "execution_count": 20,
   "metadata": {},
   "outputs": [
    {
     "name": "stdout",
     "output_type": "stream",
     "text": [
      "+----+-------+-----+-------+---------+\n",
      "|hour|cluster|count|cluster|   source|\n",
      "+----+-------+-----+-------+---------+\n",
      "|  13|      1| 3813|      1|North End|\n",
      "|   4|      1| 3225|      1|North End|\n",
      "|  14|      1|  983|      1|North End|\n",
      "|  23|      1| 5125|      1|North End|\n",
      "|  21|      1| 3836|      1|North End|\n",
      "|   0|      1|  483|      1|North End|\n",
      "|  16|      1| 2116|      1|North End|\n",
      "|   2|      1| 3921|      1|North End|\n",
      "|   8|      1| 2258|      1|North End|\n",
      "|  10|      1| 1038|      1|North End|\n",
      "+----+-------+-----+-------+---------+\n",
      "only showing top 10 rows\n",
      "\n"
     ]
    }
   ],
   "source": [
    "freq = (test_preds\n",
    "    .select(F.hour(\"datetime\").alias(\"hour\"), \"cluster\")\n",
    "    .groupBy([\"hour\", \"cluster\"])\n",
    "    .count()\n",
    "    .orderBy(F.desc(\"count\")))\n",
    "\n",
    "location = freq.join(name, freq.cluster == name.cluster, \"inner\")\n",
    "location.show(10)"
   ]
  },
  {
   "cell_type": "code",
   "execution_count": 21,
   "metadata": {},
   "outputs": [
    {
     "data": {
      "image/png": "[encoded data removed]",
      "text/plain": [
       "<Figure size 1800x400 with 1 Axes>"
      ]
     },
     "metadata": {},
     "output_type": "display_data"
    }
   ],
   "source": [
    "plt.figure(figsize=(18,4))\n",
    "sns.barplot(x=\"hour\", y=\"count\", hue=\"source\", data= location.toPandas());"
   ]
  },
  {
   "cell_type": "code",
   "execution_count": 22,
   "metadata": {},
   "outputs": [
    {
     "data": {
      "image/png": "[encoded data removed]",
      "text/plain": [
       "<Figure size 1800x400 with 1 Axes>"
      ]
     },
     "metadata": {},
     "output_type": "display_data"
    }
   ],
   "source": [
    "freq_cluster = (location.groupBy(\"source\")\n",
    "                  .agg(sum(\"count\").alias(\"value\")))\n",
    "plt.figure(figsize=(18, 4))\n",
    "sns.barplot(x=\"source\", y=\"value\", data= freq_cluster.toPandas())\n",
    "plt.title(\"Total Pickups By Cluster\");"
   ]
  },
  {
   "cell_type": "markdown",
   "metadata": {},
   "source": [
    "3. Build one model to predict price"
   ]
  },
  {
   "cell_type": "code",
   "execution_count": 35,
   "metadata": {},
   "outputs": [],
   "source": [
    "(trainingDataRF, testData) = dataset.randomSplit([0.7, 0.3])"
   ]
  },
  {
   "cell_type": "code",
   "execution_count": 36,
   "metadata": {},
   "outputs": [],
   "source": [
    "assembler = VectorAssembler(inputCols=[\"distance\", \"month\", \"hour\", \"day\"], outputCol=\"features\")\n",
    "rf = RandomForestRegressor(labelCol=\"price\", featuresCol=\"features\")\n",
    "pipeline = Pipeline(stages=[assembler, rf])"
   ]
  },
  {
   "cell_type": "code",
   "execution_count": 37,
   "metadata": {},
   "outputs": [
    {
     "name": "stdout",
     "output_type": "stream",
     "text": [
      "+------------------+-----+--------------------+\n",
      "|        prediction|price|            features|\n",
      "+------------------+-----+--------------------+\n",
      "|13.183853687893649|  7.0|[0.56000000238418...|\n",
      "|15.209505137476649|  8.0|[2.19000005722045...|\n",
      "|17.394662662357177|  8.5|[2.61999988555908...|\n",
      "|17.431601495451005|  9.5|[2.66000008583068...|\n",
      "|17.431601495451005| 10.0|[2.66000008583068...|\n",
      "+------------------+-----+--------------------+\n",
      "only showing top 5 rows\n",
      "\n"
     ]
    }
   ],
   "source": [
    "model = pipeline.fit(trainingDataRF)\n",
    "\n",
    "predictions = model.transform(testData)\n",
    "\n",
    "predictions.select(\"prediction\", \"price\", \"features\").show(5)"
   ]
  },
  {
   "cell_type": "code",
   "execution_count": 38,
   "metadata": {},
   "outputs": [
    {
     "name": "stdout",
     "output_type": "stream",
     "text": [
      "Root Mean Squared Error (RMSE) on test data = 8.06722\n",
      "RandomForestRegressionModel: uid=RandomForestRegressor_ce46b423322f, numTrees=20, numFeatures=4\n"
     ]
    }
   ],
   "source": [
    "# Select (prediction, true label) and compute test error\n",
    "evaluator = RegressionEvaluator(\n",
    "    labelCol=\"price\", predictionCol=\"prediction\", metricName=\"rmse\")\n",
    "rmse = evaluator.evaluate(predictions)\n",
    "print(\"Root Mean Squared Error (RMSE) on test data = %g\" % rmse)\n",
    "\n",
    "rfModel = model.stages[1]\n",
    "print(rfModel)  # summary only"
   ]
  },
  {
   "cell_type": "code",
   "execution_count": 39,
   "metadata": {},
   "outputs": [
    {
     "data": {
      "image/png": "[encoded data removed]",
      "text/plain": [
       "<Figure size 1800x400 with 1 Axes>"
      ]
     },
     "metadata": {},
     "output_type": "display_data"
    }
   ],
   "source": [
    "rfResult = predictions.select(\"price\", \"prediction\").toPandas()\n",
    "plt.plot(rfResult.price, rfResult.prediction, 'bo')\n",
    "plt.xlabel('Price')\n",
    "plt.ylabel('Prediction')\n",
    "plt.suptitle(\"Model Performance RMSE: %f\" % rmse)\n",
    "plt.show()"
   ]
  },
  {
   "cell_type": "markdown",
   "metadata": {},
   "source": [
    "4. Demo spark streaming kafka"
   ]
  },
  {
   "cell_type": "code",
   "execution_count": 40,
   "metadata": {},
   "outputs": [],
   "source": [
    "schema = StructType([\n",
    "    StructField(\"id\", StringType(), nullable=False),\n",
    "    StructField(\"datetime\", StringType(), nullable=False),\n",
    "    StructField(\"distance\", DoubleType(), nullable=False),\n",
    "    StructField(\"latitude\", DoubleType(), nullable=False),\n",
    "    StructField(\"longitude\", DoubleType(), nullable=False),\n",
    "    StructField(\"source\", StringType(), nullable=False),\n",
    "    StructField(\"destination\", StringType(), nullable=False)]\n",
    "  )"
   ]
  },
  {
   "cell_type": "code",
   "execution_count": 41,
   "metadata": {},
   "outputs": [
    {
     "name": "stdout",
     "output_type": "stream",
     "text": [
      "root\n",
      " |-- key: binary (nullable = true)\n",
      " |-- value: binary (nullable = true)\n",
      " |-- topic: string (nullable = true)\n",
      " |-- partition: integer (nullable = true)\n",
      " |-- offset: long (nullable = true)\n",
      " |-- timestamp: timestamp (nullable = true)\n",
      " |-- timestampType: integer (nullable = true)\n",
      "\n"
     ]
    }
   ],
   "source": [
    "dfStream = (spark\n",
    "  .readStream\n",
    "  .format(\"kafka\")\n",
    "  .option(\"kafka.bootstrap.servers\", \"localhost:9092\")\n",
    "  .option(\"subscribe\", \"uber\")\n",
    "  .option(\"startingOffsets\", \"latest\")\n",
    "  .option(\"failOnDataLoss\", \"false\")\n",
    "  .load())\n",
    "dfStream.printSchema()"
   ]
  },
  {
   "cell_type": "code",
   "execution_count": 54,
   "metadata": {},
   "outputs": [],
   "source": [
    "dfStream = dfStream.selectExpr(\"CAST(value AS STRING)\")\n",
    "dataStream = dfStream.select(from_json(col(\"value\"), schema).alias(\"data\")).select(\"data.*\")\n",
    "dataStream = dataStream.dropDuplicates()"
   ]
  },
  {
   "cell_type": "code",
   "execution_count": 55,
   "metadata": {},
   "outputs": [],
   "source": [
    "realData = createDataset(dataStream)\n",
    "trans_data = model.transform(realData)"
   ]
  },
  {
   "cell_type": "code",
   "execution_count": 56,
   "metadata": {},
   "outputs": [],
   "source": [
    "predictedData = trans_data.drop(\"month\", \"hour\", \"day\", \"weekday\", \"features\")"
   ]
  },
  {
   "cell_type": "code",
   "execution_count": null,
   "metadata": {},
   "outputs": [],
   "source": [
    "query = (predictedData.writeStream\n",
    "      .format(\"csv\")\n",
    "      .outputMode(\"append\")\n",
    "      .option(\"header\", True)\n",
    "      .trigger(processingTime=\"5 seconds\")\n",
    "      .option(\"path\", \"C:/Users/Test/Downloads/Bigdata/Bigdata/test\")\n",
    "      .option(\"checkpointLocation\", \"C:/Users/Test/Downloads/Bigdata/Bigdata/test\")\n",
    "      .start())"
   ]
  },
  {
   "cell_type": "code",
   "execution_count": 19,
   "metadata": {},
   "outputs": [],
   "source": [
    "def foreach_batch_function(df, epoch_id):\n",
    "  (df.write\n",
    "   .mode('append')\n",
    "  .format(\"jdbc\")\n",
    "  .option(\"url\", \"jdbc:postgresql://localhost/Uber\")\n",
    "  .option(\"driver\", \"org.postgresql.Driver\")\n",
    "  .option(\"dbtable\", \"test\")\n",
    "  .option(\"user\", \"postgres\")\n",
    "  .option(\"password\", \"12345\")\n",
    "  .save())\n",
    "  "
   ]
  },
  {
   "cell_type": "code",
   "execution_count": 61,
   "metadata": {},
   "outputs": [
    {
     "data": {
      "text/plain": [
       "False"
      ]
     },
     "execution_count": 61,
     "metadata": {},
     "output_type": "execute_result"
    },
    {
     "name": "stderr",
     "output_type": "stream",
     "text": [
      "ERROR:py4j.clientserver:There was an exception while executing the Python Proxy on the Python Side.\n",
      "Traceback (most recent call last):\n",
      "  File \"C:\\Users\\Test\\AppData\\Local\\Packages\\PythonSoftwareFoundation.Python.3.10_qbz5n2kfra8p0\\LocalCache\\local-packages\\Python310\\site-packages\\py4j\\clientserver.py\", line 617, in _call_proxy\n",
      "    return_value = getattr(self.pool[obj_id], method)(*params)\n",
      "  File \"C:\\Users\\Test\\AppData\\Local\\Packages\\PythonSoftwareFoundation.Python.3.10_qbz5n2kfra8p0\\LocalCache\\local-packages\\Python310\\site-packages\\pyspark\\sql\\utils.py\", line 272, in call\n",
      "    raise e\n",
      "  File \"C:\\Users\\Test\\AppData\\Local\\Packages\\PythonSoftwareFoundation.Python.3.10_qbz5n2kfra8p0\\LocalCache\\local-packages\\Python310\\site-packages\\pyspark\\sql\\utils.py\", line 269, in call\n",
      "    self.func(DataFrame(jdf, self.session), batch_id)\n",
      "  File \"C:\\Users\\Test\\AppData\\Local\\Temp\\ipykernel_16896\\3344050152.py\", line 10, in foreach_batch_function\n",
      "    .save())\n",
      "  File \"C:\\Users\\Test\\AppData\\Local\\Packages\\PythonSoftwareFoundation.Python.3.10_qbz5n2kfra8p0\\LocalCache\\local-packages\\Python310\\site-packages\\pyspark\\sql\\readwriter.py\", line 966, in save\n",
      "    self._jwrite.save()\n",
      "  File \"C:\\Users\\Test\\AppData\\Local\\Packages\\PythonSoftwareFoundation.Python.3.10_qbz5n2kfra8p0\\LocalCache\\local-packages\\Python310\\site-packages\\py4j\\java_gateway.py\", line 1321, in __call__\n",
      "    return_value = get_return_value(\n",
      "  File \"C:\\Users\\Test\\AppData\\Local\\Packages\\PythonSoftwareFoundation.Python.3.10_qbz5n2kfra8p0\\LocalCache\\local-packages\\Python310\\site-packages\\pyspark\\sql\\utils.py\", line 190, in deco\n",
      "    return f(*a, **kw)\n",
      "  File \"C:\\Users\\Test\\AppData\\Local\\Packages\\PythonSoftwareFoundation.Python.3.10_qbz5n2kfra8p0\\LocalCache\\local-packages\\Python310\\site-packages\\py4j\\protocol.py\", line 326, in get_return_value\n",
      "    raise Py4JJavaError(\n",
      "py4j.protocol.Py4JJavaError: An error occurred while calling o5165.save.\n",
      ": org.apache.spark.SparkException: Job aborted due to stage failure: Task 2 in stage 518.0 failed 1 times, most recent failure: Lost task 2.0 in stage 518.0 (TID 6472) (LAPTOP-06394R66 executor driver): java.sql.BatchUpdateException: Batch entry 0 INSERT INTO test (\"id\",\"datetime\",\"distance\",\"latitude\",\"longitude\",\"source\",\"destination\",\"prediction\") VALUES ('EZGP0J9ASB','2022-11-29 00:00:20.416927',2.5011933129918282,42.250823092059555,-70.20814013932387,'VZZN8XJZ4L','VSKHT16EDZ',16.743951694167567) was aborted: ERROR: duplicate key value violates unique constraint \"test_pkey\"\n",
      "  Detail: Key (id)=(EZGP0J9ASB) already exists.  Call getNextException to see other errors in the batch.\n",
      "\tat org.postgresql.jdbc.BatchResultHandler.handleError(BatchResultHandler.java:165)\n",
      "\tat org.postgresql.core.ResultHandlerDelegate.handleError(ResultHandlerDelegate.java:52)\n",
      "\tat org.postgresql.core.v3.QueryExecutorImpl.processResults(QueryExecutorImpl.java:2367)\n",
      "\tat org.postgresql.core.v3.QueryExecutorImpl.execute(QueryExecutorImpl.java:560)\n",
      "\tat org.postgresql.jdbc.PgStatement.internalExecuteBatch(PgStatement.java:893)\n",
      "\tat org.postgresql.jdbc.PgStatement.executeBatch(PgStatement.java:916)\n",
      "\tat org.postgresql.jdbc.PgPreparedStatement.executeBatch(PgPreparedStatement.java:1684)\n",
      "\tat org.apache.spark.sql.execution.datasources.jdbc.JdbcUtils$.savePartition(JdbcUtils.scala:713)\n",
      "\tat org.apache.spark.sql.execution.datasources.jdbc.JdbcUtils$.$anonfun$saveTable$1(JdbcUtils.scala:868)\n",
      "\tat org.apache.spark.sql.execution.datasources.jdbc.JdbcUtils$.$anonfun$saveTable$1$adapted(JdbcUtils.scala:867)\n",
      "\tat org.apache.spark.rdd.RDD.$anonfun$foreachPartition$2(RDD.scala:1011)\n",
      "\tat org.apache.spark.rdd.RDD.$anonfun$foreachPartition$2$adapted(RDD.scala:1011)\n",
      "\tat org.apache.spark.SparkContext.$anonfun$runJob$5(SparkContext.scala:2268)\n",
      "\tat org.apache.spark.scheduler.ResultTask.runTask(ResultTask.scala:90)\n",
      "\tat org.apache.spark.scheduler.Task.run(Task.scala:136)\n",
      "\tat org.apache.spark.executor.Executor$TaskRunner.$anonfun$run$3(Executor.scala:548)\n",
      "\tat org.apache.spark.util.Utils$.tryWithSafeFinally(Utils.scala:1504)\n",
      "\tat org.apache.spark.executor.Executor$TaskRunner.run(Executor.scala:551)\n",
      "\tat java.util.concurrent.ThreadPoolExecutor.runWorker(ThreadPoolExecutor.java:1149)\n",
      "\tat java.util.concurrent.ThreadPoolExecutor$Worker.run(ThreadPoolExecutor.java:624)\n",
      "\tat java.lang.Thread.run(Thread.java:750)\n",
      "Caused by: org.postgresql.util.PSQLException: ERROR: duplicate key value violates unique constraint \"test_pkey\"\n",
      "  Detail: Key (id)=(EZGP0J9ASB) already exists.\n",
      "\tat org.postgresql.core.v3.QueryExecutorImpl.receiveErrorResponse(QueryExecutorImpl.java:2676)\n",
      "\tat org.postgresql.core.v3.QueryExecutorImpl.processResults(QueryExecutorImpl.java:2366)\n",
      "\t... 18 more\n",
      "\n",
      "Driver stacktrace:\n",
      "\tat org.apache.spark.scheduler.DAGScheduler.failJobAndIndependentStages(DAGScheduler.scala:2672)\n",
      "\tat org.apache.spark.scheduler.DAGScheduler.$anonfun$abortStage$2(DAGScheduler.scala:2608)\n",
      "\tat org.apache.spark.scheduler.DAGScheduler.$anonfun$abortStage$2$adapted(DAGScheduler.scala:2607)\n",
      "\tat scala.collection.mutable.ResizableArray.foreach(ResizableArray.scala:62)\n",
      "\tat scala.collection.mutable.ResizableArray.foreach$(ResizableArray.scala:55)\n",
      "\tat scala.collection.mutable.ArrayBuffer.foreach(ArrayBuffer.scala:49)\n",
      "\tat org.apache.spark.scheduler.DAGScheduler.abortStage(DAGScheduler.scala:2607)\n",
      "\tat org.apache.spark.scheduler.DAGScheduler.$anonfun$handleTaskSetFailed$1(DAGScheduler.scala:1182)\n",
      "\tat org.apache.spark.scheduler.DAGScheduler.$anonfun$handleTaskSetFailed$1$adapted(DAGScheduler.scala:1182)\n",
      "\tat scala.Option.foreach(Option.scala:407)\n",
      "\tat org.apache.spark.scheduler.DAGScheduler.handleTaskSetFailed(DAGScheduler.scala:1182)\n",
      "\tat org.apache.spark.scheduler.DAGSchedulerEventProcessLoop.doOnReceive(DAGScheduler.scala:2860)\n",
      "\tat org.apache.spark.scheduler.DAGSchedulerEventProcessLoop.onReceive(DAGScheduler.scala:2802)\n",
      "\tat org.apache.spark.scheduler.DAGSchedulerEventProcessLoop.onReceive(DAGScheduler.scala:2791)\n",
      "\tat org.apache.spark.util.EventLoop$$anon$1.run(EventLoop.scala:49)\n",
      "\tat org.apache.spark.scheduler.DAGScheduler.runJob(DAGScheduler.scala:952)\n",
      "\tat org.apache.spark.SparkContext.runJob(SparkContext.scala:2228)\n",
      "\tat org.apache.spark.SparkContext.runJob(SparkContext.scala:2249)\n",
      "\tat org.apache.spark.SparkContext.runJob(SparkContext.scala:2268)\n",
      "\tat org.apache.spark.SparkContext.runJob(SparkContext.scala:2293)\n",
      "\tat org.apache.spark.rdd.RDD.$anonfun$foreachPartition$1(RDD.scala:1011)\n",
      "\tat org.apache.spark.rdd.RDDOperationScope$.withScope(RDDOperationScope.scala:151)\n",
      "\tat org.apache.spark.rdd.RDDOperationScope$.withScope(RDDOperationScope.scala:112)\n",
      "\tat org.apache.spark.rdd.RDD.withScope(RDD.scala:406)\n",
      "\tat org.apache.spark.rdd.RDD.foreachPartition(RDD.scala:1009)\n",
      "\tat org.apache.spark.sql.execution.datasources.jdbc.JdbcUtils$.saveTable(JdbcUtils.scala:867)\n",
      "\tat org.apache.spark.sql.execution.datasources.jdbc.JdbcRelationProvider.createRelation(JdbcRelationProvider.scala:70)\n",
      "\tat org.apache.spark.sql.execution.datasources.SaveIntoDataSourceCommand.run(SaveIntoDataSourceCommand.scala:47)\n",
      "\tat org.apache.spark.sql.execution.command.ExecutedCommandExec.sideEffectResult$lzycompute(commands.scala:75)\n",
      "\tat org.apache.spark.sql.execution.command.ExecutedCommandExec.sideEffectResult(commands.scala:73)\n",
      "\tat org.apache.spark.sql.execution.command.ExecutedCommandExec.executeCollect(commands.scala:84)\n",
      "\tat org.apache.spark.sql.execution.QueryExecution$$anonfun$eagerlyExecuteCommands$1.$anonfun$applyOrElse$1(QueryExecution.scala:98)\n",
      "\tat org.apache.spark.sql.execution.SQLExecution$.$anonfun$withNewExecutionId$6(SQLExecution.scala:109)\n",
      "\tat org.apache.spark.sql.execution.SQLExecution$.withSQLConfPropagated(SQLExecution.scala:169)\n",
      "\tat org.apache.spark.sql.execution.SQLExecution$.$anonfun$withNewExecutionId$1(SQLExecution.scala:95)\n",
      "\tat org.apache.spark.sql.SparkSession.withActive(SparkSession.scala:779)\n",
      "\tat org.apache.spark.sql.execution.SQLExecution$.withNewExecutionId(SQLExecution.scala:64)\n",
      "\tat org.apache.spark.sql.execution.QueryExecution$$anonfun$eagerlyExecuteCommands$1.applyOrElse(QueryExecution.scala:98)\n",
      "\tat org.apache.spark.sql.execution.QueryExecution$$anonfun$eagerlyExecuteCommands$1.applyOrElse(QueryExecution.scala:94)\n",
      "\tat org.apache.spark.sql.catalyst.trees.TreeNode.$anonfun$transformDownWithPruning$1(TreeNode.scala:584)\n",
      "\tat org.apache.spark.sql.catalyst.trees.CurrentOrigin$.withOrigin(TreeNode.scala:176)\n",
      "\tat org.apache.spark.sql.catalyst.trees.TreeNode.transformDownWithPruning(TreeNode.scala:584)\n",
      "\tat org.apache.spark.sql.catalyst.plans.logical.LogicalPlan.org$apache$spark$sql$catalyst$plans$logical$AnalysisHelper$$super$transformDownWithPruning(LogicalPlan.scala:30)\n",
      "\tat org.apache.spark.sql.catalyst.plans.logical.AnalysisHelper.transformDownWithPruning(AnalysisHelper.scala:267)\n",
      "\tat org.apache.spark.sql.catalyst.plans.logical.AnalysisHelper.transformDownWithPruning$(AnalysisHelper.scala:263)\n",
      "\tat org.apache.spark.sql.catalyst.plans.logical.LogicalPlan.transformDownWithPruning(LogicalPlan.scala:30)\n",
      "\tat org.apache.spark.sql.catalyst.plans.logical.LogicalPlan.transformDownWithPruning(LogicalPlan.scala:30)\n",
      "\tat org.apache.spark.sql.catalyst.trees.TreeNode.transformDown(TreeNode.scala:560)\n",
      "\tat org.apache.spark.sql.execution.QueryExecution.eagerlyExecuteCommands(QueryExecution.scala:94)\n",
      "\tat org.apache.spark.sql.execution.QueryExecution.commandExecuted$lzycompute(QueryExecution.scala:81)\n",
      "\tat org.apache.spark.sql.execution.QueryExecution.commandExecuted(QueryExecution.scala:79)\n",
      "\tat org.apache.spark.sql.execution.QueryExecution.assertCommandExecuted(QueryExecution.scala:116)\n",
      "\tat org.apache.spark.sql.DataFrameWriter.runCommand(DataFrameWriter.scala:860)\n",
      "\tat org.apache.spark.sql.DataFrameWriter.saveToV1Source(DataFrameWriter.scala:390)\n",
      "\tat org.apache.spark.sql.DataFrameWriter.saveInternal(DataFrameWriter.scala:363)\n",
      "\tat org.apache.spark.sql.DataFrameWriter.save(DataFrameWriter.scala:247)\n",
      "\tat sun.reflect.GeneratedMethodAccessor124.invoke(Unknown Source)\n",
      "\tat sun.reflect.DelegatingMethodAccessorImpl.invoke(DelegatingMethodAccessorImpl.java:43)\n",
      "\tat java.lang.reflect.Method.invoke(Method.java:498)\n",
      "\tat py4j.reflection.MethodInvoker.invoke(MethodInvoker.java:244)\n",
      "\tat py4j.reflection.ReflectionEngine.invoke(ReflectionEngine.java:357)\n",
      "\tat py4j.Gateway.invoke(Gateway.java:282)\n",
      "\tat py4j.commands.AbstractCommand.invokeMethod(AbstractCommand.java:132)\n",
      "\tat py4j.commands.CallCommand.execute(CallCommand.java:79)\n",
      "\tat py4j.ClientServerConnection.sendCommand(ClientServerConnection.java:244)\n",
      "\tat py4j.CallbackClient.sendCommand(CallbackClient.java:384)\n",
      "\tat py4j.CallbackClient.sendCommand(CallbackClient.java:356)\n",
      "\tat py4j.reflection.PythonProxyHandler.invoke(PythonProxyHandler.java:106)\n",
      "\tat com.sun.proxy.$Proxy36.call(Unknown Source)\n",
      "\tat org.apache.spark.sql.execution.streaming.sources.PythonForeachBatchHelper$.$anonfun$callForeachBatch$1(ForeachBatchSink.scala:51)\n",
      "\tat org.apache.spark.sql.execution.streaming.sources.PythonForeachBatchHelper$.$anonfun$callForeachBatch$1$adapted(ForeachBatchSink.scala:51)\n",
      "\tat org.apache.spark.sql.execution.streaming.sources.ForeachBatchSink.addBatch(ForeachBatchSink.scala:32)\n",
      "\tat org.apache.spark.sql.execution.streaming.MicroBatchExecution.$anonfun$runBatch$17(MicroBatchExecution.scala:666)\n",
      "\tat org.apache.spark.sql.execution.SQLExecution$.$anonfun$withNewExecutionId$6(SQLExecution.scala:109)\n",
      "\tat org.apache.spark.sql.execution.SQLExecution$.withSQLConfPropagated(SQLExecution.scala:169)\n",
      "\tat org.apache.spark.sql.execution.SQLExecution$.$anonfun$withNewExecutionId$1(SQLExecution.scala:95)\n",
      "\tat org.apache.spark.sql.SparkSession.withActive(SparkSession.scala:779)\n",
      "\tat org.apache.spark.sql.execution.SQLExecution$.withNewExecutionId(SQLExecution.scala:64)\n",
      "\tat org.apache.spark.sql.execution.streaming.MicroBatchExecution.$anonfun$runBatch$16(MicroBatchExecution.scala:664)\n",
      "\tat org.apache.spark.sql.execution.streaming.ProgressReporter.reportTimeTaken(ProgressReporter.scala:375)\n",
      "\tat org.apache.spark.sql.execution.streaming.ProgressReporter.reportTimeTaken$(ProgressReporter.scala:373)\n",
      "\tat org.apache.spark.sql.execution.streaming.StreamExecution.reportTimeTaken(StreamExecution.scala:68)\n",
      "\tat org.apache.spark.sql.execution.streaming.MicroBatchExecution.runBatch(MicroBatchExecution.scala:664)\n",
      "\tat org.apache.spark.sql.execution.streaming.MicroBatchExecution.$anonfun$runActivatedStream$2(MicroBatchExecution.scala:256)\n",
      "\tat scala.runtime.java8.JFunction0$mcV$sp.apply(JFunction0$mcV$sp.java:23)\n",
      "\tat org.apache.spark.sql.execution.streaming.ProgressReporter.reportTimeTaken(ProgressReporter.scala:375)\n",
      "\tat org.apache.spark.sql.execution.streaming.ProgressReporter.reportTimeTaken$(ProgressReporter.scala:373)\n",
      "\tat org.apache.spark.sql.execution.streaming.StreamExecution.reportTimeTaken(StreamExecution.scala:68)\n",
      "\tat org.apache.spark.sql.execution.streaming.MicroBatchExecution.$anonfun$runActivatedStream$1(MicroBatchExecution.scala:219)\n",
      "\tat org.apache.spark.sql.execution.streaming.ProcessingTimeExecutor.execute(TriggerExecutor.scala:67)\n",
      "\tat org.apache.spark.sql.execution.streaming.MicroBatchExecution.runActivatedStream(MicroBatchExecution.scala:213)\n",
      "\tat org.apache.spark.sql.execution.streaming.StreamExecution.$anonfun$runStream$1(StreamExecution.scala:307)\n",
      "\tat scala.runtime.java8.JFunction0$mcV$sp.apply(JFunction0$mcV$sp.java:23)\n",
      "\tat org.apache.spark.sql.SparkSession.withActive(SparkSession.scala:779)\n",
      "\tat org.apache.spark.sql.execution.streaming.StreamExecution.org$apache$spark$sql$execution$streaming$StreamExecution$$runStream(StreamExecution.scala:285)\n",
      "\tat org.apache.spark.sql.execution.streaming.StreamExecution$$anon$1.run(StreamExecution.scala:208)\n",
      "Caused by: java.sql.BatchUpdateException: Batch entry 0 INSERT INTO test (\"id\",\"datetime\",\"distance\",\"latitude\",\"longitude\",\"source\",\"destination\",\"prediction\") VALUES ('EZGP0J9ASB','2022-11-29 00:00:20.416927',2.5011933129918282,42.250823092059555,-70.20814013932387,'VZZN8XJZ4L','VSKHT16EDZ',16.743951694167567) was aborted: ERROR: duplicate key value violates unique constraint \"test_pkey\"\n",
      "  Detail: Key (id)=(EZGP0J9ASB) already exists.  Call getNextException to see other errors in the batch.\n",
      "\tat org.postgresql.jdbc.BatchResultHandler.handleError(BatchResultHandler.java:165)\n",
      "\tat org.postgresql.core.ResultHandlerDelegate.handleError(ResultHandlerDelegate.java:52)\n",
      "\tat org.postgresql.core.v3.QueryExecutorImpl.processResults(QueryExecutorImpl.java:2367)\n",
      "\tat org.postgresql.core.v3.QueryExecutorImpl.execute(QueryExecutorImpl.java:560)\n",
      "\tat org.postgresql.jdbc.PgStatement.internalExecuteBatch(PgStatement.java:893)\n",
      "\tat org.postgresql.jdbc.PgStatement.executeBatch(PgStatement.java:916)\n",
      "\tat org.postgresql.jdbc.PgPreparedStatement.executeBatch(PgPreparedStatement.java:1684)\n",
      "\tat org.apache.spark.sql.execution.datasources.jdbc.JdbcUtils$.savePartition(JdbcUtils.scala:713)\n",
      "\tat org.apache.spark.sql.execution.datasources.jdbc.JdbcUtils$.$anonfun$saveTable$1(JdbcUtils.scala:868)\n",
      "\tat org.apache.spark.sql.execution.datasources.jdbc.JdbcUtils$.$anonfun$saveTable$1$adapted(JdbcUtils.scala:867)\n",
      "\tat org.apache.spark.rdd.RDD.$anonfun$foreachPartition$2(RDD.scala:1011)\n",
      "\tat org.apache.spark.rdd.RDD.$anonfun$foreachPartition$2$adapted(RDD.scala:1011)\n",
      "\tat org.apache.spark.SparkContext.$anonfun$runJob$5(SparkContext.scala:2268)\n",
      "\tat org.apache.spark.scheduler.ResultTask.runTask(ResultTask.scala:90)\n",
      "\tat org.apache.spark.scheduler.Task.run(Task.scala:136)\n",
      "\tat org.apache.spark.executor.Executor$TaskRunner.$anonfun$run$3(Executor.scala:548)\n",
      "\tat org.apache.spark.util.Utils$.tryWithSafeFinally(Utils.scala:1504)\n",
      "\tat org.apache.spark.executor.Executor$TaskRunner.run(Executor.scala:551)\n",
      "\tat java.util.concurrent.ThreadPoolExecutor.runWorker(ThreadPoolExecutor.java:1149)\n",
      "\tat java.util.concurrent.ThreadPoolExecutor$Worker.run(ThreadPoolExecutor.java:624)\n",
      "\tat java.lang.Thread.run(Thread.java:750)\n",
      "Caused by: org.postgresql.util.PSQLException: ERROR: duplicate key value violates unique constraint \"test_pkey\"\n",
      "  Detail: Key (id)=(EZGP0J9ASB) already exists.\n",
      "\tat org.postgresql.core.v3.QueryExecutorImpl.receiveErrorResponse(QueryExecutorImpl.java:2676)\n",
      "\tat org.postgresql.core.v3.QueryExecutorImpl.processResults(QueryExecutorImpl.java:2366)\n",
      "\t... 18 more\n",
      "\n"
     ]
    }
   ],
   "source": [
    "(predictedData.writeStream\n",
    ".trigger(processingTime=\"2 seconds\")\n",
    ".foreachBatch(foreach_batch_function)\n",
    ".start()\n",
    ".awaitTermination(20))\n"
   ]
  }
 ],
 "metadata": {
  "kernelspec": {
   "display_name": "Python 3.10.8 64-bit (microsoft store)",
   "language": "python",
   "name": "python3"
  },
  "language_info": {
   "codemirror_mode": {
    "name": "ipython",
    "version": 3
   },
   "file_extension": ".py",
   "mimetype": "text/x-python",
   "name": "python",
   "nbconvert_exporter": "python",
   "pygments_lexer": "ipython3",
   "version": "3.10.8"
  },
  "orig_nbformat": 4,
  "vscode": {
   "interpreter": {
    "hash": "cb6005fed819b2f734edd29ca8aa9e1a6fc3fc4f1fdba67c49c0adc7e91a3d59"
   }
  }
 },
 "nbformat": 4,
 "nbformat_minor": 2
}
